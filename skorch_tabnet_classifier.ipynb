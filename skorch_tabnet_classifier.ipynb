{
 "cells": [
  {
   "cell_type": "markdown",
   "metadata": {},
   "source": [
    "# Using tabnet modules with skorch"
   ]
  },
  {
   "cell_type": "markdown",
   "metadata": {},
   "source": [
    "This is an example of how to use a tabnet classifier with skorch,\n",
    "as you might want to benefit from a tighter GridSearch integration,\n",
    "distributed grid-search, visual print logs or integration with\n",
    "experiment management services.\n",
    "\n",
    "As pytorch-tabnet is already very similar to skorch in its layout we can re-use much of the existing code\n",
    "to write our own skorch-tabnet wrapper.\n",
    "\n",
    "To keep things simple and comparable this notebook will be based on the example \n",
    "from:\n",
    "\n",
    "https://github.com/dreamquark-ai/tabnet/blob/develop/census_example.ipynb"
   ]
  },
  {
   "cell_type": "markdown",
   "metadata": {},
   "source": [
    "## data loading"
   ]
  },
  {
   "cell_type": "markdown",
   "metadata": {},
   "source": [
    "This section is taken 1:1 from the aforementioned example notebook with the one \n",
    "exception that we run the `y` values through a `LabelEncoder` before passing it \n",
    "further down to the model."
   ]
  },
  {
   "cell_type": "code",
   "execution_count": 1,
   "metadata": {},
   "outputs": [],
   "source": [
    "from sklearn.preprocessing import LabelEncoder\n",
    "\n",
    "import torch\n",
    "import pandas as pd\n",
    "import numpy as np\n",
    "np.random.seed(0)\n",
    "\n",
    "import os\n",
    "import wget\n",
    "from pathlib import Path\n",
    "\n",
    "from matplotlib import pyplot as plt\n",
    "%matplotlib inline"
   ]
  },
  {
   "cell_type": "code",
   "execution_count": 2,
   "metadata": {},
   "outputs": [],
   "source": [
    "url = \"https://archive.ics.uci.edu/ml/machine-learning-databases/adult/adult.data\"\n",
    "dataset_name = 'census-income'\n",
    "out = Path(os.getcwd()+'/data/'+dataset_name+'.csv')"
   ]
  },
  {
   "cell_type": "code",
   "execution_count": 3,
   "metadata": {},
   "outputs": [
    {
     "name": "stdout",
     "output_type": "stream",
     "text": [
      "File already exists.\n"
     ]
    }
   ],
   "source": [
    "out.parent.mkdir(parents=True, exist_ok=True)\n",
    "if out.exists():\n",
    "    print(\"File already exists.\")\n",
    "else:\n",
    "    print(\"Downloading file...\")\n",
    "    wget.download(url, out.as_posix())"
   ]
  },
  {
   "cell_type": "code",
   "execution_count": 4,
   "metadata": {},
   "outputs": [],
   "source": [
    "train = pd.read_csv(out)\n",
    "target = ' <=50K'\n",
    "if \"Set\" not in train.columns:\n",
    "    train[\"Set\"] = np.random.choice([\"train\", \"valid\", \"test\"], p =[.8, .1, .1], size=(train.shape[0],))\n",
    "\n",
    "train_indices = train[train.Set==\"train\"].index\n",
    "valid_indices = train[train.Set==\"valid\"].index\n",
    "test_indices = train[train.Set==\"test\"].index"
   ]
  },
  {
   "cell_type": "code",
   "execution_count": 5,
   "metadata": {},
   "outputs": [
    {
     "name": "stdout",
     "output_type": "stream",
     "text": [
      "39 73\n",
      " State-gov 9\n",
      " Bachelors 16\n",
      " 13 16\n",
      " Never-married 7\n",
      " Adm-clerical 15\n",
      " Not-in-family 6\n",
      " White 5\n",
      " Male 2\n",
      " 2174 119\n",
      " 0 92\n",
      " 40 94\n",
      " United-States 42\n",
      " <=50K 2\n",
      "Set 3\n"
     ]
    }
   ],
   "source": [
    "nunique = train.nunique()\n",
    "types = train.dtypes\n",
    "\n",
    "categorical_columns = []\n",
    "categorical_dims =  {}\n",
    "for col in train.columns:\n",
    "    if types[col] == 'object' or nunique[col] < 200:\n",
    "        print(col, train[col].nunique())\n",
    "        l_enc = LabelEncoder()\n",
    "        train[col] = train[col].fillna(\"VV_likely\")\n",
    "        train[col] = l_enc.fit_transform(train[col].values)\n",
    "        categorical_columns.append(col)\n",
    "        categorical_dims[col] = len(l_enc.classes_)\n",
    "    else:\n",
    "        train.fillna(train.loc[train_indices, col].mean(), inplace=True)"
   ]
  },
  {
   "cell_type": "code",
   "execution_count": 6,
   "metadata": {},
   "outputs": [],
   "source": [
    "# check that pipeline accepts strings\n",
    "train.loc[train[target]==0, target] = \"wealthy\"\n",
    "train.loc[train[target]==1, target] = \"not_wealthy\""
   ]
  },
  {
   "cell_type": "code",
   "execution_count": 7,
   "metadata": {},
   "outputs": [],
   "source": [
    "unused_feat = ['Set']\n",
    "\n",
    "features = [ col for col in train.columns if col not in unused_feat+[target]] \n",
    "\n",
    "cat_idxs = [ i for i, f in enumerate(features) if f in categorical_columns]\n",
    "\n",
    "cat_dims = [ categorical_dims[f] for i, f in enumerate(features) if f in categorical_columns]"
   ]
  },
  {
   "cell_type": "code",
   "execution_count": 8,
   "metadata": {},
   "outputs": [],
   "source": [
    "X_train = train[features].values[train_indices]\n",
    "y_train = train[target].values[train_indices]\n",
    "\n",
    "X_valid = train[features].values[valid_indices]\n",
    "y_valid = train[target].values[valid_indices]\n",
    "\n",
    "X_test = train[features].values[test_indices]\n",
    "y_test = train[target].values[test_indices]"
   ]
  },
  {
   "cell_type": "code",
   "execution_count": 9,
   "metadata": {},
   "outputs": [
    {
     "data": {
      "text/plain": [
       "LabelEncoder()"
      ]
     },
     "execution_count": 9,
     "metadata": {},
     "output_type": "execute_result"
    }
   ],
   "source": [
    "label_encoder = LabelEncoder()\n",
    "label_encoder.fit(y_train)"
   ]
  },
  {
   "cell_type": "code",
   "execution_count": 10,
   "metadata": {},
   "outputs": [],
   "source": [
    "y_train_enc = label_encoder.transform(y_train)\n",
    "y_valid_enc = label_encoder.transform(y_valid)"
   ]
  },
  {
   "cell_type": "markdown",
   "metadata": {},
   "source": [
    "## skorch tabnet port"
   ]
  },
  {
   "cell_type": "markdown",
   "metadata": {},
   "source": [
    "Under the hood tabnet is very similar to skorch as it, too, provides a sklearn wrapper.\n",
    "There are features, like `set_params` that are not as well supported which could make\n",
    "grid searches more complicated which is why you might be interested in a way to use\n",
    "skorch with the low-level tabnet modules instead of the highlevel interface.\n",
    "\n",
    "Here's a recipe for a classifier as an example for this."
   ]
  },
  {
   "cell_type": "code",
   "execution_count": 11,
   "metadata": {},
   "outputs": [],
   "source": [
    "import skorch\n",
    "from skorch.helper import predefined_split\n",
    "\n",
    "from sklearn.metrics import roc_auc_score\n",
    "\n",
    "import pytorch_tabnet\n",
    "from pytorch_tabnet.multiclass_utils import infer_output_dim\n",
    "from pytorch_tabnet.tab_network import TabNet\n",
    "from pytorch_tabnet.utils import create_explain_matrix\n",
    "\n",
    "from torch.nn import CrossEntropyLoss\n",
    "\n",
    "from scipy.sparse import csc_matrix"
   ]
  },
  {
   "cell_type": "markdown",
   "metadata": {},
   "source": [
    "Since tabnet provides high-level code for computing feature importances during training\n",
    "we need to have an equivalent for that. To implement this we create our own neural network\n",
    "instance which implements a hook that's called on end of training to compute feature importances and provides methods to do feature explanation.\n",
    "\n",
    "We base our `SkorchTabModel` on skorch's `NeuralNetClassifier` as we deal with an classification task (obviously) and this base class gives us features such as automatic\n",
    "inference of used classes (i.e. the `model.classes_` attribute) which sklearn depends\n",
    "on at times."
   ]
  },
  {
   "cell_type": "code",
   "execution_count": 12,
   "metadata": {},
   "outputs": [],
   "source": [
    "class SkorchTabModel(skorch.NeuralNetClassifier):\n",
    "    def __init__(\n",
    "        self,\n",
    "        criterion,\n",
    "        module=TabNet, \n",
    "        module__input_dim=100, \n",
    "        module__output_dim=5,\n",
    "        **kwargs,\n",
    "    ):\n",
    "        super().__init__(\n",
    "            module,\n",
    "            criterion=criterion,\n",
    "            module__input_dim=module__input_dim,\n",
    "            module__output_dim=module__output_dim,\n",
    "            **kwargs,\n",
    "        )\n",
    "        \n",
    "    def initialize_module(self):\n",
    "        \"\"\"Setup the network and explain matrix.\"\"\"\n",
    "        kwargs =  self.get_params_for('module')\n",
    "\n",
    "        self.module_ = TabNet(**kwargs).to(self.device)\n",
    "\n",
    "        self.reducing_matrix_ = create_explain_matrix(\n",
    "            self.module_.input_dim,\n",
    "            self.module_.cat_emb_dim,\n",
    "            self.module_.cat_idxs,\n",
    "            self.module_.post_embed_dim,\n",
    "        )\n",
    "        \n",
    "    def compute_feature_importances(self, X):\n",
    "        \"\"\"Compute global feature importance; based on tabnet code.\"\"\"      \n",
    "        feature_importances_ = np.zeros((self.module_.post_embed_dim))\n",
    "        \n",
    "        for (M_explain, masks) in self.forward_masks_iter(X):\n",
    "            feature_importances_ += M_explain.sum(dim=0).cpu().detach().numpy()\n",
    "\n",
    "        feature_importances_ = csc_matrix.dot(\n",
    "            feature_importances_, self.reducing_matrix_,\n",
    "        )\n",
    "        return feature_importances_ / np.sum(feature_importances_)\n",
    "        \n",
    "    def on_train_end(self, net, X, **kwargs):\n",
    "        # We compute feature importances every time fit() ends\n",
    "        self.feature_importances_ = self.compute_feature_importances(X)\n",
    "        super().on_train_end(net, X=X, **kwargs)\n",
    "        \n",
    "    def forward_masks_iter(self, X, training=False, device='cpu'):\n",
    "        # based on the forward_iter recipe in skorch.NeuralNet;\n",
    "        # basically the same but calls forward_masks() instead of forward()\n",
    "        dataset = self.get_dataset(X)\n",
    "        iterator = self.get_iterator(dataset, training=training)\n",
    "        for data in iterator:\n",
    "            Xi = skorch.dataset.unpack_data(data)[0]\n",
    "            Xi = skorch.utils.to_device(Xi, self.device)\n",
    "            with torch.set_grad_enabled(False):\n",
    "                yp = self.module_.forward_masks(Xi)\n",
    "                yield skorch.utils.to_device(yp, device=device)\n",
    "    \n",
    "    def explain(self, X):\n",
    "        \"\"\"\n",
    "        Return local explanation.\n",
    "        Taken almost exactly from tabnet code.\n",
    "\n",
    "        Parameters\n",
    "        ----------\n",
    "        X : tensor: `torch.Tensor`\n",
    "            Input data\n",
    "\n",
    "        Returns\n",
    "        -------\n",
    "        M_explain : matrix\n",
    "            Importance per sample, per columns.\n",
    "        masks : matrix\n",
    "            Sparse matrix showing attention masks used by network.\n",
    "        \"\"\"\n",
    "        res_explain = []\n",
    "        \n",
    "        for i, (M_explain, masks) in enumerate(self.forward_masks_iter(X)):\n",
    "            for key, value in masks.items():\n",
    "                masks[key] = csc_matrix.dot(\n",
    "                    value.cpu().detach().numpy(), self.reducing_matrix_\n",
    "                )\n",
    "\n",
    "            res_explain.append(\n",
    "                csc_matrix.dot(M_explain.cpu().detach().numpy(), self.reducing_matrix_)\n",
    "            )\n",
    "\n",
    "            if i == 0:\n",
    "                res_masks = masks\n",
    "            else:\n",
    "                for key, value in masks.items():\n",
    "                    res_masks[key] = np.vstack([res_masks[key], value])\n",
    "            \n",
    "        res_explain = np.vstack(res_explain)\n",
    "        return res_explain, res_masks\n",
    "    \n",
    "    def predict(self, X):\n",
    "        y_proba = self.predict_proba(X)\n",
    "        return y_proba.argmax(-1)"
   ]
  },
  {
   "cell_type": "markdown",
   "metadata": {},
   "source": [
    "tabnet enforces sparsity via the loss function (as an additional loss term) which\n",
    "is returned by the module. Since skorch defaults to expecting a single term loss\n",
    "we simply implement a criterion that can handle both terms returned by the module.\n",
    "To do this, we just leverage the existing `CrossEntropyLoss`, execute its \n",
    "`forward`-step and add the sparsity term based on the masks returned by the module."
   ]
  },
  {
   "cell_type": "code",
   "execution_count": 13,
   "metadata": {},
   "outputs": [],
   "source": [
    "class CrossEntropySparsityLoss(torch.nn.CrossEntropyLoss):\n",
    "    def __init__(self, lambda_sparse=1e-3):\n",
    "        super().__init__()\n",
    "        self.lambda_sparse = lambda_sparse\n",
    "        \n",
    "    def forward(self, y_pred, y_true):\n",
    "        output, M_loss = y_pred\n",
    "\n",
    "        loss = super().forward(output, y_true)\n",
    "        \n",
    "        # Add the overall sparsity loss\n",
    "        loss -= self.lambda_sparse * M_loss\n",
    "        \n",
    "        return loss"
   ]
  },
  {
   "cell_type": "markdown",
   "metadata": {},
   "source": [
    "In terms of parametrization we just copy the parameters over from the tabnet example notebook.\n",
    "Parameters that actually belong to the PyTorch module are now set directly via skorch's\n",
    "`module__<param>` notation.\n",
    "\n",
    "We also use skorch's `LRScheduler`, `EarlyStopping`, `GradientNormClipping` and `*Scoring`\n",
    "callbacks to re-implement the training regiment the original notebook uses.\n",
    "\n",
    "Note that for `EarlyStopping` to work we need a validation loss during training which we\n",
    "only have once we add validation data. The difference to the original notebook is that\n",
    "we supply this data at initialization time instead of training time via the `train_split`\n",
    "parameter.\n",
    "\n",
    "Having a validation split during train-time makes it possible to use `EpochScoring` with the sklearn `roc_auc` score\n",
    "so that we can monitor the target score during training as well.\n",
    "Since skorch caches the network's outputs by default, no recomputation\n",
    "is necessary and score computation is fast.\n",
    "\n",
    "Lastly, to take advantage of the early stopping, we checkpoint the model every time\n",
    "the the `roc_auc` score registered its best value yet. From this we can recover the\n",
    "best model after training, even when early stopping triggered 20 epochs later."
   ]
  },
  {
   "cell_type": "code",
   "execution_count": 14,
   "metadata": {},
   "outputs": [],
   "source": [
    "torch.manual_seed(0)\n",
    "\n",
    "skorch_clf = SkorchTabModel(\n",
    "    criterion=CrossEntropySparsityLoss,\n",
    "    \n",
    "    # Configure the module the same as in the tabnet example.\n",
    "    module__input_dim=X_train.shape[-1],\n",
    "    module__output_dim=infer_output_dim(y_train)[0],\n",
    "    module__cat_idxs=cat_idxs,\n",
    "    module__cat_dims=cat_dims,\n",
    "    module__cat_emb_dim=1,\n",
    "    module__mask_type='entmax',\n",
    "    module__virtual_batch_size=128,\n",
    "    \n",
    "    optimizer=torch.optim.Adam,\n",
    "    optimizer__lr=2e-2,\n",
    "    \n",
    "    batch_size=1024,\n",
    "    iterator_train__num_workers=0,\n",
    "    iterator_train__drop_last=False,\n",
    "    iterator_valid__num_workers=0,\n",
    "    iterator_valid__drop_last=False,\n",
    "    \n",
    "    callbacks=[\n",
    "        skorch.callbacks.LRScheduler(\n",
    "            policy=torch.optim.lr_scheduler.StepLR,\n",
    "            step_size=50,\n",
    "            gamma=0.9,\n",
    "        ),\n",
    "        skorch.callbacks.EarlyStopping(patience=20),\n",
    "        skorch.callbacks.GradientNormClipping(gradient_clip_value=1.),\n",
    "        skorch.callbacks.EpochScoring(\n",
    "            'roc_auc', name='val_roc_auc', lower_is_better=False,\n",
    "        ),\n",
    "        skorch.callbacks.Checkpoint(monitor='val_roc_auc_best'),\n",
    "    ],\n",
    "    \n",
    "    train_split=skorch.helper.predefined_split(\n",
    "        skorch.dataset.Dataset(X_valid, y_valid_enc)),\n",
    "    \n",
    "    # The actual number of epochs will be much lower due to EarlyStopping\n",
    "    max_epochs=1000,\n",
    "    \n",
    "    device='cuda',\n",
    ")"
   ]
  },
  {
   "cell_type": "code",
   "execution_count": 15,
   "metadata": {
    "scrolled": true
   },
   "outputs": [
    {
     "name": "stdout",
     "output_type": "stream",
     "text": [
      "  epoch    train_loss    val_roc_auc    valid_acc    valid_loss    cp      lr     dur\n",
      "-------  ------------  -------------  -----------  ------------  ----  ------  ------\n",
      "      1        \u001b[36m0.4923\u001b[0m         \u001b[32m0.7858\u001b[0m       \u001b[35m0.7678\u001b[0m        \u001b[31m0.4510\u001b[0m     +  0.0200  1.7736\n",
      "      2        \u001b[36m0.4203\u001b[0m         \u001b[32m0.8283\u001b[0m       \u001b[35m0.7895\u001b[0m        \u001b[31m0.4172\u001b[0m     +  0.0200  1.5999\n",
      "      3        \u001b[36m0.3933\u001b[0m         \u001b[32m0.8489\u001b[0m       \u001b[35m0.8100\u001b[0m        \u001b[31m0.4054\u001b[0m     +  0.0200  1.6388\n",
      "      4        \u001b[36m0.3667\u001b[0m         \u001b[32m0.8799\u001b[0m       \u001b[35m0.8292\u001b[0m        \u001b[31m0.3636\u001b[0m     +  0.0200  1.6323\n",
      "      5        \u001b[36m0.3486\u001b[0m         \u001b[32m0.8879\u001b[0m       \u001b[35m0.8311\u001b[0m        \u001b[31m0.3566\u001b[0m     +  0.0200  1.6902\n",
      "      6        \u001b[36m0.3361\u001b[0m         \u001b[32m0.8971\u001b[0m       \u001b[35m0.8395\u001b[0m        \u001b[31m0.3452\u001b[0m     +  0.0200  1.6289\n",
      "      7        \u001b[36m0.3264\u001b[0m         0.8968       0.8308        0.3479        0.0200  1.6241\n",
      "      8        \u001b[36m0.3173\u001b[0m         \u001b[32m0.9023\u001b[0m       \u001b[35m0.8404\u001b[0m        0.3471     +  0.0200  1.6586\n",
      "      9        \u001b[36m0.3080\u001b[0m         0.9015       0.8249        0.3678        0.0200  1.6811\n",
      "     10        \u001b[36m0.3016\u001b[0m         \u001b[32m0.9028\u001b[0m       0.8134        0.3908     +  0.0200  1.6618\n",
      "     11        \u001b[36m0.2941\u001b[0m         \u001b[32m0.9121\u001b[0m       0.8261        0.3655     +  0.0200  1.6293\n",
      "     12        \u001b[36m0.2917\u001b[0m         \u001b[32m0.9142\u001b[0m       0.8404        \u001b[31m0.3332\u001b[0m     +  0.0200  1.7248\n",
      "     13        \u001b[36m0.2882\u001b[0m         0.9140       0.8196        0.3576        0.0200  1.6848\n",
      "     14        \u001b[36m0.2852\u001b[0m         \u001b[32m0.9159\u001b[0m       0.8376        \u001b[31m0.3315\u001b[0m     +  0.0200  1.6638\n",
      "     15        \u001b[36m0.2837\u001b[0m         \u001b[32m0.9207\u001b[0m       \u001b[35m0.8507\u001b[0m        \u001b[31m0.3088\u001b[0m     +  0.0200  1.7124\n",
      "     16        \u001b[36m0.2793\u001b[0m         \u001b[32m0.9213\u001b[0m       \u001b[35m0.8510\u001b[0m        \u001b[31m0.3086\u001b[0m     +  0.0200  1.6656\n",
      "     17        \u001b[36m0.2770\u001b[0m         \u001b[32m0.9219\u001b[0m       \u001b[35m0.8532\u001b[0m        \u001b[31m0.3065\u001b[0m     +  0.0200  1.6661\n",
      "     18        \u001b[36m0.2757\u001b[0m         \u001b[32m0.9247\u001b[0m       0.8519        \u001b[31m0.2987\u001b[0m     +  0.0200  1.6512\n",
      "     19        \u001b[36m0.2729\u001b[0m         0.9238       \u001b[35m0.8690\u001b[0m        \u001b[31m0.2896\u001b[0m        0.0200  1.6005\n",
      "     20        0.2747         0.9227       0.8581        0.2954        0.0200  1.6377\n",
      "     21        0.2806         0.9226       \u001b[35m0.8749\u001b[0m        0.2897        0.0200  1.6251\n",
      "     22        0.2760         0.9247       0.8718        \u001b[31m0.2892\u001b[0m        0.0200  1.5989\n",
      "     23        0.2742         0.9242       0.8628        0.2947        0.0200  1.6164\n",
      "     24        0.2751         0.9211       0.8668        0.2942        0.0200  1.6597\n",
      "     25        0.2743         0.9097       0.8491        0.3750        0.0200  1.6699\n",
      "     26        \u001b[36m0.2718\u001b[0m         0.9245       0.8746        0.2939        0.0200  1.6097\n",
      "     27        \u001b[36m0.2692\u001b[0m         0.9244       0.8559        0.2946        0.0200  1.6671\n",
      "     28        \u001b[36m0.2683\u001b[0m         \u001b[32m0.9271\u001b[0m       0.8743        \u001b[31m0.2819\u001b[0m     +  0.0200  1.6235\n",
      "     29        \u001b[36m0.2659\u001b[0m         \u001b[32m0.9286\u001b[0m       \u001b[35m0.8795\u001b[0m        \u001b[31m0.2810\u001b[0m     +  0.0200  1.6472\n",
      "     30        0.2666         \u001b[32m0.9286\u001b[0m       0.8743        \u001b[31m0.2800\u001b[0m     +  0.0200  1.6603\n",
      "     31        \u001b[36m0.2642\u001b[0m         0.9261       0.8789        0.2908        0.0200  1.6271\n",
      "     32        0.2646         0.9253       0.8730        0.3013        0.0200  1.6779\n",
      "     33        \u001b[36m0.2636\u001b[0m         0.9282       0.8733        0.2863        0.0200  1.6814\n",
      "     34        0.2647         0.9255       0.8609        0.2921        0.0200  1.6074\n",
      "     35        0.2641         0.9272       0.8687        0.2850        0.0200  1.6268\n",
      "     36        \u001b[36m0.2609\u001b[0m         0.9276       0.8681        0.2820        0.0200  1.6527\n",
      "     37        \u001b[36m0.2602\u001b[0m         0.9248       0.8646        0.2896        0.0200  1.6350\n",
      "     38        \u001b[36m0.2588\u001b[0m         0.9270       0.8615        0.2852        0.0200  1.7001\n",
      "     39        \u001b[36m0.2565\u001b[0m         0.9270       0.8724        0.2878        0.0200  1.6461\n",
      "     40        0.2573         0.9245       0.8488        0.3014        0.0200  1.6283\n",
      "     41        0.2578         0.9238       0.8743        0.2998        0.0200  1.6473\n",
      "     42        \u001b[36m0.2561\u001b[0m         0.9272       0.8721        0.3037        0.0200  1.6871\n",
      "     43        \u001b[36m0.2554\u001b[0m         0.9239       0.8535        0.2959        0.0200  1.6426\n",
      "     44        0.2571         0.9254       0.8640        0.2871        0.0200  1.6661\n",
      "     45        0.2557         0.9253       0.8699        0.2859        0.0200  1.6090\n",
      "     46        0.2575         0.9263       0.8628        0.2877        0.0200  1.6882\n",
      "     47        0.2562         0.9226       0.8724        0.3261        0.0200  1.6831\n",
      "     48        0.2555         0.9260       0.8681        0.2969        0.0200  1.6291\n",
      "     49        0.2572         0.9257       0.8609        0.2902        0.0200  1.6496\n",
      "Stopping since valid_loss has not improved in the last 20 epochs.\n"
     ]
    }
   ],
   "source": [
    "skorch_clf.fit(\n",
    "    X_train, \n",
    "    y_train_enc,\n",
    ");"
   ]
  },
  {
   "cell_type": "code",
   "execution_count": 16,
   "metadata": {
    "scrolled": true
   },
   "outputs": [
    {
     "data": {
      "image/png": "[encoded data removed]",
      "text/plain": [
       "<Figure size 432x288 with 1 Axes>"
      ]
     },
     "metadata": {
      "needs_background": "light"
     },
     "output_type": "display_data"
    }
   ],
   "source": [
    "plt.plot(skorch_clf.history[:, ('train_loss', 'valid_loss')])\n",
    "plt.legend(['train', 'valid']);"
   ]
  },
  {
   "cell_type": "markdown",
   "metadata": {},
   "source": [
    "### Score on the validation set"
   ]
  },
  {
   "cell_type": "code",
   "execution_count": 17,
   "metadata": {},
   "outputs": [],
   "source": [
    "# load the best parameters stored by the checkpoint callback\n",
    "skorch_clf.load_params(checkpoint=dict(skorch_clf.callbacks_)['Checkpoint'])"
   ]
  },
  {
   "cell_type": "code",
   "execution_count": 18,
   "metadata": {
    "scrolled": true
   },
   "outputs": [
    {
     "data": {
      "text/plain": [
       "0.9286215045377348"
      ]
     },
     "execution_count": 18,
     "metadata": {},
     "output_type": "execute_result"
    }
   ],
   "source": [
    "roc_auc_score(y_valid_enc, skorch_clf.predict_proba(X_valid)[:, 1])"
   ]
  },
  {
   "cell_type": "markdown",
   "metadata": {},
   "source": [
    "### Grid search\n",
    "\n",
    "Can we do better? Let's try to find better hyper-parameters using a grid search on a 3-fold split of the training data using sklearn's `GridSearchCV`."
   ]
  },
  {
   "cell_type": "code",
   "execution_count": 19,
   "metadata": {},
   "outputs": [],
   "source": [
    "from sklearn.model_selection import GridSearchCV"
   ]
  },
  {
   "cell_type": "code",
   "execution_count": 20,
   "metadata": {},
   "outputs": [],
   "source": [
    "params = {\n",
    "    'module__n_steps': [3, 4, 5],\n",
    "    'optimizer__lr': [2e-2, 2e-3],\n",
    "    'verbose': [False],\n",
    "}"
   ]
  },
  {
   "cell_type": "markdown",
   "metadata": {},
   "source": [
    "In a better world we would use a split from the training data both for the \n",
    "base model configuration and for the grid search (e.g., using `StratifiedKFold`).\n",
    "But to be better able to compare the results, we proceed by using a fixed \n",
    "train/validation split.\n",
    "\n",
    "For the grid search this means that we have to use the whole dataset in the\n",
    "`fit()` call and supply the train/validation indices via the `cv=` parameter."
   ]
  },
  {
   "cell_type": "code",
   "execution_count": 21,
   "metadata": {},
   "outputs": [],
   "source": [
    "X_gs = train[features].values\n",
    "y_gs = train[target].values\n",
    "y_gs_enc = label_encoder.transform(y_gs)\n",
    "\n",
    "cv_idcs = [(train_indices.to_numpy(), valid_indices.to_numpy())]"
   ]
  },
  {
   "cell_type": "code",
   "execution_count": 22,
   "metadata": {},
   "outputs": [],
   "source": [
    "gs = GridSearchCV(skorch_clf, params, cv=cv_idcs, scoring='roc_auc', verbose=1)"
   ]
  },
  {
   "cell_type": "code",
   "execution_count": 23,
   "metadata": {},
   "outputs": [
    {
     "name": "stdout",
     "output_type": "stream",
     "text": [
      "Automatic pdb calling has been turned ON\n",
      "Fitting 1 folds for each of 6 candidates, totalling 6 fits\n"
     ]
    },
    {
     "name": "stderr",
     "output_type": "stream",
     "text": [
      "[Parallel(n_jobs=1)]: Using backend SequentialBackend with 1 concurrent workers.\n",
      "[Parallel(n_jobs=1)]: Done   6 out of   6 | elapsed: 17.4min finished\n"
     ]
    },
    {
     "name": "stdout",
     "output_type": "stream",
     "text": [
      "CPU times: user 23min 25s, sys: 17.5 s, total: 23min 43s\n",
      "Wall time: 23min 52s\n"
     ]
    },
    {
     "data": {
      "text/plain": [
       "GridSearchCV(cv=[(array([    0,     1,     2, ..., 32557, 32558, 32559]),\n",
       "                  array([    7,    17,    19, ..., 32542, 32548, 32556]))],\n",
       "             estimator=<class '__main__.SkorchTabModel'>[initialized](\n",
       "  module_=TabNet(\n",
       "    (embedder): EmbeddingGenerator(\n",
       "      (embeddings): ModuleList(\n",
       "        (0): Embedding(73, 1)\n",
       "        (1): Embedding(9, 1)\n",
       "        (2): Embedding(16, 1)\n",
       "        (3): Embedding(16, 1)\n",
       "        (4): Embedding(7, 1)\n",
       "        (5): Embedding(15, 1)\n",
       "        (6): Embedding(6, 1...\n",
       "            (fc): Linear(in_features=8, out_features=14, bias=False)\n",
       "            (bn): GBN(\n",
       "              (bn): BatchNorm1d(14, eps=1e-05, momentum=0.02, affine=True, track_running_stats=True)\n",
       "            )\n",
       "            (selector): Entmax15()\n",
       "          )\n",
       "        )\n",
       "      )\n",
       "      (final_mapping): Linear(in_features=8, out_features=2, bias=False)\n",
       "    )\n",
       "  ),\n",
       "),\n",
       "             param_grid={'module__n_steps': [3, 4, 5],\n",
       "                         'optimizer__lr': [0.02, 0.002], 'verbose': [False]},\n",
       "             scoring='roc_auc', verbose=1)"
      ]
     },
     "execution_count": 23,
     "metadata": {},
     "output_type": "execute_result"
    }
   ],
   "source": [
    "%%time\n",
    "gs.fit(X_gs, y_gs_enc)"
   ]
  },
  {
   "cell_type": "code",
   "execution_count": 24,
   "metadata": {},
   "outputs": [
    {
     "data": {
      "text/html": [
       "<div>\n",
       "<style scoped>\n",
       "    .dataframe tbody tr th:only-of-type {\n",
       "        vertical-align: middle;\n",
       "    }\n",
       "\n",
       "    .dataframe tbody tr th {\n",
       "        vertical-align: top;\n",
       "    }\n",
       "\n",
       "    .dataframe thead th {\n",
       "        text-align: right;\n",
       "    }\n",
       "</style>\n",
       "<table border=\"1\" class=\"dataframe\">\n",
       "  <thead>\n",
       "    <tr style=\"text-align: right;\">\n",
       "      <th></th>\n",
       "      <th>mean_fit_time</th>\n",
       "      <th>std_fit_time</th>\n",
       "      <th>mean_score_time</th>\n",
       "      <th>std_score_time</th>\n",
       "      <th>param_module__n_steps</th>\n",
       "      <th>param_optimizer__lr</th>\n",
       "      <th>param_verbose</th>\n",
       "      <th>params</th>\n",
       "      <th>split0_test_score</th>\n",
       "      <th>mean_test_score</th>\n",
       "      <th>std_test_score</th>\n",
       "      <th>rank_test_score</th>\n",
       "    </tr>\n",
       "  </thead>\n",
       "  <tbody>\n",
       "    <tr>\n",
       "      <th>0</th>\n",
       "      <td>123.638970</td>\n",
       "      <td>0.0</td>\n",
       "      <td>0.109033</td>\n",
       "      <td>0.0</td>\n",
       "      <td>3</td>\n",
       "      <td>0.02</td>\n",
       "      <td>False</td>\n",
       "      <td>{'module__n_steps': 3, 'optimizer__lr': 0.02, ...</td>\n",
       "      <td>0.921506</td>\n",
       "      <td>0.921506</td>\n",
       "      <td>0.0</td>\n",
       "      <td>2</td>\n",
       "    </tr>\n",
       "    <tr>\n",
       "      <th>1</th>\n",
       "      <td>123.379832</td>\n",
       "      <td>0.0</td>\n",
       "      <td>0.095594</td>\n",
       "      <td>0.0</td>\n",
       "      <td>3</td>\n",
       "      <td>0.002</td>\n",
       "      <td>False</td>\n",
       "      <td>{'module__n_steps': 3, 'optimizer__lr': 0.002,...</td>\n",
       "      <td>0.873245</td>\n",
       "      <td>0.873245</td>\n",
       "      <td>0.0</td>\n",
       "      <td>6</td>\n",
       "    </tr>\n",
       "    <tr>\n",
       "      <th>2</th>\n",
       "      <td>144.896835</td>\n",
       "      <td>0.0</td>\n",
       "      <td>0.102971</td>\n",
       "      <td>0.0</td>\n",
       "      <td>4</td>\n",
       "      <td>0.02</td>\n",
       "      <td>False</td>\n",
       "      <td>{'module__n_steps': 4, 'optimizer__lr': 0.02, ...</td>\n",
       "      <td>0.917003</td>\n",
       "      <td>0.917003</td>\n",
       "      <td>0.0</td>\n",
       "      <td>3</td>\n",
       "    </tr>\n",
       "    <tr>\n",
       "      <th>3</th>\n",
       "      <td>142.136357</td>\n",
       "      <td>0.0</td>\n",
       "      <td>0.100738</td>\n",
       "      <td>0.0</td>\n",
       "      <td>4</td>\n",
       "      <td>0.002</td>\n",
       "      <td>False</td>\n",
       "      <td>{'module__n_steps': 4, 'optimizer__lr': 0.002,...</td>\n",
       "      <td>0.878836</td>\n",
       "      <td>0.878836</td>\n",
       "      <td>0.0</td>\n",
       "      <td>5</td>\n",
       "    </tr>\n",
       "    <tr>\n",
       "      <th>4</th>\n",
       "      <td>247.821962</td>\n",
       "      <td>0.0</td>\n",
       "      <td>0.119188</td>\n",
       "      <td>0.0</td>\n",
       "      <td>5</td>\n",
       "      <td>0.02</td>\n",
       "      <td>False</td>\n",
       "      <td>{'module__n_steps': 5, 'optimizer__lr': 0.02, ...</td>\n",
       "      <td>0.927573</td>\n",
       "      <td>0.927573</td>\n",
       "      <td>0.0</td>\n",
       "      <td>1</td>\n",
       "    </tr>\n",
       "    <tr>\n",
       "      <th>5</th>\n",
       "      <td>261.196265</td>\n",
       "      <td>0.0</td>\n",
       "      <td>0.117020</td>\n",
       "      <td>0.0</td>\n",
       "      <td>5</td>\n",
       "      <td>0.002</td>\n",
       "      <td>False</td>\n",
       "      <td>{'module__n_steps': 5, 'optimizer__lr': 0.002,...</td>\n",
       "      <td>0.880725</td>\n",
       "      <td>0.880725</td>\n",
       "      <td>0.0</td>\n",
       "      <td>4</td>\n",
       "    </tr>\n",
       "  </tbody>\n",
       "</table>\n",
       "</div>"
      ],
      "text/plain": [
       "   mean_fit_time  std_fit_time  mean_score_time  std_score_time  \\\n",
       "0     123.638970           0.0         0.109033             0.0   \n",
       "1     123.379832           0.0         0.095594             0.0   \n",
       "2     144.896835           0.0         0.102971             0.0   \n",
       "3     142.136357           0.0         0.100738             0.0   \n",
       "4     247.821962           0.0         0.119188             0.0   \n",
       "5     261.196265           0.0         0.117020             0.0   \n",
       "\n",
       "  param_module__n_steps param_optimizer__lr param_verbose  \\\n",
       "0                     3                0.02         False   \n",
       "1                     3               0.002         False   \n",
       "2                     4                0.02         False   \n",
       "3                     4               0.002         False   \n",
       "4                     5                0.02         False   \n",
       "5                     5               0.002         False   \n",
       "\n",
       "                                              params  split0_test_score  \\\n",
       "0  {'module__n_steps': 3, 'optimizer__lr': 0.02, ...           0.921506   \n",
       "1  {'module__n_steps': 3, 'optimizer__lr': 0.002,...           0.873245   \n",
       "2  {'module__n_steps': 4, 'optimizer__lr': 0.02, ...           0.917003   \n",
       "3  {'module__n_steps': 4, 'optimizer__lr': 0.002,...           0.878836   \n",
       "4  {'module__n_steps': 5, 'optimizer__lr': 0.02, ...           0.927573   \n",
       "5  {'module__n_steps': 5, 'optimizer__lr': 0.002,...           0.880725   \n",
       "\n",
       "   mean_test_score  std_test_score  rank_test_score  \n",
       "0         0.921506             0.0                2  \n",
       "1         0.873245             0.0                6  \n",
       "2         0.917003             0.0                3  \n",
       "3         0.878836             0.0                5  \n",
       "4         0.927573             0.0                1  \n",
       "5         0.880725             0.0                4  "
      ]
     },
     "execution_count": 24,
     "metadata": {},
     "output_type": "execute_result"
    }
   ],
   "source": [
    "pd.DataFrame(gs.cv_results_)"
   ]
  },
  {
   "cell_type": "code",
   "execution_count": 25,
   "metadata": {},
   "outputs": [
    {
     "data": {
      "text/plain": [
       "{'module__n_steps': 5, 'optimizer__lr': 0.02, 'verbose': False}"
      ]
     },
     "execution_count": 25,
     "metadata": {},
     "output_type": "execute_result"
    }
   ],
   "source": [
    "gs.best_params_"
   ]
  },
  {
   "cell_type": "markdown",
   "metadata": {},
   "source": [
    "### Comparison: did we get better?"
   ]
  },
  {
   "cell_type": "code",
   "execution_count": 26,
   "metadata": {},
   "outputs": [
    {
     "data": {
      "text/plain": [
       "0.9286215045377348"
      ]
     },
     "execution_count": 26,
     "metadata": {},
     "output_type": "execute_result"
    }
   ],
   "source": [
    "roc_auc_score(y_valid_enc, skorch_clf.predict_proba(X_valid)[:, 1])"
   ]
  },
  {
   "cell_type": "code",
   "execution_count": 27,
   "metadata": {},
   "outputs": [],
   "source": [
    "skorch_gs_clf = gs.best_estimator_"
   ]
  },
  {
   "cell_type": "code",
   "execution_count": 28,
   "metadata": {},
   "outputs": [
    {
     "data": {
      "text/plain": [
       "0.9350759769607937"
      ]
     },
     "execution_count": 28,
     "metadata": {},
     "output_type": "execute_result"
    }
   ],
   "source": [
    "roc_auc_score(y_valid_enc, skorch_gs_clf.predict_proba(X_valid)[:, 1])"
   ]
  },
  {
   "cell_type": "markdown",
   "metadata": {},
   "source": [
    "It seems that we did, even though only marginally. One reason might be that the model was already well tuned and that there is not much room for improvement, another could be that the CV-split we used in the grid-search was not approximating the final model performance well or early stopping was too eager. Finally, only a small parameter space was examined. For brevity we will not explore this further, though."
   ]
  },
  {
   "cell_type": "markdown",
   "metadata": {},
   "source": [
    "### Feature importances"
   ]
  },
  {
   "cell_type": "markdown",
   "metadata": {},
   "source": [
    "We can take a look at the (accumulated) global feature importances and look at what the\n",
    "difference between the base model and the best performing model from the grid search\n",
    "looks like. This way we could reason about the performance difference. We are not going\n",
    "to do that here, though."
   ]
  },
  {
   "cell_type": "code",
   "execution_count": 29,
   "metadata": {},
   "outputs": [],
   "source": [
    "df = pd.DataFrame(index=features, data={\n",
    "    'base': skorch_clf.feature_importances_,\n",
    "    'best': skorch_gs_clf.feature_importances_,\n",
    "})"
   ]
  },
  {
   "cell_type": "code",
   "execution_count": 30,
   "metadata": {},
   "outputs": [
    {
     "data": {
      "image/png": "[encoded data removed]",
      "text/plain": [
       "<Figure size 432x288 with 1 Axes>"
      ]
     },
     "metadata": {
      "needs_background": "light"
     },
     "output_type": "display_data"
    }
   ],
   "source": [
    "df.sort_values(by='best').plot(\n",
    "    kind='bar', title='Feature importances of base and best model');"
   ]
  },
  {
   "cell_type": "code",
   "execution_count": 31,
   "metadata": {},
   "outputs": [
    {
     "data": {
      "image/png": "[encoded data removed]",
      "text/plain": [
       "<Figure size 432x288 with 1 Axes>"
      ]
     },
     "metadata": {
      "needs_background": "light"
     },
     "output_type": "display_data"
    }
   ],
   "source": [
    "# show the absolute difference between feature importances of the old and the new\n",
    "# grid searched model\n",
    "df.diff(axis=1).abs().sort_values(by='best').best.plot(\n",
    "    kind='bar', title='Difference in importance to the best model');"
   ]
  },
  {
   "cell_type": "markdown",
   "metadata": {},
   "source": [
    "### Per-sample feature importances\n",
    "\n",
    "tabnet also allows us to plot the per-sample attention weights and lets us deduce which features were the most important in each of the steps the network takes to form a decision. We can visualize these per-sample masks and compare them, visually, to the grid-searched model and see that they, indeed, focus on different aspects."
   ]
  },
  {
   "cell_type": "markdown",
   "metadata": {},
   "source": [
    "#### Per-sample weights of the skorch base model"
   ]
  },
  {
   "cell_type": "code",
   "execution_count": 32,
   "metadata": {},
   "outputs": [],
   "source": [
    "explain_matrix, masks = skorch_clf.explain(X_valid)"
   ]
  },
  {
   "cell_type": "code",
   "execution_count": 33,
   "metadata": {},
   "outputs": [
    {
     "data": {
      "image/png": "[encoded data removed]",
      "text/plain": [
       "<Figure size 1440x1440 with 3 Axes>"
      ]
     },
     "metadata": {
      "needs_background": "light"
     },
     "output_type": "display_data"
    }
   ],
   "source": [
    "n_steps = skorch_clf.module_.n_steps\n",
    "fig, axs = plt.subplots(1, n_steps, figsize=(20,20))\n",
    "\n",
    "for i in range(n_steps):\n",
    "    axs[i].imshow(masks[i][:50])\n",
    "    axs[i].set_title(f\"mask {i}\")\n",
    "    axs[i].set_xticks(list(range(len(features))))\n",
    "    axs[i].set_xticklabels(features, rotation=90)"
   ]
  },
  {
   "cell_type": "markdown",
   "metadata": {},
   "source": [
    "#### Per-sample weights of the grid-searched model"
   ]
  },
  {
   "cell_type": "code",
   "execution_count": 34,
   "metadata": {},
   "outputs": [],
   "source": [
    "explain_matrix, masks = skorch_gs_clf.explain(X_valid)"
   ]
  },
  {
   "cell_type": "code",
   "execution_count": 35,
   "metadata": {},
   "outputs": [
    {
     "data": {
      "image/png": "[encoded data removed]",
      "text/plain": [
       "<Figure size 1440x1440 with 5 Axes>"
      ]
     },
     "metadata": {
      "needs_background": "light"
     },
     "output_type": "display_data"
    }
   ],
   "source": [
    "n_steps = skorch_gs_clf.module_.n_steps\n",
    "fig, axs = plt.subplots(1, n_steps, figsize=(20,20))\n",
    "\n",
    "for i in range(n_steps):\n",
    "    axs[i].imshow(masks[i][:50])\n",
    "    axs[i].set_title(f\"mask {i}\")\n",
    "    axs[i].set_xticks(list(range(len(features))))\n",
    "    axs[i].set_xticklabels(features, rotation=90)"
   ]
  }
 ],
 "metadata": {
  "kernelspec": {
   "display_name": "Python 3",
   "language": "python",
   "name": "python3"
  },
  "language_info": {
   "codemirror_mode": {
    "name": "ipython",
    "version": 3
   },
   "file_extension": ".py",
   "mimetype": "text/x-python",
   "name": "python",
   "nbconvert_exporter": "python",
   "pygments_lexer": "ipython3",
   "version": "3.8.6"
  }
 },
 "nbformat": 4,
 "nbformat_minor": 4
}
