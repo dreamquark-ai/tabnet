{
 "cells": [
  {
   "cell_type": "code",
   "execution_count": 1,
   "metadata": {},
   "outputs": [],
   "source": [
    "from pytorch_tabnet.tab_model import TabNetClassifier\n",
    "\n",
    "import torch\n",
    "from sklearn.preprocessing import LabelEncoder\n",
    "from sklearn.metrics import roc_auc_score\n",
    "\n",
    "import pandas as pd\n",
    "import numpy as np\n",
    "np.random.seed(0)\n",
    "\n",
    "\n",
    "import os\n",
    "import wget\n",
    "from pathlib import Path\n",
    "\n",
    "from matplotlib import pyplot as plt\n",
    "import os\n",
    "\n",
    "\n",
    "CUDA_LAUNCH_BLOCKING=1\n",
    "%matplotlib inline"
   ]
  },
  {
   "cell_type": "markdown",
   "metadata": {},
   "source": [
    "# Download census-income dataset"
   ]
  },
  {
   "cell_type": "code",
   "execution_count": 2,
   "metadata": {},
   "outputs": [
    {
     "data": {
      "text/plain": [
       "'1.10.0+cu102'"
      ]
     },
     "execution_count": 2,
     "metadata": {},
     "output_type": "execute_result"
    }
   ],
   "source": [
    "torch.__version__"
   ]
  },
  {
   "cell_type": "code",
   "execution_count": 3,
   "metadata": {},
   "outputs": [],
   "source": [
    "url = \"https://archive.ics.uci.edu/ml/machine-learning-databases/adult/adult.data\"\n",
    "dataset_name = 'census-income'\n",
    "out = Path(os.getcwd()+'/data/'+dataset_name+'.csv')"
   ]
  },
  {
   "cell_type": "code",
   "execution_count": 4,
   "metadata": {},
   "outputs": [
    {
     "name": "stdout",
     "output_type": "stream",
     "text": [
      "File already exists.\n"
     ]
    }
   ],
   "source": [
    "out.parent.mkdir(parents=True, exist_ok=True)\n",
    "if out.exists():\n",
    "    print(\"File already exists.\")\n",
    "else:\n",
    "    print(\"Downloading file...\")\n",
    "    wget.download(url, out.as_posix())"
   ]
  },
  {
   "cell_type": "markdown",
   "metadata": {},
   "source": [
    "# Load data and split"
   ]
  },
  {
   "cell_type": "code",
   "execution_count": 5,
   "metadata": {},
   "outputs": [],
   "source": [
    "train = pd.read_csv(out)\n",
    "target = ' <=50K'\n",
    "if \"Set\" not in train.columns:\n",
    "    train[\"Set\"] = np.random.choice([\"train\", \"valid\", \"test\"], p =[.8, .1, .1], size=(train.shape[0],))\n",
    "\n",
    "train_indices = train[train.Set==\"train\"].index\n",
    "valid_indices = train[train.Set==\"valid\"].index\n",
    "test_indices = train[train.Set==\"test\"].index"
   ]
  },
  {
   "cell_type": "markdown",
   "metadata": {},
   "source": [
    "# Simple preprocessing\n",
    "\n",
    "Label encode categorical features and fill empty cells."
   ]
  },
  {
   "cell_type": "code",
   "execution_count": 6,
   "metadata": {},
   "outputs": [
    {
     "name": "stdout",
     "output_type": "stream",
     "text": [
      "39 73\n",
      " State-gov 9\n",
      " Bachelors 16\n",
      " 13 16\n",
      " Never-married 7\n",
      " Adm-clerical 15\n",
      " Not-in-family 6\n",
      " White 5\n",
      " Male 2\n",
      " 2174 119\n",
      " 0 92\n",
      " 40 94\n",
      " United-States 42\n",
      " <=50K 2\n",
      "Set 3\n"
     ]
    }
   ],
   "source": [
    "nunique = train.nunique()\n",
    "types = train.dtypes\n",
    "\n",
    "categorical_columns = []\n",
    "categorical_dims =  {}\n",
    "for col in train.columns:\n",
    "    if types[col] == 'object' or nunique[col] < 200:\n",
    "        print(col, train[col].nunique())\n",
    "        l_enc = LabelEncoder()\n",
    "        train[col] = train[col].fillna(\"VV_likely\")\n",
    "        train[col] = l_enc.fit_transform(train[col].values)\n",
    "        categorical_columns.append(col)\n",
    "        categorical_dims[col] = len(l_enc.classes_)\n",
    "    else:\n",
    "        train.fillna(train.loc[train_indices, col].mean(), inplace=True)"
   ]
  },
  {
   "cell_type": "code",
   "execution_count": 7,
   "metadata": {},
   "outputs": [],
   "source": [
    "# check that pipeline accepts strings\n",
    "train.loc[train[target]==0, target] = \"wealthy\"\n",
    "train.loc[train[target]==1, target] = \"not_wealthy\""
   ]
  },
  {
   "cell_type": "markdown",
   "metadata": {},
   "source": [
    "# Define categorical features for categorical embeddings"
   ]
  },
  {
   "cell_type": "code",
   "execution_count": 8,
   "metadata": {},
   "outputs": [],
   "source": [
    "unused_feat = ['Set']\n",
    "\n",
    "features = [ col for col in train.columns if col not in unused_feat+[target]] \n",
    "\n",
    "cat_idxs = [ i for i, f in enumerate(features) if f in categorical_columns]\n",
    "\n",
    "cat_dims = [ categorical_dims[f] for i, f in enumerate(features) if f in categorical_columns]\n"
   ]
  },
  {
   "cell_type": "markdown",
   "metadata": {},
   "source": [
    "# Network parameters"
   ]
  },
  {
   "cell_type": "code",
   "execution_count": 9,
   "metadata": {},
   "outputs": [
    {
     "name": "stderr",
     "output_type": "stream",
     "text": [
      "/work/pytorch_tabnet/abstract_model.py:75: UserWarning: Device used : cuda\n",
      "  warnings.warn(f\"Device used : {self.device}\")\n"
     ]
    }
   ],
   "source": [
    "tabnet_params = {\"cat_idxs\":cat_idxs,\n",
    "                 \"cat_dims\":cat_dims,\n",
    "                 \"cat_emb_dim\":1,\n",
    "                 \"optimizer_fn\":torch.optim.Adam,\n",
    "                 \"optimizer_params\":dict(lr=2e-2),\n",
    "                 \"scheduler_params\":{\"step_size\":50, # how to use learning rate scheduler\n",
    "                                 \"gamma\":0.9},\n",
    "                 \"scheduler_fn\":torch.optim.lr_scheduler.StepLR,\n",
    "                 \"mask_type\":'entmax' # \"sparsemax\"\n",
    "                }\n",
    "\n",
    "clf = TabNetClassifier(**tabnet_params\n",
    "                      )"
   ]
  },
  {
   "cell_type": "markdown",
   "metadata": {},
   "source": [
    "# Training"
   ]
  },
  {
   "cell_type": "code",
   "execution_count": 10,
   "metadata": {},
   "outputs": [],
   "source": [
    "X_train = train[features].values[train_indices]\n",
    "y_train = train[target].values[train_indices]\n",
    "\n",
    "X_valid = train[features].values[valid_indices]\n",
    "y_valid = train[target].values[valid_indices]\n",
    "\n",
    "X_test = train[features].values[test_indices]\n",
    "y_test = train[target].values[test_indices]"
   ]
  },
  {
   "cell_type": "code",
   "execution_count": 11,
   "metadata": {},
   "outputs": [],
   "source": [
    "max_epochs = 100 if not os.getenv(\"CI\", False) else 2"
   ]
  },
  {
   "cell_type": "code",
   "execution_count": 12,
   "metadata": {
    "scrolled": true
   },
   "outputs": [
    {
     "name": "stdout",
     "output_type": "stream",
     "text": [
      "epoch 0  | loss: 0.66728 | train_auc: 0.75729 | valid_auc: 0.7552  |  0:00:01s\n",
      "epoch 1  | loss: 0.51304 | train_auc: 0.82287 | valid_auc: 0.82513 |  0:00:02s\n",
      "epoch 2  | loss: 0.46881 | train_auc: 0.84484 | valid_auc: 0.8424  |  0:00:03s\n",
      "epoch 3  | loss: 0.4501  | train_auc: 0.86782 | valid_auc: 0.86474 |  0:00:05s\n",
      "epoch 4  | loss: 0.42781 | train_auc: 0.8833  | valid_auc: 0.88173 |  0:00:06s\n",
      "epoch 5  | loss: 0.41078 | train_auc: 0.89628 | valid_auc: 0.89008 |  0:00:07s\n",
      "epoch 6  | loss: 0.39827 | train_auc: 0.90308 | valid_auc: 0.89607 |  0:00:09s\n",
      "epoch 7  | loss: 0.391   | train_auc: 0.90791 | valid_auc: 0.89755 |  0:00:10s\n",
      "epoch 8  | loss: 0.3836  | train_auc: 0.91095 | valid_auc: 0.90258 |  0:00:11s\n",
      "epoch 9  | loss: 0.36724 | train_auc: 0.9144  | valid_auc: 0.90746 |  0:00:12s\n",
      "epoch 10 | loss: 0.36825 | train_auc: 0.91749 | valid_auc: 0.91127 |  0:00:14s\n",
      "epoch 11 | loss: 0.35866 | train_auc: 0.91651 | valid_auc: 0.91007 |  0:00:15s\n",
      "epoch 12 | loss: 0.35291 | train_auc: 0.9157  | valid_auc: 0.91093 |  0:00:16s\n",
      "epoch 13 | loss: 0.34955 | train_auc: 0.92068 | valid_auc: 0.91503 |  0:00:18s\n",
      "epoch 14 | loss: 0.34915 | train_auc: 0.92023 | valid_auc: 0.91509 |  0:00:19s\n",
      "epoch 15 | loss: 0.34742 | train_auc: 0.927   | valid_auc: 0.92287 |  0:00:20s\n",
      "epoch 16 | loss: 0.34175 | train_auc: 0.92607 | valid_auc: 0.92437 |  0:00:21s\n",
      "epoch 17 | loss: 0.33563 | train_auc: 0.92887 | valid_auc: 0.9264  |  0:00:23s\n",
      "epoch 18 | loss: 0.34114 | train_auc: 0.92972 | valid_auc: 0.92501 |  0:00:24s\n",
      "epoch 19 | loss: 0.34201 | train_auc: 0.92918 | valid_auc: 0.92555 |  0:00:25s\n",
      "epoch 20 | loss: 0.33403 | train_auc: 0.93228 | valid_auc: 0.92806 |  0:00:27s\n",
      "epoch 21 | loss: 0.32581 | train_auc: 0.93286 | valid_auc: 0.9276  |  0:00:28s\n",
      "epoch 22 | loss: 0.3282  | train_auc: 0.9335  | valid_auc: 0.92905 |  0:00:29s\n",
      "epoch 23 | loss: 0.32951 | train_auc: 0.93378 | valid_auc: 0.92877 |  0:00:30s\n",
      "epoch 24 | loss: 0.33268 | train_auc: 0.93313 | valid_auc: 0.92985 |  0:00:32s\n",
      "epoch 25 | loss: 0.32533 | train_auc: 0.93509 | valid_auc: 0.93023 |  0:00:33s\n",
      "epoch 26 | loss: 0.31827 | train_auc: 0.93533 | valid_auc: 0.93238 |  0:00:34s\n",
      "epoch 27 | loss: 0.32068 | train_auc: 0.93415 | valid_auc: 0.93048 |  0:00:36s\n",
      "epoch 28 | loss: 0.32455 | train_auc: 0.93593 | valid_auc: 0.93122 |  0:00:37s\n",
      "epoch 29 | loss: 0.3243  | train_auc: 0.93605 | valid_auc: 0.93127 |  0:00:38s\n",
      "epoch 30 | loss: 0.32077 | train_auc: 0.93585 | valid_auc: 0.93137 |  0:00:39s\n",
      "epoch 31 | loss: 0.31782 | train_auc: 0.93645 | valid_auc: 0.93149 |  0:00:41s\n",
      "epoch 32 | loss: 0.32055 | train_auc: 0.93612 | valid_auc: 0.9316  |  0:00:42s\n",
      "epoch 33 | loss: 0.32106 | train_auc: 0.93557 | valid_auc: 0.93132 |  0:00:43s\n",
      "epoch 34 | loss: 0.3176  | train_auc: 0.93591 | valid_auc: 0.93082 |  0:00:45s\n",
      "epoch 35 | loss: 0.31357 | train_auc: 0.93728 | valid_auc: 0.93016 |  0:00:46s\n",
      "epoch 36 | loss: 0.31897 | train_auc: 0.93773 | valid_auc: 0.93148 |  0:00:47s\n",
      "epoch 37 | loss: 0.31327 | train_auc: 0.93704 | valid_auc: 0.93171 |  0:00:48s\n",
      "epoch 38 | loss: 0.3221  | train_auc: 0.93804 | valid_auc: 0.93263 |  0:00:50s\n",
      "epoch 39 | loss: 0.31448 | train_auc: 0.93788 | valid_auc: 0.93057 |  0:00:51s\n",
      "epoch 40 | loss: 0.31194 | train_auc: 0.93835 | valid_auc: 0.93104 |  0:00:52s\n",
      "epoch 41 | loss: 0.3172  | train_auc: 0.93773 | valid_auc: 0.92878 |  0:00:54s\n",
      "epoch 42 | loss: 0.31234 | train_auc: 0.93837 | valid_auc: 0.93173 |  0:00:55s\n",
      "epoch 43 | loss: 0.31483 | train_auc: 0.93897 | valid_auc: 0.93057 |  0:00:56s\n",
      "epoch 44 | loss: 0.31013 | train_auc: 0.93804 | valid_auc: 0.93041 |  0:00:57s\n",
      "epoch 45 | loss: 0.30797 | train_auc: 0.93924 | valid_auc: 0.93152 |  0:00:59s\n",
      "epoch 46 | loss: 0.3158  | train_auc: 0.93952 | valid_auc: 0.93087 |  0:01:00s\n",
      "epoch 47 | loss: 0.31331 | train_auc: 0.93946 | valid_auc: 0.93017 |  0:01:01s\n",
      "epoch 48 | loss: 0.30804 | train_auc: 0.93917 | valid_auc: 0.92966 |  0:01:03s\n",
      "epoch 49 | loss: 0.31492 | train_auc: 0.93864 | valid_auc: 0.92849 |  0:01:04s\n",
      "epoch 50 | loss: 0.31443 | train_auc: 0.93971 | valid_auc: 0.93042 |  0:01:05s\n",
      "epoch 51 | loss: 0.30551 | train_auc: 0.9401  | valid_auc: 0.92973 |  0:01:06s\n",
      "epoch 52 | loss: 0.30767 | train_auc: 0.93974 | valid_auc: 0.92858 |  0:01:08s\n",
      "epoch 53 | loss: 0.30543 | train_auc: 0.94062 | valid_auc: 0.92902 |  0:01:09s\n",
      "epoch 54 | loss: 0.30824 | train_auc: 0.94086 | valid_auc: 0.93024 |  0:01:10s\n",
      "epoch 55 | loss: 0.3049  | train_auc: 0.94041 | valid_auc: 0.9292  |  0:01:12s\n",
      "epoch 56 | loss: 0.30958 | train_auc: 0.94057 | valid_auc: 0.93104 |  0:01:13s\n",
      "epoch 57 | loss: 0.30617 | train_auc: 0.94049 | valid_auc: 0.93017 |  0:01:14s\n",
      "epoch 58 | loss: 0.30597 | train_auc: 0.94081 | valid_auc: 0.92884 |  0:01:16s\n",
      "\n",
      "Early stopping occurred at epoch 58 with best_epoch = 38 and best_valid_auc = 0.93263\n"
     ]
    },
    {
     "name": "stderr",
     "output_type": "stream",
     "text": [
      "/work/pytorch_tabnet/callbacks.py:172: UserWarning: Best weights from best epoch are automatically used!\n",
      "  warnings.warn(wrn_msg)\n"
     ]
    },
    {
     "name": "stdout",
     "output_type": "stream",
     "text": [
      "epoch 0  | loss: 0.66728 | train_auc: 0.75729 | valid_auc: 0.7552  |  0:00:01s\n",
      "epoch 1  | loss: 0.51304 | train_auc: 0.82287 | valid_auc: 0.82513 |  0:00:02s\n",
      "epoch 2  | loss: 0.46881 | train_auc: 0.84484 | valid_auc: 0.8424  |  0:00:03s\n",
      "epoch 3  | loss: 0.4501  | train_auc: 0.86782 | valid_auc: 0.86474 |  0:00:05s\n",
      "epoch 4  | loss: 0.42781 | train_auc: 0.8833  | valid_auc: 0.88173 |  0:00:06s\n",
      "epoch 5  | loss: 0.41078 | train_auc: 0.89628 | valid_auc: 0.89008 |  0:00:07s\n",
      "epoch 6  | loss: 0.39827 | train_auc: 0.90308 | valid_auc: 0.89607 |  0:00:09s\n",
      "epoch 7  | loss: 0.391   | train_auc: 0.90791 | valid_auc: 0.89755 |  0:00:10s\n",
      "epoch 8  | loss: 0.3836  | train_auc: 0.91095 | valid_auc: 0.90258 |  0:00:11s\n",
      "epoch 9  | loss: 0.36724 | train_auc: 0.9144  | valid_auc: 0.90746 |  0:00:13s\n",
      "epoch 10 | loss: 0.36825 | train_auc: 0.91749 | valid_auc: 0.91127 |  0:00:14s\n",
      "epoch 11 | loss: 0.35866 | train_auc: 0.91651 | valid_auc: 0.91007 |  0:00:15s\n",
      "epoch 12 | loss: 0.35291 | train_auc: 0.9157  | valid_auc: 0.91093 |  0:00:17s\n",
      "epoch 13 | loss: 0.34955 | train_auc: 0.92068 | valid_auc: 0.91503 |  0:00:18s\n",
      "epoch 14 | loss: 0.34915 | train_auc: 0.92023 | valid_auc: 0.91509 |  0:00:19s\n",
      "epoch 15 | loss: 0.34742 | train_auc: 0.927   | valid_auc: 0.92287 |  0:00:20s\n",
      "epoch 16 | loss: 0.34175 | train_auc: 0.92607 | valid_auc: 0.92437 |  0:00:22s\n",
      "epoch 17 | loss: 0.33563 | train_auc: 0.92887 | valid_auc: 0.9264  |  0:00:23s\n",
      "epoch 18 | loss: 0.34114 | train_auc: 0.92972 | valid_auc: 0.92501 |  0:00:24s\n",
      "epoch 19 | loss: 0.34201 | train_auc: 0.92918 | valid_auc: 0.92555 |  0:00:26s\n",
      "epoch 20 | loss: 0.33403 | train_auc: 0.93228 | valid_auc: 0.92806 |  0:00:27s\n",
      "epoch 21 | loss: 0.32581 | train_auc: 0.93286 | valid_auc: 0.9276  |  0:00:28s\n",
      "epoch 22 | loss: 0.3282  | train_auc: 0.9335  | valid_auc: 0.92905 |  0:00:30s\n",
      "epoch 23 | loss: 0.32951 | train_auc: 0.93378 | valid_auc: 0.92877 |  0:00:31s\n",
      "epoch 24 | loss: 0.33268 | train_auc: 0.93313 | valid_auc: 0.92985 |  0:00:32s\n",
      "epoch 25 | loss: 0.32533 | train_auc: 0.93509 | valid_auc: 0.93023 |  0:00:33s\n",
      "epoch 26 | loss: 0.31827 | train_auc: 0.93533 | valid_auc: 0.93238 |  0:00:35s\n",
      "epoch 27 | loss: 0.32068 | train_auc: 0.93415 | valid_auc: 0.93048 |  0:00:36s\n",
      "epoch 28 | loss: 0.32455 | train_auc: 0.93593 | valid_auc: 0.93122 |  0:00:37s\n",
      "epoch 29 | loss: 0.3243  | train_auc: 0.93605 | valid_auc: 0.93127 |  0:00:39s\n",
      "epoch 30 | loss: 0.32077 | train_auc: 0.93585 | valid_auc: 0.93137 |  0:00:40s\n",
      "epoch 31 | loss: 0.31782 | train_auc: 0.93645 | valid_auc: 0.93149 |  0:00:41s\n",
      "epoch 32 | loss: 0.32055 | train_auc: 0.93612 | valid_auc: 0.9316  |  0:00:43s\n",
      "epoch 33 | loss: 0.32106 | train_auc: 0.93557 | valid_auc: 0.93132 |  0:00:44s\n",
      "epoch 34 | loss: 0.3176  | train_auc: 0.93591 | valid_auc: 0.93082 |  0:00:45s\n",
      "epoch 35 | loss: 0.31357 | train_auc: 0.93728 | valid_auc: 0.93016 |  0:00:47s\n",
      "epoch 36 | loss: 0.31897 | train_auc: 0.93773 | valid_auc: 0.93148 |  0:00:48s\n",
      "epoch 37 | loss: 0.31327 | train_auc: 0.93704 | valid_auc: 0.93171 |  0:00:49s\n",
      "epoch 38 | loss: 0.3221  | train_auc: 0.93804 | valid_auc: 0.93263 |  0:00:50s\n",
      "epoch 39 | loss: 0.31448 | train_auc: 0.93788 | valid_auc: 0.93057 |  0:00:52s\n",
      "epoch 40 | loss: 0.31194 | train_auc: 0.93835 | valid_auc: 0.93104 |  0:00:53s\n",
      "epoch 41 | loss: 0.3172  | train_auc: 0.93773 | valid_auc: 0.92878 |  0:00:54s\n",
      "epoch 42 | loss: 0.31234 | train_auc: 0.93837 | valid_auc: 0.93173 |  0:00:56s\n",
      "epoch 43 | loss: 0.31483 | train_auc: 0.93897 | valid_auc: 0.93057 |  0:00:57s\n",
      "epoch 44 | loss: 0.31013 | train_auc: 0.93804 | valid_auc: 0.93041 |  0:00:58s\n",
      "epoch 45 | loss: 0.30797 | train_auc: 0.93924 | valid_auc: 0.93152 |  0:01:00s\n",
      "epoch 46 | loss: 0.3158  | train_auc: 0.93952 | valid_auc: 0.93087 |  0:01:01s\n",
      "epoch 47 | loss: 0.31331 | train_auc: 0.93946 | valid_auc: 0.93017 |  0:01:02s\n",
      "epoch 48 | loss: 0.30804 | train_auc: 0.93917 | valid_auc: 0.92966 |  0:01:03s\n",
      "epoch 49 | loss: 0.31492 | train_auc: 0.93864 | valid_auc: 0.92849 |  0:01:05s\n",
      "epoch 50 | loss: 0.31443 | train_auc: 0.93971 | valid_auc: 0.93042 |  0:01:06s\n",
      "epoch 51 | loss: 0.30551 | train_auc: 0.9401  | valid_auc: 0.92973 |  0:01:07s\n",
      "epoch 52 | loss: 0.30767 | train_auc: 0.93974 | valid_auc: 0.92858 |  0:01:09s\n",
      "epoch 53 | loss: 0.30543 | train_auc: 0.94062 | valid_auc: 0.92902 |  0:01:10s\n",
      "epoch 54 | loss: 0.30824 | train_auc: 0.94086 | valid_auc: 0.93024 |  0:01:11s\n",
      "epoch 55 | loss: 0.3049  | train_auc: 0.94041 | valid_auc: 0.9292  |  0:01:12s\n",
      "epoch 56 | loss: 0.30958 | train_auc: 0.94057 | valid_auc: 0.93104 |  0:01:14s\n",
      "epoch 57 | loss: 0.30617 | train_auc: 0.94049 | valid_auc: 0.93017 |  0:01:15s\n",
      "epoch 58 | loss: 0.30597 | train_auc: 0.94081 | valid_auc: 0.92884 |  0:01:16s\n",
      "\n",
      "Early stopping occurred at epoch 58 with best_epoch = 38 and best_valid_auc = 0.93263\n"
     ]
    },
    {
     "name": "stderr",
     "output_type": "stream",
     "text": [
      "/work/pytorch_tabnet/callbacks.py:172: UserWarning: Best weights from best epoch are automatically used!\n",
      "  warnings.warn(wrn_msg)\n"
     ]
    }
   ],
   "source": [
    "# This illustrates the warm_start=False behaviour\n",
    "save_history = []\n",
    "for _ in range(2):\n",
    "    clf.fit(\n",
    "        X_train=X_train, y_train=y_train,\n",
    "        eval_set=[(X_train, y_train), (X_valid, y_valid)],\n",
    "        eval_name=['train', 'valid'],\n",
    "        eval_metric=['auc'],\n",
    "        max_epochs=max_epochs , patience=20,\n",
    "        batch_size=1024, virtual_batch_size=128,\n",
    "        num_workers=0,\n",
    "        weights=1,\n",
    "        drop_last=False\n",
    "    )\n",
    "    save_history.append(clf.history[\"valid_auc\"])\n",
    "    \n",
    "assert(np.all(np.array(save_history[0]==np.array(save_history[1]))))"
   ]
  },
  {
   "cell_type": "code",
   "execution_count": null,
   "metadata": {},
   "outputs": [],
   "source": [
    "# plot losses\n",
    "plt.plot(clf.history['loss'])"
   ]
  },
  {
   "cell_type": "code",
   "execution_count": null,
   "metadata": {},
   "outputs": [],
   "source": [
    "# plot auc\n",
    "plt.plot(clf.history['train_auc'])\n",
    "plt.plot(clf.history['valid_auc'])"
   ]
  },
  {
   "cell_type": "code",
   "execution_count": null,
   "metadata": {},
   "outputs": [],
   "source": [
    "# plot learning rates\n",
    "plt.plot(clf.history['lr'])"
   ]
  },
  {
   "cell_type": "markdown",
   "metadata": {},
   "source": [
    "## Predictions"
   ]
  },
  {
   "cell_type": "code",
   "execution_count": null,
   "metadata": {},
   "outputs": [],
   "source": [
    "preds = clf.predict_proba(X_test)\n",
    "test_auc = roc_auc_score(y_score=preds[:,1], y_true=y_test)\n",
    "\n",
    "\n",
    "preds_valid = clf.predict_proba(X_valid)\n",
    "valid_auc = roc_auc_score(y_score=preds_valid[:,1], y_true=y_valid)\n",
    "\n",
    "print(f\"BEST VALID SCORE FOR {dataset_name} : {clf.best_cost}\")\n",
    "print(f\"FINAL TEST SCORE FOR {dataset_name} : {test_auc}\")"
   ]
  },
  {
   "cell_type": "code",
   "execution_count": null,
   "metadata": {},
   "outputs": [],
   "source": [
    "# check that best weights are used\n",
    "assert np.isclose(valid_auc, np.max(clf.history['valid_auc']), atol=1e-6)"
   ]
  },
  {
   "cell_type": "code",
   "execution_count": null,
   "metadata": {},
   "outputs": [],
   "source": [
    "clf.predict(X_test)"
   ]
  },
  {
   "cell_type": "markdown",
   "metadata": {},
   "source": [
    "# Save and load Model"
   ]
  },
  {
   "cell_type": "code",
   "execution_count": null,
   "metadata": {},
   "outputs": [],
   "source": [
    "# save tabnet model\n",
    "saving_path_name = \"./tabnet_model_test_1\"\n",
    "saved_filepath = clf.save_model(saving_path_name)"
   ]
  },
  {
   "cell_type": "code",
   "execution_count": null,
   "metadata": {},
   "outputs": [],
   "source": [
    "# define new model with basic parameters and load state dict weights\n",
    "loaded_clf = TabNetClassifier()\n",
    "loaded_clf.load_model(saved_filepath)"
   ]
  },
  {
   "cell_type": "code",
   "execution_count": null,
   "metadata": {},
   "outputs": [],
   "source": [
    "loaded_preds = loaded_clf.predict_proba(X_test)\n",
    "loaded_test_auc = roc_auc_score(y_score=loaded_preds[:,1], y_true=y_test)\n",
    "\n",
    "print(f\"FINAL TEST SCORE FOR {dataset_name} : {loaded_test_auc}\")"
   ]
  },
  {
   "cell_type": "code",
   "execution_count": null,
   "metadata": {},
   "outputs": [],
   "source": [
    "assert(test_auc == loaded_test_auc)"
   ]
  },
  {
   "cell_type": "code",
   "execution_count": null,
   "metadata": {},
   "outputs": [],
   "source": [
    "loaded_clf.predict(X_test)"
   ]
  },
  {
   "cell_type": "markdown",
   "metadata": {},
   "source": [
    "# Global explainability : feat importance summing to 1"
   ]
  },
  {
   "cell_type": "code",
   "execution_count": null,
   "metadata": {},
   "outputs": [],
   "source": [
    "clf.feature_importances_"
   ]
  },
  {
   "cell_type": "markdown",
   "metadata": {},
   "source": [
    "# Local explainability and masks"
   ]
  },
  {
   "cell_type": "code",
   "execution_count": null,
   "metadata": {},
   "outputs": [],
   "source": [
    "explain_matrix, masks = clf.explain(X_test)"
   ]
  },
  {
   "cell_type": "code",
   "execution_count": null,
   "metadata": {},
   "outputs": [],
   "source": [
    "fig, axs = plt.subplots(1, 3, figsize=(20,20))\n",
    "\n",
    "for i in range(3):\n",
    "    axs[i].imshow(masks[i][:50])\n",
    "    axs[i].set_title(f\"mask {i}\")\n"
   ]
  },
  {
   "cell_type": "markdown",
   "metadata": {},
   "source": [
    "# XGB"
   ]
  },
  {
   "cell_type": "code",
   "execution_count": null,
   "metadata": {
    "scrolled": true
   },
   "outputs": [],
   "source": [
    "from xgboost import XGBClassifier\n",
    "\n",
    "clf_xgb = XGBClassifier(max_depth=8,\n",
    "    learning_rate=0.1,\n",
    "    n_estimators=1000,\n",
    "    verbosity=0,\n",
    "    silent=None,\n",
    "    objective='binary:logistic',\n",
    "    booster='gbtree',\n",
    "    n_jobs=-1,\n",
    "    nthread=None,\n",
    "    gamma=0,\n",
    "    min_child_weight=1,\n",
    "    max_delta_step=0,\n",
    "    subsample=0.7,\n",
    "    colsample_bytree=1,\n",
    "    colsample_bylevel=1,\n",
    "    colsample_bynode=1,\n",
    "    reg_alpha=0,\n",
    "    reg_lambda=1,\n",
    "    scale_pos_weight=1,\n",
    "    base_score=0.5,\n",
    "    random_state=0,\n",
    "    seed=None,)\n",
    "\n",
    "clf_xgb.fit(X_train, y_train,\n",
    "        eval_set=[(X_valid, y_valid)],\n",
    "        early_stopping_rounds=40,\n",
    "        verbose=10)"
   ]
  },
  {
   "cell_type": "code",
   "execution_count": null,
   "metadata": {},
   "outputs": [],
   "source": [
    "preds = np.array(clf_xgb.predict_proba(X_valid))\n",
    "valid_auc = roc_auc_score(y_score=preds[:,1], y_true=y_valid)\n",
    "print(valid_auc)\n",
    "\n",
    "preds = np.array(clf_xgb.predict_proba(X_test))\n",
    "test_auc = roc_auc_score(y_score=preds[:,1], y_true=y_test)\n",
    "print(test_auc)"
   ]
  }
 ],
 "metadata": {
  "kernelspec": {
   "display_name": "Python 3",
   "language": "python",
   "name": "python3"
  },
  "language_info": {
   "codemirror_mode": {
    "name": "ipython",
    "version": 3
   },
   "file_extension": ".py",
   "mimetype": "text/x-python",
   "name": "python",
   "nbconvert_exporter": "python",
   "pygments_lexer": "ipython3",
   "version": "3.7.5"
  },
  "toc": {
   "base_numbering": 1,
   "nav_menu": {},
   "number_sections": true,
   "sideBar": true,
   "skip_h1_title": false,
   "title_cell": "Table of Contents",
   "title_sidebar": "Contents",
   "toc_cell": false,
   "toc_position": {},
   "toc_section_display": true,
   "toc_window_display": false
  }
 },
 "nbformat": 4,
 "nbformat_minor": 2
}
