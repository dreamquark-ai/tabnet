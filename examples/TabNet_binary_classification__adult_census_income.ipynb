{
  "nbformat": 4,
  "nbformat_minor": 0,
  "metadata": {
    "kernelspec": {
      "display_name": "Python 3",
      "language": "python",
      "name": "python3"
    },
    "language_info": {
      "codemirror_mode": {
        "name": "ipython",
        "version": 3
      },
      "file_extension": ".py",
      "mimetype": "text/x-python",
      "name": "python",
      "nbconvert_exporter": "python",
      "pygments_lexer": "ipython3",
      "version": "3.7.6"
    },
    "colab": {
      "name": "TabNet Adult Census Income.ipynb",
      "provenance": [],
      "collapsed_sections": [],
      "toc_visible": true
    }
  },
  "cells": [
    {
      "cell_type": "markdown",
      "metadata": {
        "id": "F9yPpSoZ4J3B",
        "colab_type": "text"
      },
      "source": [
        "# TabNet example classification for Adult Census Income dataset\n",
        "\n",
        "This notebook shows \n",
        "  - a simple workflow using TabNet for classification of the [Adult Census Income](https://archive.ics.uci.edu/ml/datasets/adult) dataset\n",
        "  - how to get global feature importances from the model\n",
        "  - how to show local feature importances (masks) from the model\n",
        "  - a comparison to XGBoost and LightGBM\n"
      ]
    },
    {
      "cell_type": "code",
      "metadata": {
        "id": "NPJnc5HwebY9",
        "colab_type": "code",
        "colab": {}
      },
      "source": [
        "try:\n",
        "  from pytorch_tabnet.tab_model import TabNetClassifier\n",
        "except:\n",
        "  !pip install pytorch-tabnet\n",
        "  from pytorch_tabnet.tab_model import TabNetClassifier"
      ],
      "execution_count": 1,
      "outputs": []
    },
    {
      "cell_type": "code",
      "metadata": {
        "id": "w9So3dyWeZY7",
        "colab_type": "code",
        "colab": {}
      },
      "source": [
        "try:\n",
        "  import wget\n",
        "except:\n",
        "  !pip install wget\n",
        "  import wget"
      ],
      "execution_count": 2,
      "outputs": []
    },
    {
      "cell_type": "code",
      "metadata": {
        "id": "5pIqyuVMeOHU",
        "colab_type": "code",
        "colab": {
          "base_uri": "https://localhost:8080/",
          "height": 68
        },
        "outputId": "b469cd44-73f2-4d3b-8136-4477ee8117f0"
      },
      "source": [
        "import torch; print('torch: ', torch.__version__)\n",
        "\n",
        "from sklearn.preprocessing import LabelEncoder\n",
        "from sklearn.metrics import roc_auc_score\n",
        "\n",
        "import pandas as pd; print('pandas:', pd.__version__)\n",
        "import numpy as np\n",
        "\n",
        "import os\n",
        "from pathlib import Path\n",
        "\n",
        "from matplotlib import pyplot as plt\n",
        "%matplotlib inline\n",
        "\n",
        "import psutil\n",
        "print('CPU count:', psutil.cpu_count())"
      ],
      "execution_count": 3,
      "outputs": [
        {
          "output_type": "stream",
          "text": [
            "torch:  1.5.1+cu101\n",
            "pandas: 1.0.5\n",
            "CPU count: 2\n"
          ],
          "name": "stdout"
        }
      ]
    },
    {
      "cell_type": "markdown",
      "metadata": {
        "id": "hNsJFN22eOHY",
        "colab_type": "text"
      },
      "source": [
        "# Download census-income dataset"
      ]
    },
    {
      "cell_type": "markdown",
      "metadata": {
        "id": "-OVAe0AXzecJ",
        "colab_type": "text"
      },
      "source": [
        "\n",
        "Adult census-income dataset, extract from the 1994 US census database.\n",
        "\n",
        "Hosted on: https://archive.ics.uci.edu/ml/datasets/adult\n"
      ]
    },
    {
      "cell_type": "code",
      "metadata": {
        "id": "O_KQg7MbeOHY",
        "colab_type": "code",
        "colab": {}
      },
      "source": [
        "url = \"https://archive.ics.uci.edu/ml/machine-learning-databases/adult/adult.data\"\n",
        "dataset_name = 'census-income'\n",
        "path_out = Path(os.getcwd()+'/data/'+dataset_name+'.csv')"
      ],
      "execution_count": 4,
      "outputs": []
    },
    {
      "cell_type": "code",
      "metadata": {
        "id": "foLuW9mneOHb",
        "colab_type": "code",
        "colab": {
          "base_uri": "https://localhost:8080/",
          "height": 34
        },
        "outputId": "4b6a3040-2614-41d8-b686-2792af21134a"
      },
      "source": [
        "path_out.parent.mkdir(parents=True, exist_ok=True)\n",
        "if path_out.exists():\n",
        "    print(\"File already exists.\")\n",
        "else:\n",
        "    print(f\"Downloading file to {path_out}...\", end='')\n",
        "    wget.download(url, path_out.as_posix())\n",
        "    print('done')"
      ],
      "execution_count": 5,
      "outputs": [
        {
          "output_type": "stream",
          "text": [
            "File already exists.\n"
          ],
          "name": "stdout"
        }
      ]
    },
    {
      "cell_type": "markdown",
      "metadata": {
        "id": "bkZdf2CBeOHr",
        "colab_type": "text"
      },
      "source": [
        "# Load data and split"
      ]
    },
    {
      "cell_type": "code",
      "metadata": {
        "id": "BLr5ONyNeOHr",
        "colab_type": "code",
        "colab": {
          "base_uri": "https://localhost:8080/",
          "height": 102
        },
        "outputId": "ffafcc03-6964-40bf-d63c-62e2931d4ac7"
      },
      "source": [
        "# csv file comes without column names\n",
        "column_names = [\n",
        "  'age', 'workclass', 'fnlwgt', 'education', 'education-num', 'maritial-status',\n",
        "  'occupation', 'relationship', 'race', 'sex', 'capital-gain', 'capital-loss',\n",
        "  'hours-per-week', 'native-country', 'target'\n",
        "]\n",
        "\n",
        "train = pd.read_csv(path_out, header=None, names=column_names)\n",
        "print(f'loaded data with shape: {train.shape}\\n')\n",
        "print('dtypes:')\n",
        "print(str(train.dtypes.value_counts()).split(\"\\ndtype\")[0])"
      ],
      "execution_count": 6,
      "outputs": [
        {
          "output_type": "stream",
          "text": [
            "loaded data with shape: (32561, 15)\n",
            "\n",
            "dtypes:\n",
            "object    9\n",
            "int64     6\n"
          ],
          "name": "stdout"
        }
      ]
    },
    {
      "cell_type": "code",
      "metadata": {
        "id": "fYHrqUZPfPF8",
        "colab_type": "code",
        "colab": {
          "base_uri": "https://localhost:8080/",
          "height": 204
        },
        "outputId": "9a8556a6-9770-402c-d986-8eedf6dc48c7"
      },
      "source": [
        "train.head()"
      ],
      "execution_count": 7,
      "outputs": [
        {
          "output_type": "execute_result",
          "data": {
            "text/html": [
              "<div>\n",
              "<style scoped>\n",
              "    .dataframe tbody tr th:only-of-type {\n",
              "        vertical-align: middle;\n",
              "    }\n",
              "\n",
              "    .dataframe tbody tr th {\n",
              "        vertical-align: top;\n",
              "    }\n",
              "\n",
              "    .dataframe thead th {\n",
              "        text-align: right;\n",
              "    }\n",
              "</style>\n",
              "<table border=\"1\" class=\"dataframe\">\n",
              "  <thead>\n",
              "    <tr style=\"text-align: right;\">\n",
              "      <th></th>\n",
              "      <th>age</th>\n",
              "      <th>workclass</th>\n",
              "      <th>fnlwgt</th>\n",
              "      <th>education</th>\n",
              "      <th>education-num</th>\n",
              "      <th>maritial-status</th>\n",
              "      <th>occupation</th>\n",
              "      <th>relationship</th>\n",
              "      <th>race</th>\n",
              "      <th>sex</th>\n",
              "      <th>capital-gain</th>\n",
              "      <th>capital-loss</th>\n",
              "      <th>hours-per-week</th>\n",
              "      <th>native-country</th>\n",
              "      <th>target</th>\n",
              "    </tr>\n",
              "  </thead>\n",
              "  <tbody>\n",
              "    <tr>\n",
              "      <th>0</th>\n",
              "      <td>39</td>\n",
              "      <td>State-gov</td>\n",
              "      <td>77516</td>\n",
              "      <td>Bachelors</td>\n",
              "      <td>13</td>\n",
              "      <td>Never-married</td>\n",
              "      <td>Adm-clerical</td>\n",
              "      <td>Not-in-family</td>\n",
              "      <td>White</td>\n",
              "      <td>Male</td>\n",
              "      <td>2174</td>\n",
              "      <td>0</td>\n",
              "      <td>40</td>\n",
              "      <td>United-States</td>\n",
              "      <td>&lt;=50K</td>\n",
              "    </tr>\n",
              "    <tr>\n",
              "      <th>1</th>\n",
              "      <td>50</td>\n",
              "      <td>Self-emp-not-inc</td>\n",
              "      <td>83311</td>\n",
              "      <td>Bachelors</td>\n",
              "      <td>13</td>\n",
              "      <td>Married-civ-spouse</td>\n",
              "      <td>Exec-managerial</td>\n",
              "      <td>Husband</td>\n",
              "      <td>White</td>\n",
              "      <td>Male</td>\n",
              "      <td>0</td>\n",
              "      <td>0</td>\n",
              "      <td>13</td>\n",
              "      <td>United-States</td>\n",
              "      <td>&lt;=50K</td>\n",
              "    </tr>\n",
              "    <tr>\n",
              "      <th>2</th>\n",
              "      <td>38</td>\n",
              "      <td>Private</td>\n",
              "      <td>215646</td>\n",
              "      <td>HS-grad</td>\n",
              "      <td>9</td>\n",
              "      <td>Divorced</td>\n",
              "      <td>Handlers-cleaners</td>\n",
              "      <td>Not-in-family</td>\n",
              "      <td>White</td>\n",
              "      <td>Male</td>\n",
              "      <td>0</td>\n",
              "      <td>0</td>\n",
              "      <td>40</td>\n",
              "      <td>United-States</td>\n",
              "      <td>&lt;=50K</td>\n",
              "    </tr>\n",
              "    <tr>\n",
              "      <th>3</th>\n",
              "      <td>53</td>\n",
              "      <td>Private</td>\n",
              "      <td>234721</td>\n",
              "      <td>11th</td>\n",
              "      <td>7</td>\n",
              "      <td>Married-civ-spouse</td>\n",
              "      <td>Handlers-cleaners</td>\n",
              "      <td>Husband</td>\n",
              "      <td>Black</td>\n",
              "      <td>Male</td>\n",
              "      <td>0</td>\n",
              "      <td>0</td>\n",
              "      <td>40</td>\n",
              "      <td>United-States</td>\n",
              "      <td>&lt;=50K</td>\n",
              "    </tr>\n",
              "    <tr>\n",
              "      <th>4</th>\n",
              "      <td>28</td>\n",
              "      <td>Private</td>\n",
              "      <td>338409</td>\n",
              "      <td>Bachelors</td>\n",
              "      <td>13</td>\n",
              "      <td>Married-civ-spouse</td>\n",
              "      <td>Prof-specialty</td>\n",
              "      <td>Wife</td>\n",
              "      <td>Black</td>\n",
              "      <td>Female</td>\n",
              "      <td>0</td>\n",
              "      <td>0</td>\n",
              "      <td>40</td>\n",
              "      <td>Cuba</td>\n",
              "      <td>&lt;=50K</td>\n",
              "    </tr>\n",
              "  </tbody>\n",
              "</table>\n",
              "</div>"
            ],
            "text/plain": [
              "   age          workclass  fnlwgt  ... hours-per-week  native-country  target\n",
              "0   39          State-gov   77516  ...             40   United-States   <=50K\n",
              "1   50   Self-emp-not-inc   83311  ...             13   United-States   <=50K\n",
              "2   38            Private  215646  ...             40   United-States   <=50K\n",
              "3   53            Private  234721  ...             40   United-States   <=50K\n",
              "4   28            Private  338409  ...             40            Cuba   <=50K\n",
              "\n",
              "[5 rows x 15 columns]"
            ]
          },
          "metadata": {
            "tags": []
          },
          "execution_count": 7
        }
      ]
    },
    {
      "cell_type": "code",
      "metadata": {
        "id": "WqJhnLAWaNsj",
        "colab_type": "code",
        "colab": {
          "base_uri": "https://localhost:8080/",
          "height": 514
        },
        "outputId": "ef85cd32-58b3-432e-ab1d-f9ce0dc64f68"
      },
      "source": [
        "columns = pd.DataFrame({'column':train.columns})\n",
        "columns['dtype'] = train.dtypes.values\n",
        "columns['nunique'] = train.nunique().values\n",
        "columns['missing'] = train.isnull().sum().values\n",
        "columns"
      ],
      "execution_count": 8,
      "outputs": [
        {
          "output_type": "execute_result",
          "data": {
            "text/html": [
              "<div>\n",
              "<style scoped>\n",
              "    .dataframe tbody tr th:only-of-type {\n",
              "        vertical-align: middle;\n",
              "    }\n",
              "\n",
              "    .dataframe tbody tr th {\n",
              "        vertical-align: top;\n",
              "    }\n",
              "\n",
              "    .dataframe thead th {\n",
              "        text-align: right;\n",
              "    }\n",
              "</style>\n",
              "<table border=\"1\" class=\"dataframe\">\n",
              "  <thead>\n",
              "    <tr style=\"text-align: right;\">\n",
              "      <th></th>\n",
              "      <th>column</th>\n",
              "      <th>dtype</th>\n",
              "      <th>nunique</th>\n",
              "      <th>missing</th>\n",
              "    </tr>\n",
              "  </thead>\n",
              "  <tbody>\n",
              "    <tr>\n",
              "      <th>0</th>\n",
              "      <td>age</td>\n",
              "      <td>int64</td>\n",
              "      <td>73</td>\n",
              "      <td>0</td>\n",
              "    </tr>\n",
              "    <tr>\n",
              "      <th>1</th>\n",
              "      <td>workclass</td>\n",
              "      <td>object</td>\n",
              "      <td>9</td>\n",
              "      <td>0</td>\n",
              "    </tr>\n",
              "    <tr>\n",
              "      <th>2</th>\n",
              "      <td>fnlwgt</td>\n",
              "      <td>int64</td>\n",
              "      <td>21648</td>\n",
              "      <td>0</td>\n",
              "    </tr>\n",
              "    <tr>\n",
              "      <th>3</th>\n",
              "      <td>education</td>\n",
              "      <td>object</td>\n",
              "      <td>16</td>\n",
              "      <td>0</td>\n",
              "    </tr>\n",
              "    <tr>\n",
              "      <th>4</th>\n",
              "      <td>education-num</td>\n",
              "      <td>int64</td>\n",
              "      <td>16</td>\n",
              "      <td>0</td>\n",
              "    </tr>\n",
              "    <tr>\n",
              "      <th>5</th>\n",
              "      <td>maritial-status</td>\n",
              "      <td>object</td>\n",
              "      <td>7</td>\n",
              "      <td>0</td>\n",
              "    </tr>\n",
              "    <tr>\n",
              "      <th>6</th>\n",
              "      <td>occupation</td>\n",
              "      <td>object</td>\n",
              "      <td>15</td>\n",
              "      <td>0</td>\n",
              "    </tr>\n",
              "    <tr>\n",
              "      <th>7</th>\n",
              "      <td>relationship</td>\n",
              "      <td>object</td>\n",
              "      <td>6</td>\n",
              "      <td>0</td>\n",
              "    </tr>\n",
              "    <tr>\n",
              "      <th>8</th>\n",
              "      <td>race</td>\n",
              "      <td>object</td>\n",
              "      <td>5</td>\n",
              "      <td>0</td>\n",
              "    </tr>\n",
              "    <tr>\n",
              "      <th>9</th>\n",
              "      <td>sex</td>\n",
              "      <td>object</td>\n",
              "      <td>2</td>\n",
              "      <td>0</td>\n",
              "    </tr>\n",
              "    <tr>\n",
              "      <th>10</th>\n",
              "      <td>capital-gain</td>\n",
              "      <td>int64</td>\n",
              "      <td>119</td>\n",
              "      <td>0</td>\n",
              "    </tr>\n",
              "    <tr>\n",
              "      <th>11</th>\n",
              "      <td>capital-loss</td>\n",
              "      <td>int64</td>\n",
              "      <td>92</td>\n",
              "      <td>0</td>\n",
              "    </tr>\n",
              "    <tr>\n",
              "      <th>12</th>\n",
              "      <td>hours-per-week</td>\n",
              "      <td>int64</td>\n",
              "      <td>94</td>\n",
              "      <td>0</td>\n",
              "    </tr>\n",
              "    <tr>\n",
              "      <th>13</th>\n",
              "      <td>native-country</td>\n",
              "      <td>object</td>\n",
              "      <td>42</td>\n",
              "      <td>0</td>\n",
              "    </tr>\n",
              "    <tr>\n",
              "      <th>14</th>\n",
              "      <td>target</td>\n",
              "      <td>object</td>\n",
              "      <td>2</td>\n",
              "      <td>0</td>\n",
              "    </tr>\n",
              "  </tbody>\n",
              "</table>\n",
              "</div>"
            ],
            "text/plain": [
              "             column   dtype  nunique  missing\n",
              "0               age   int64       73        0\n",
              "1         workclass  object        9        0\n",
              "2            fnlwgt   int64    21648        0\n",
              "3         education  object       16        0\n",
              "4     education-num   int64       16        0\n",
              "5   maritial-status  object        7        0\n",
              "6        occupation  object       15        0\n",
              "7      relationship  object        6        0\n",
              "8              race  object        5        0\n",
              "9               sex  object        2        0\n",
              "10     capital-gain   int64      119        0\n",
              "11     capital-loss   int64       92        0\n",
              "12   hours-per-week   int64       94        0\n",
              "13   native-country  object       42        0\n",
              "14           target  object        2        0"
            ]
          },
          "metadata": {
            "tags": []
          },
          "execution_count": 8
        }
      ]
    },
    {
      "cell_type": "code",
      "metadata": {
        "id": "FU8tby-rfjBO",
        "colab_type": "code",
        "colab": {
          "base_uri": "https://localhost:8080/",
          "height": 68
        },
        "outputId": "29f2fe95-43ea-4c48-fbb3-31bb890bb5d7"
      },
      "source": [
        "target = 'target'\n",
        "print(train['target'].value_counts())"
      ],
      "execution_count": 9,
      "outputs": [
        {
          "output_type": "stream",
          "text": [
            " <=50K    24720\n",
            " >50K      7841\n",
            "Name: target, dtype: int64\n"
          ],
          "name": "stdout"
        }
      ]
    },
    {
      "cell_type": "code",
      "metadata": {
        "id": "rREIEWCa2YGn",
        "colab_type": "code",
        "colab": {}
      },
      "source": [
        "np.random.seed(42)\n",
        "\n",
        "if \"set\" not in train.columns:\n",
        "    train[\"set\"] = np.random.choice([\"train\", \"valid\", \"test\"], p =[.8, .1, .1], size=(train.shape[0],))\n",
        "\n",
        "train_indices = train[train[\"set\"]==\"train\"].index\n",
        "valid_indices = train[train[\"set\"]==\"valid\"].index\n",
        "test_indices  = train[train[\"set\"]==\"test\" ].index"
      ],
      "execution_count": 10,
      "outputs": []
    },
    {
      "cell_type": "markdown",
      "metadata": {
        "id": "ODLkuaaaeOHu",
        "colab_type": "text"
      },
      "source": [
        "# Simple preprocessing\n",
        "\n",
        "Label encode categorical features and fill empty cells."
      ]
    },
    {
      "cell_type": "code",
      "metadata": {
        "id": "iqNbms6l--XW",
        "colab_type": "code",
        "colab": {}
      },
      "source": [
        "exclude = ['target', 'set']"
      ],
      "execution_count": 11,
      "outputs": []
    },
    {
      "cell_type": "code",
      "metadata": {
        "id": "iZUgc58d6uje",
        "colab_type": "code",
        "colab": {}
      },
      "source": [
        "def get_categorical_columns(df, exclude:list, max_nunique=200) -> list:\n",
        "  \"get a list of categorical columns, either type object or fewer than max_nunique values\"\n",
        "  \n",
        "  columns_catg = [c for c in df.drop(exclude, axis=1).columns \n",
        "                  if (df[c].nunique()<max_nunique \n",
        "                      or df[c].dtype=='object') \n",
        "                  and c.endswith('__label')==False\n",
        "                  ]\n",
        "  return columns_catg\n",
        "\n",
        "\n",
        "def get_categorical_features(df) -> list:\n",
        "  \"get list of numerical categorical features\"\n",
        "  feats_catg = [c for c in df.columns if c.endswith('__label')]\n",
        "  return feats_catg"
      ],
      "execution_count": 12,
      "outputs": []
    },
    {
      "cell_type": "code",
      "metadata": {
        "id": "CDdZGtd-73r5",
        "colab_type": "code",
        "colab": {
          "base_uri": "https://localhost:8080/",
          "height": 238
        },
        "outputId": "ec2381bf-470d-4e01-d615-042bbc39d6f6"
      },
      "source": [
        "columns_catg = get_categorical_columns(train, exclude, max_nunique=200)\n",
        "columns_catg"
      ],
      "execution_count": 13,
      "outputs": [
        {
          "output_type": "execute_result",
          "data": {
            "text/plain": [
              "['age',\n",
              " 'workclass',\n",
              " 'education',\n",
              " 'education-num',\n",
              " 'maritial-status',\n",
              " 'occupation',\n",
              " 'relationship',\n",
              " 'race',\n",
              " 'sex',\n",
              " 'capital-gain',\n",
              " 'capital-loss',\n",
              " 'hours-per-week',\n",
              " 'native-country']"
            ]
          },
          "metadata": {
            "tags": []
          },
          "execution_count": 13
        }
      ]
    },
    {
      "cell_type": "code",
      "metadata": {
        "id": "UmSyE-lS8rY2",
        "colab_type": "code",
        "colab": {
          "base_uri": "https://localhost:8080/",
          "height": 238
        },
        "outputId": "a05406a9-16e5-41c4-dd1e-e39c45341849"
      },
      "source": [
        "  # create new label encoded categorical columns\n",
        "  for col in columns_catg:\n",
        "    train[col] = train[col].fillna(\"00_MISSING\")\n",
        "    train[col+'__label'] = LabelEncoder().fit_transform(train[col].values)\n",
        "\n",
        "  features_catg = get_categorical_features(train)\n",
        "  features_catg"
      ],
      "execution_count": 14,
      "outputs": [
        {
          "output_type": "execute_result",
          "data": {
            "text/plain": [
              "['age__label',\n",
              " 'workclass__label',\n",
              " 'education__label',\n",
              " 'education-num__label',\n",
              " 'maritial-status__label',\n",
              " 'occupation__label',\n",
              " 'relationship__label',\n",
              " 'race__label',\n",
              " 'sex__label',\n",
              " 'capital-gain__label',\n",
              " 'capital-loss__label',\n",
              " 'hours-per-week__label',\n",
              " 'native-country__label']"
            ]
          },
          "metadata": {
            "tags": []
          },
          "execution_count": 14
        }
      ]
    },
    {
      "cell_type": "markdown",
      "metadata": {
        "id": "nd9XwCtyeOHy",
        "colab_type": "text"
      },
      "source": [
        "# Define categorical features for categorical embeddings"
      ]
    },
    {
      "cell_type": "code",
      "metadata": {
        "id": "iFQPTXlKeOHy",
        "colab_type": "code",
        "colab": {
          "base_uri": "https://localhost:8080/",
          "height": 71
        },
        "outputId": "a3556739-144f-4273-8f30-9b15718a45a2"
      },
      "source": [
        "features_all = [col for col in train.select_dtypes('number').columns\n",
        "                if col not in exclude]\n",
        "\n",
        "features_catg_idxs = [i for i, f in enumerate(features_all) if f in features_catg]\n",
        "print('features: ', features_all)\n",
        "print('catg idxs:', features_catg_idxs)"
      ],
      "execution_count": 15,
      "outputs": [
        {
          "output_type": "stream",
          "text": [
            "features:  ['age', 'fnlwgt', 'education-num', 'capital-gain', 'capital-loss', 'hours-per-week', 'age__label', 'workclass__label', 'education__label', 'education-num__label', 'maritial-status__label', 'occupation__label', 'relationship__label', 'race__label', 'sex__label', 'capital-gain__label', 'capital-loss__label', 'hours-per-week__label', 'native-country__label']\n",
            "catg idxs: [6, 7, 8, 9, 10, 11, 12, 13, 14, 15, 16, 17, 18]\n"
          ],
          "name": "stdout"
        }
      ]
    },
    {
      "cell_type": "markdown",
      "metadata": {
        "id": "emixF_oGeOH5",
        "colab_type": "text"
      },
      "source": [
        "# Splits"
      ]
    },
    {
      "cell_type": "code",
      "metadata": {
        "id": "uxjIZpWMeOH5",
        "colab_type": "code",
        "colab": {
          "base_uri": "https://localhost:8080/",
          "height": 34
        },
        "outputId": "2f4c204a-a7a2-41a9-b4c7-9541ac76c54f"
      },
      "source": [
        "X_train = train[features_all].values[train_indices]\n",
        "y_train = train[target].values[train_indices]\n",
        "\n",
        "X_valid = train[features_all].values[valid_indices]\n",
        "y_valid = train[target].values[valid_indices]\n",
        "\n",
        "X_test = train[features_all].values[test_indices]\n",
        "y_test = train[target].values[test_indices]\n",
        "\n",
        "print('train:', X_train.shape, '| valid:', X_valid.shape, '| test:', X_test.shape)"
      ],
      "execution_count": 16,
      "outputs": [
        {
          "output_type": "stream",
          "text": [
            "train: (26070, 19) | valid: (3249, 19) | test: (3242, 19)\n"
          ],
          "name": "stdout"
        }
      ]
    },
    {
      "cell_type": "markdown",
      "metadata": {
        "id": "9mbRqjuS6eJF",
        "colab_type": "text"
      },
      "source": [
        "# TabNet"
      ]
    },
    {
      "cell_type": "code",
      "metadata": {
        "id": "n4yCr3YH9Itt",
        "colab_type": "code",
        "colab": {}
      },
      "source": [
        "def get_categorical_dims(df, features_catg) -> list:\n",
        "  \"get list ov dimensions for each categorical column\"\n",
        "  return list(df[features_catg].nunique().values)\n",
        "\n",
        "\n",
        "def get_embedding_dims(df, features_catg, method='ln'):\n",
        "  \"\"\"\n",
        "  Calculate dimensions for embeddings per feature. Larger dims can learn more but require longer training.\n",
        "  Method:\n",
        "  - int for same size for all features\n",
        "  - 'sqrt' for square root of category counts\n",
        "  - 'ln' for logn of category counts\n",
        "  - 'fastai' for fastai sizes\n",
        "  \"\"\"\n",
        "\n",
        "  emb_dims = []\n",
        "\n",
        "  for f in features_catg:\n",
        "    n_unique = df[f].nunique()\n",
        "    \n",
        "    if type(method)==int:  emb_dims.append( method )\n",
        "    elif method=='sqrt':   emb_dims.append( int(np.sqrt(n_unique)) )\n",
        "    elif method=='ln':     emb_dims.append( max(int(np.log(n_unique)), 1) )\n",
        "    elif method=='fastai': emb_dims.append( min(600, round(1.6 * n_unique**0.56)) )\n",
        "\n",
        "  return emb_dims"
      ],
      "execution_count": 17,
      "outputs": []
    },
    {
      "cell_type": "code",
      "metadata": {
        "id": "YhKJ6p5jilwL",
        "colab_type": "code",
        "colab": {
          "base_uri": "https://localhost:8080/",
          "height": 51
        },
        "outputId": "06837d4c-1097-440b-f917-802ef50bee91"
      },
      "source": [
        "cat_dims = get_categorical_dims(train, features_catg)\n",
        "print('cat dims:    ', cat_dims)\n",
        "\n",
        "cat_emb_dim = get_embedding_dims(train, features_catg, method='ln')\n",
        "print('cat emb dims:', cat_emb_dim)"
      ],
      "execution_count": 18,
      "outputs": [
        {
          "output_type": "stream",
          "text": [
            "cat dims:     [73, 9, 16, 16, 7, 15, 6, 5, 2, 119, 92, 94, 42]\n",
            "cat emb dims: [4, 2, 2, 2, 1, 2, 1, 1, 1, 4, 4, 4, 3]\n"
          ],
          "name": "stdout"
        }
      ]
    },
    {
      "cell_type": "code",
      "metadata": {
        "id": "ZSpUWu_-eOH1",
        "colab_type": "code",
        "colab": {
          "base_uri": "https://localhost:8080/",
          "height": 34
        },
        "outputId": "54602596-f09a-44b2-f9ab-d68142109cd3"
      },
      "source": [
        "# create classifier, default values\n",
        "clf = TabNetClassifier(n_d=8, n_a=8, n_steps=3, gamma=1.3,\n",
        "                       cat_idxs=features_catg_idxs, \n",
        "                       cat_dims=cat_dims,\n",
        "                       cat_emb_dim=cat_emb_dim\n",
        "                       )"
      ],
      "execution_count": 19,
      "outputs": [
        {
          "output_type": "stream",
          "text": [
            "Device used : cpu\n"
          ],
          "name": "stdout"
        }
      ]
    },
    {
      "cell_type": "markdown",
      "metadata": {
        "id": "Hdhiakz96oJ3",
        "colab_type": "text"
      },
      "source": [
        "## Training"
      ]
    },
    {
      "cell_type": "code",
      "metadata": {
        "scrolled": true,
        "id": "1JncajMAeOH7",
        "colab_type": "code",
        "colab": {
          "base_uri": "https://localhost:8080/",
          "height": 1000
        },
        "outputId": "2c3b3556-4c99-4569-96f4-77ffa9283e14"
      },
      "source": [
        "# default values, takes about 300s on a 2 core CPU (Google Colab)\n",
        "clf.fit(  \n",
        "    X_train=X_train, y_train=y_train,\n",
        "    X_valid=X_valid, y_valid=y_valid,\n",
        "    max_epochs=100 , patience=20, \n",
        "    batch_size=1024, virtual_batch_size=128,\n",
        "    num_workers=0,\n",
        "    drop_last=False\n",
        ")\n",
        "\n",
        "print('best score:', -clf.best_cost)"
      ],
      "execution_count": 20,
      "outputs": [
        {
          "output_type": "stream",
          "text": [
            "Will train until validation stopping metric hasn't improved in 20 rounds.\n",
            "---------------------------------------\n",
            "| EPOCH |  train  |   valid  | total time (s)\n",
            "| 1     | 0.71387 |  0.68024 |   3.7       \n",
            "| 2     | 0.83451 |  0.69103 |   7.2       \n",
            "| 3     | 0.85790 |  0.82775 |   10.7      \n",
            "| 4     | 0.87081 |  0.82252 |   14.1      \n",
            "| 5     | 0.87616 |  0.86984 |   17.5      \n",
            "| 6     | 0.88084 |  0.86898 |   21.1      \n",
            "| 7     | 0.88493 |  0.88552 |   24.7      \n",
            "| 8     | 0.88720 |  0.89117 |   28.3      \n",
            "| 9     | 0.88808 |  0.89817 |   31.8      \n",
            "| 10    | 0.88970 |  0.90091 |   35.5      \n",
            "| 11    | 0.89160 |  0.89941 |   39.2      \n",
            "| 12    | 0.89370 |  0.90262 |   42.7      \n",
            "| 13    | 0.89462 |  0.90502 |   46.1      \n",
            "| 14    | 0.89511 |  0.90566 |   49.4      \n",
            "| 15    | 0.89661 |  0.90235 |   52.8      \n",
            "| 16    | 0.89665 |  0.90448 |   56.1      \n",
            "| 17    | 0.89741 |  0.90089 |   59.4      \n",
            "| 18    | 0.89918 |  0.90743 |   62.6      \n",
            "| 19    | 0.89898 |  0.90709 |   65.9      \n",
            "| 20    | 0.89745 |  0.90516 |   69.5      \n",
            "| 21    | 0.89772 |  0.90738 |   72.8      \n",
            "| 22    | 0.90214 |  0.91008 |   76.2      \n",
            "| 23    | 0.90353 |  0.90980 |   79.6      \n",
            "| 24    | 0.90506 |  0.91031 |   82.9      \n",
            "| 25    | 0.90673 |  0.91391 |   86.2      \n",
            "| 26    | 0.90761 |  0.91472 |   89.5      \n",
            "| 27    | 0.90806 |  0.91455 |   92.7      \n",
            "| 28    | 0.91077 |  0.91607 |   96.2      \n",
            "| 29    | 0.91275 |  0.91810 |   99.5      \n",
            "| 30    | 0.91340 |  0.91961 |   102.8     \n",
            "| 31    | 0.91541 |  0.91899 |   106.2     \n",
            "| 32    | 0.91728 |  0.92055 |   109.5     \n",
            "| 33    | 0.91888 |  0.92194 |   112.7     \n",
            "| 34    | 0.92188 |  0.91994 |   116.0     \n",
            "| 35    | 0.92139 |  0.92095 |   119.3     \n",
            "| 36    | 0.92300 |  0.92371 |   122.8     \n",
            "| 37    | 0.92447 |  0.92440 |   126.1     \n",
            "| 38    | 0.92438 |  0.92101 |   129.4     \n",
            "| 39    | 0.92325 |  0.92017 |   132.7     \n",
            "| 40    | 0.92450 |  0.92208 |   135.9     \n",
            "| 41    | 0.92546 |  0.92475 |   139.2     \n",
            "| 42    | 0.92685 |  0.92533 |   142.6     \n",
            "| 43    | 0.92772 |  0.92565 |   145.9     \n",
            "| 44    | 0.92864 |  0.92318 |   149.2     \n",
            "| 45    | 0.92889 |  0.92373 |   152.5     \n",
            "| 46    | 0.92973 |  0.92508 |   155.7     \n",
            "| 47    | 0.93067 |  0.92566 |   158.8     \n",
            "| 48    | 0.93056 |  0.92621 |   162.1     \n",
            "| 49    | 0.92957 |  0.92712 |   165.3     \n",
            "| 50    | 0.93119 |  0.92777 |   168.6     \n",
            "| 51    | 0.93066 |  0.92709 |   171.9     \n",
            "| 52    | 0.93052 |  0.92683 |   175.2     \n",
            "| 53    | 0.93273 |  0.92741 |   178.4     \n",
            "| 54    | 0.93331 |  0.92811 |   181.5     \n",
            "| 55    | 0.93317 |  0.92709 |   184.8     \n",
            "| 56    | 0.93346 |  0.92811 |   188.0     \n",
            "| 57    | 0.93131 |  0.92432 |   191.3     \n",
            "| 58    | 0.93296 |  0.92616 |   194.5     \n",
            "| 59    | 0.93334 |  0.92832 |   197.7     \n",
            "| 60    | 0.93303 |  0.92953 |   200.9     \n",
            "| 61    | 0.93311 |  0.92689 |   204.1     \n",
            "| 62    | 0.93362 |  0.92642 |   207.3     \n",
            "| 63    | 0.93414 |  0.92754 |   210.5     \n",
            "| 64    | 0.93434 |  0.92767 |   213.8     \n",
            "| 65    | 0.93300 |  0.92719 |   217.1     \n",
            "| 66    | 0.93194 |  0.92807 |   220.3     \n",
            "| 67    | 0.93272 |  0.92816 |   223.5     \n",
            "| 68    | 0.92760 |  0.92590 |   226.7     \n",
            "| 69    | 0.92981 |  0.92750 |   230.0     \n",
            "| 70    | 0.93330 |  0.92707 |   233.3     \n",
            "| 71    | 0.93333 |  0.93046 |   236.5     \n",
            "| 72    | 0.93361 |  0.93022 |   239.6     \n",
            "| 73    | 0.93427 |  0.93092 |   242.9     \n",
            "| 74    | 0.93574 |  0.92999 |   246.1     \n",
            "| 75    | 0.93379 |  0.92935 |   249.3     \n",
            "| 76    | 0.93505 |  0.93026 |   252.4     \n",
            "| 77    | 0.93663 |  0.92922 |   255.8     \n",
            "| 78    | 0.93739 |  0.93008 |   259.0     \n",
            "| 79    | 0.93794 |  0.92981 |   262.2     \n",
            "| 80    | 0.93621 |  0.93035 |   265.5     \n",
            "| 81    | 0.93783 |  0.92694 |   268.7     \n",
            "| 82    | 0.93809 |  0.92764 |   271.8     \n",
            "| 83    | 0.93840 |  0.92822 |   275.0     \n",
            "| 84    | 0.93916 |  0.92360 |   278.3     \n",
            "| 85    | 0.93981 |  0.92662 |   281.5     \n",
            "| 86    | 0.93921 |  0.92802 |   284.8     \n",
            "| 87    | 0.94086 |  0.92921 |   288.0     \n",
            "| 88    | 0.93956 |  0.92660 |   291.2     \n",
            "| 89    | 0.93946 |  0.92529 |   294.4     \n",
            "| 90    | 0.93987 |  0.92437 |   297.6     \n",
            "| 91    | 0.93788 |  0.92216 |   300.9     \n",
            "| 92    | 0.93707 |  0.92422 |   304.1     \n",
            "| 93    | 0.93988 |  0.92275 |   307.5     \n",
            "Early stopping occured at epoch 93\n",
            "Training done in 307.472 seconds.\n",
            "---------------------------------------\n",
            "best score: 0.9309194548999999\n"
          ],
          "name": "stdout"
        }
      ]
    },
    {
      "cell_type": "markdown",
      "metadata": {
        "id": "7lxt2vT1vH69",
        "colab_type": "text"
      },
      "source": [
        "Different embedding sizes can have an effect on the model quality.\n",
        "\n",
        "AUC scores per emb_size_method:\n",
        "```\n",
        "method   score     time in s\n",
        "--------|---------|----------\n",
        "ln         0.93092        305\n",
        "all 2      0.93013        212\n",
        "all 1      0.92975        271\n",
        "sqrt       0.92805        178\n",
        "fastai     0.92587        296\n",
        "```\n",
        "TabNet seems to work just fine with small embedding sizes."
      ]
    },
    {
      "cell_type": "code",
      "metadata": {
        "id": "2eVpPNygeOIB",
        "colab_type": "code",
        "colab": {
          "base_uri": "https://localhost:8080/",
          "height": 281
        },
        "outputId": "9c2e8bce-f76b-4bdd-c68b-933bbb56cdce"
      },
      "source": [
        "# plot losses\n",
        "plt.plot(clf.history['train']['loss'], label='train')\n",
        "plt.plot(clf.history['valid']['loss'], label='valid')\n",
        "plt.title('train and validation loss');\n",
        "plt.legend();"
      ],
      "execution_count": 21,
      "outputs": [
        {
          "output_type": "display_data",
          "data": {
            "image/png": "[encoded data removed]",
            "text/plain": [
              "<Figure size 432x288 with 1 Axes>"
            ]
          },
          "metadata": {
            "tags": [],
            "needs_background": "light"
          }
        }
      ]
    },
    {
      "cell_type": "code",
      "metadata": {
        "id": "aPRfAtlUeOIE",
        "colab_type": "code",
        "colab": {
          "base_uri": "https://localhost:8080/",
          "height": 281
        },
        "outputId": "4b473192-b37c-4c06-fe8e-e0dc11fd15d6"
      },
      "source": [
        "# plot auc\n",
        "plt.title('AUC')\n",
        "plt.plot([-x for x in clf.history['train']['metric']], label='train')\n",
        "plt.plot([-x for x in clf.history['valid']['metric']], label='valid')\n",
        "plt.legend();"
      ],
      "execution_count": 22,
      "outputs": [
        {
          "output_type": "display_data",
          "data": {
            "image/png": "[encoded data removed]",
            "text/plain": [
              "<Figure size 432x288 with 1 Axes>"
            ]
          },
          "metadata": {
            "tags": [],
            "needs_background": "light"
          }
        }
      ]
    },
    {
      "cell_type": "markdown",
      "metadata": {
        "id": "DFJ8uNSaeOIH",
        "colab_type": "text"
      },
      "source": [
        "## Predictions"
      ]
    },
    {
      "cell_type": "code",
      "metadata": {
        "id": "RNka7hOVeOII",
        "colab_type": "code",
        "colab": {
          "base_uri": "https://localhost:8080/",
          "height": 51
        },
        "outputId": "c3053b01-6fab-42ad-cfef-1678e4128b51"
      },
      "source": [
        "tabnet_preds_test = clf.predict_proba(X_test)\n",
        "tabnet_test_auc = roc_auc_score(y_score=tabnet_preds_test[:,1], y_true=y_test)\n",
        "\n",
        "print(f\"valid AUC score: {-clf.best_cost}\")\n",
        "print(f\"test AUC score : {tabnet_test_auc}\")"
      ],
      "execution_count": 23,
      "outputs": [
        {
          "output_type": "stream",
          "text": [
            "valid AUC score: 0.9309194548999999\n",
            "test AUC score : 0.926611365719037\n"
          ],
          "name": "stdout"
        }
      ]
    },
    {
      "cell_type": "markdown",
      "metadata": {
        "id": "iEfzqUujeOIK",
        "colab_type": "text"
      },
      "source": [
        "## Global explainability: feat importance summing to 1"
      ]
    },
    {
      "cell_type": "code",
      "metadata": {
        "id": "-OlsyiOteOIK",
        "colab_type": "code",
        "colab": {
          "base_uri": "https://localhost:8080/",
          "height": 439
        },
        "outputId": "f0be1601-f7aa-417c-ea37-07ea0e11bff4"
      },
      "source": [
        "feat_imp = (pd.DataFrame({'feature':features_all,\n",
        "                          'importance':np.round(clf.feature_importances_, 4)})\n",
        "            .sort_values('importance', ascending=False)\n",
        "            .reset_index(drop=True)\n",
        ")\n",
        "feat_imp.style.bar()"
      ],
      "execution_count": 24,
      "outputs": [
        {
          "output_type": "execute_result",
          "data": {
            "text/html": [
              "<style  type=\"text/css\" >\n",
              "    #T_d29ca38c_cffe_11ea_98cf_0242ac1c0002row0_col1 {\n",
              "            width:  10em;\n",
              "             height:  80%;\n",
              "            background:  linear-gradient(90deg,#d65f5f 100.0%, transparent 100.0%);\n",
              "        }    #T_d29ca38c_cffe_11ea_98cf_0242ac1c0002row1_col1 {\n",
              "            width:  10em;\n",
              "             height:  80%;\n",
              "            background:  linear-gradient(90deg,#d65f5f 79.3%, transparent 79.3%);\n",
              "        }    #T_d29ca38c_cffe_11ea_98cf_0242ac1c0002row2_col1 {\n",
              "            width:  10em;\n",
              "             height:  80%;\n",
              "            background:  linear-gradient(90deg,#d65f5f 78.0%, transparent 78.0%);\n",
              "        }    #T_d29ca38c_cffe_11ea_98cf_0242ac1c0002row3_col1 {\n",
              "            width:  10em;\n",
              "             height:  80%;\n",
              "            background:  linear-gradient(90deg,#d65f5f 47.8%, transparent 47.8%);\n",
              "        }    #T_d29ca38c_cffe_11ea_98cf_0242ac1c0002row4_col1 {\n",
              "            width:  10em;\n",
              "             height:  80%;\n",
              "            background:  linear-gradient(90deg,#d65f5f 45.3%, transparent 45.3%);\n",
              "        }    #T_d29ca38c_cffe_11ea_98cf_0242ac1c0002row5_col1 {\n",
              "            width:  10em;\n",
              "             height:  80%;\n",
              "            background:  linear-gradient(90deg,#d65f5f 42.0%, transparent 42.0%);\n",
              "        }    #T_d29ca38c_cffe_11ea_98cf_0242ac1c0002row6_col1 {\n",
              "            width:  10em;\n",
              "             height:  80%;\n",
              "            background:  linear-gradient(90deg,#d65f5f 36.5%, transparent 36.5%);\n",
              "        }    #T_d29ca38c_cffe_11ea_98cf_0242ac1c0002row7_col1 {\n",
              "            width:  10em;\n",
              "             height:  80%;\n",
              "            background:  linear-gradient(90deg,#d65f5f 36.2%, transparent 36.2%);\n",
              "        }    #T_d29ca38c_cffe_11ea_98cf_0242ac1c0002row8_col1 {\n",
              "            width:  10em;\n",
              "             height:  80%;\n",
              "            background:  linear-gradient(90deg,#d65f5f 31.9%, transparent 31.9%);\n",
              "        }    #T_d29ca38c_cffe_11ea_98cf_0242ac1c0002row9_col1 {\n",
              "            width:  10em;\n",
              "             height:  80%;\n",
              "            background:  linear-gradient(90deg,#d65f5f 28.2%, transparent 28.2%);\n",
              "        }    #T_d29ca38c_cffe_11ea_98cf_0242ac1c0002row10_col1 {\n",
              "            width:  10em;\n",
              "             height:  80%;\n",
              "            background:  linear-gradient(90deg,#d65f5f 25.3%, transparent 25.3%);\n",
              "        }    #T_d29ca38c_cffe_11ea_98cf_0242ac1c0002row11_col1 {\n",
              "            width:  10em;\n",
              "             height:  80%;\n",
              "            background:  linear-gradient(90deg,#d65f5f 19.3%, transparent 19.3%);\n",
              "        }    #T_d29ca38c_cffe_11ea_98cf_0242ac1c0002row12_col1 {\n",
              "            width:  10em;\n",
              "             height:  80%;\n",
              "            background:  linear-gradient(90deg,#d65f5f 8.3%, transparent 8.3%);\n",
              "        }    #T_d29ca38c_cffe_11ea_98cf_0242ac1c0002row13_col1 {\n",
              "            width:  10em;\n",
              "             height:  80%;\n",
              "            background:  linear-gradient(90deg,#d65f5f 7.3%, transparent 7.3%);\n",
              "        }    #T_d29ca38c_cffe_11ea_98cf_0242ac1c0002row14_col1 {\n",
              "            width:  10em;\n",
              "             height:  80%;\n",
              "            background:  linear-gradient(90deg,#d65f5f 5.9%, transparent 5.9%);\n",
              "        }    #T_d29ca38c_cffe_11ea_98cf_0242ac1c0002row15_col1 {\n",
              "            width:  10em;\n",
              "             height:  80%;\n",
              "            background:  linear-gradient(90deg,#d65f5f 5.9%, transparent 5.9%);\n",
              "        }    #T_d29ca38c_cffe_11ea_98cf_0242ac1c0002row16_col1 {\n",
              "            width:  10em;\n",
              "             height:  80%;\n",
              "            background:  linear-gradient(90deg,#d65f5f 0.2%, transparent 0.2%);\n",
              "        }    #T_d29ca38c_cffe_11ea_98cf_0242ac1c0002row17_col1 {\n",
              "            width:  10em;\n",
              "             height:  80%;\n",
              "        }    #T_d29ca38c_cffe_11ea_98cf_0242ac1c0002row18_col1 {\n",
              "            width:  10em;\n",
              "             height:  80%;\n",
              "        }</style><table id=\"T_d29ca38c_cffe_11ea_98cf_0242ac1c0002\" ><thead>    <tr>        <th class=\"blank level0\" ></th>        <th class=\"col_heading level0 col0\" >feature</th>        <th class=\"col_heading level0 col1\" >importance</th>    </tr></thead><tbody>\n",
              "                <tr>\n",
              "                        <th id=\"T_d29ca38c_cffe_11ea_98cf_0242ac1c0002level0_row0\" class=\"row_heading level0 row0\" >0</th>\n",
              "                        <td id=\"T_d29ca38c_cffe_11ea_98cf_0242ac1c0002row0_col0\" class=\"data row0 col0\" >hours-per-week__label</td>\n",
              "                        <td id=\"T_d29ca38c_cffe_11ea_98cf_0242ac1c0002row0_col1\" class=\"data row0 col1\" >0.167400</td>\n",
              "            </tr>\n",
              "            <tr>\n",
              "                        <th id=\"T_d29ca38c_cffe_11ea_98cf_0242ac1c0002level0_row1\" class=\"row_heading level0 row1\" >1</th>\n",
              "                        <td id=\"T_d29ca38c_cffe_11ea_98cf_0242ac1c0002row1_col0\" class=\"data row1 col0\" >capital-gain</td>\n",
              "                        <td id=\"T_d29ca38c_cffe_11ea_98cf_0242ac1c0002row1_col1\" class=\"data row1 col1\" >0.132700</td>\n",
              "            </tr>\n",
              "            <tr>\n",
              "                        <th id=\"T_d29ca38c_cffe_11ea_98cf_0242ac1c0002level0_row2\" class=\"row_heading level0 row2\" >2</th>\n",
              "                        <td id=\"T_d29ca38c_cffe_11ea_98cf_0242ac1c0002row2_col0\" class=\"data row2 col0\" >age</td>\n",
              "                        <td id=\"T_d29ca38c_cffe_11ea_98cf_0242ac1c0002row2_col1\" class=\"data row2 col1\" >0.130500</td>\n",
              "            </tr>\n",
              "            <tr>\n",
              "                        <th id=\"T_d29ca38c_cffe_11ea_98cf_0242ac1c0002level0_row3\" class=\"row_heading level0 row3\" >3</th>\n",
              "                        <td id=\"T_d29ca38c_cffe_11ea_98cf_0242ac1c0002row3_col0\" class=\"data row3 col0\" >education-num</td>\n",
              "                        <td id=\"T_d29ca38c_cffe_11ea_98cf_0242ac1c0002row3_col1\" class=\"data row3 col1\" >0.080100</td>\n",
              "            </tr>\n",
              "            <tr>\n",
              "                        <th id=\"T_d29ca38c_cffe_11ea_98cf_0242ac1c0002level0_row4\" class=\"row_heading level0 row4\" >4</th>\n",
              "                        <td id=\"T_d29ca38c_cffe_11ea_98cf_0242ac1c0002row4_col0\" class=\"data row4 col0\" >sex__label</td>\n",
              "                        <td id=\"T_d29ca38c_cffe_11ea_98cf_0242ac1c0002row4_col1\" class=\"data row4 col1\" >0.075800</td>\n",
              "            </tr>\n",
              "            <tr>\n",
              "                        <th id=\"T_d29ca38c_cffe_11ea_98cf_0242ac1c0002level0_row5\" class=\"row_heading level0 row5\" >5</th>\n",
              "                        <td id=\"T_d29ca38c_cffe_11ea_98cf_0242ac1c0002row5_col0\" class=\"data row5 col0\" >maritial-status__label</td>\n",
              "                        <td id=\"T_d29ca38c_cffe_11ea_98cf_0242ac1c0002row5_col1\" class=\"data row5 col1\" >0.070300</td>\n",
              "            </tr>\n",
              "            <tr>\n",
              "                        <th id=\"T_d29ca38c_cffe_11ea_98cf_0242ac1c0002level0_row6\" class=\"row_heading level0 row6\" >6</th>\n",
              "                        <td id=\"T_d29ca38c_cffe_11ea_98cf_0242ac1c0002row6_col0\" class=\"data row6 col0\" >capital-loss</td>\n",
              "                        <td id=\"T_d29ca38c_cffe_11ea_98cf_0242ac1c0002row6_col1\" class=\"data row6 col1\" >0.061100</td>\n",
              "            </tr>\n",
              "            <tr>\n",
              "                        <th id=\"T_d29ca38c_cffe_11ea_98cf_0242ac1c0002level0_row7\" class=\"row_heading level0 row7\" >7</th>\n",
              "                        <td id=\"T_d29ca38c_cffe_11ea_98cf_0242ac1c0002row7_col0\" class=\"data row7 col0\" >relationship__label</td>\n",
              "                        <td id=\"T_d29ca38c_cffe_11ea_98cf_0242ac1c0002row7_col1\" class=\"data row7 col1\" >0.060600</td>\n",
              "            </tr>\n",
              "            <tr>\n",
              "                        <th id=\"T_d29ca38c_cffe_11ea_98cf_0242ac1c0002level0_row8\" class=\"row_heading level0 row8\" >8</th>\n",
              "                        <td id=\"T_d29ca38c_cffe_11ea_98cf_0242ac1c0002row8_col0\" class=\"data row8 col0\" >workclass__label</td>\n",
              "                        <td id=\"T_d29ca38c_cffe_11ea_98cf_0242ac1c0002row8_col1\" class=\"data row8 col1\" >0.053400</td>\n",
              "            </tr>\n",
              "            <tr>\n",
              "                        <th id=\"T_d29ca38c_cffe_11ea_98cf_0242ac1c0002level0_row9\" class=\"row_heading level0 row9\" >9</th>\n",
              "                        <td id=\"T_d29ca38c_cffe_11ea_98cf_0242ac1c0002row9_col0\" class=\"data row9 col0\" >age__label</td>\n",
              "                        <td id=\"T_d29ca38c_cffe_11ea_98cf_0242ac1c0002row9_col1\" class=\"data row9 col1\" >0.047200</td>\n",
              "            </tr>\n",
              "            <tr>\n",
              "                        <th id=\"T_d29ca38c_cffe_11ea_98cf_0242ac1c0002level0_row10\" class=\"row_heading level0 row10\" >10</th>\n",
              "                        <td id=\"T_d29ca38c_cffe_11ea_98cf_0242ac1c0002row10_col0\" class=\"data row10 col0\" >hours-per-week</td>\n",
              "                        <td id=\"T_d29ca38c_cffe_11ea_98cf_0242ac1c0002row10_col1\" class=\"data row10 col1\" >0.042300</td>\n",
              "            </tr>\n",
              "            <tr>\n",
              "                        <th id=\"T_d29ca38c_cffe_11ea_98cf_0242ac1c0002level0_row11\" class=\"row_heading level0 row11\" >11</th>\n",
              "                        <td id=\"T_d29ca38c_cffe_11ea_98cf_0242ac1c0002row11_col0\" class=\"data row11 col0\" >fnlwgt</td>\n",
              "                        <td id=\"T_d29ca38c_cffe_11ea_98cf_0242ac1c0002row11_col1\" class=\"data row11 col1\" >0.032300</td>\n",
              "            </tr>\n",
              "            <tr>\n",
              "                        <th id=\"T_d29ca38c_cffe_11ea_98cf_0242ac1c0002level0_row12\" class=\"row_heading level0 row12\" >12</th>\n",
              "                        <td id=\"T_d29ca38c_cffe_11ea_98cf_0242ac1c0002row12_col0\" class=\"data row12 col0\" >occupation__label</td>\n",
              "                        <td id=\"T_d29ca38c_cffe_11ea_98cf_0242ac1c0002row12_col1\" class=\"data row12 col1\" >0.013900</td>\n",
              "            </tr>\n",
              "            <tr>\n",
              "                        <th id=\"T_d29ca38c_cffe_11ea_98cf_0242ac1c0002level0_row13\" class=\"row_heading level0 row13\" >13</th>\n",
              "                        <td id=\"T_d29ca38c_cffe_11ea_98cf_0242ac1c0002row13_col0\" class=\"data row13 col0\" >capital-gain__label</td>\n",
              "                        <td id=\"T_d29ca38c_cffe_11ea_98cf_0242ac1c0002row13_col1\" class=\"data row13 col1\" >0.012300</td>\n",
              "            </tr>\n",
              "            <tr>\n",
              "                        <th id=\"T_d29ca38c_cffe_11ea_98cf_0242ac1c0002level0_row14\" class=\"row_heading level0 row14\" >14</th>\n",
              "                        <td id=\"T_d29ca38c_cffe_11ea_98cf_0242ac1c0002row14_col0\" class=\"data row14 col0\" >capital-loss__label</td>\n",
              "                        <td id=\"T_d29ca38c_cffe_11ea_98cf_0242ac1c0002row14_col1\" class=\"data row14 col1\" >0.009800</td>\n",
              "            </tr>\n",
              "            <tr>\n",
              "                        <th id=\"T_d29ca38c_cffe_11ea_98cf_0242ac1c0002level0_row15\" class=\"row_heading level0 row15\" >15</th>\n",
              "                        <td id=\"T_d29ca38c_cffe_11ea_98cf_0242ac1c0002row15_col0\" class=\"data row15 col0\" >race__label</td>\n",
              "                        <td id=\"T_d29ca38c_cffe_11ea_98cf_0242ac1c0002row15_col1\" class=\"data row15 col1\" >0.009800</td>\n",
              "            </tr>\n",
              "            <tr>\n",
              "                        <th id=\"T_d29ca38c_cffe_11ea_98cf_0242ac1c0002level0_row16\" class=\"row_heading level0 row16\" >16</th>\n",
              "                        <td id=\"T_d29ca38c_cffe_11ea_98cf_0242ac1c0002row16_col0\" class=\"data row16 col0\" >education__label</td>\n",
              "                        <td id=\"T_d29ca38c_cffe_11ea_98cf_0242ac1c0002row16_col1\" class=\"data row16 col1\" >0.000300</td>\n",
              "            </tr>\n",
              "            <tr>\n",
              "                        <th id=\"T_d29ca38c_cffe_11ea_98cf_0242ac1c0002level0_row17\" class=\"row_heading level0 row17\" >17</th>\n",
              "                        <td id=\"T_d29ca38c_cffe_11ea_98cf_0242ac1c0002row17_col0\" class=\"data row17 col0\" >education-num__label</td>\n",
              "                        <td id=\"T_d29ca38c_cffe_11ea_98cf_0242ac1c0002row17_col1\" class=\"data row17 col1\" >0.000000</td>\n",
              "            </tr>\n",
              "            <tr>\n",
              "                        <th id=\"T_d29ca38c_cffe_11ea_98cf_0242ac1c0002level0_row18\" class=\"row_heading level0 row18\" >18</th>\n",
              "                        <td id=\"T_d29ca38c_cffe_11ea_98cf_0242ac1c0002row18_col0\" class=\"data row18 col0\" >native-country__label</td>\n",
              "                        <td id=\"T_d29ca38c_cffe_11ea_98cf_0242ac1c0002row18_col1\" class=\"data row18 col1\" >0.000000</td>\n",
              "            </tr>\n",
              "    </tbody></table>"
            ],
            "text/plain": [
              "<pandas.io.formats.style.Styler at 0x7f48a4acc5c0>"
            ]
          },
          "metadata": {
            "tags": []
          },
          "execution_count": 24
        }
      ]
    },
    {
      "cell_type": "markdown",
      "metadata": {
        "id": "ndLhrMq_eOIN",
        "colab_type": "text"
      },
      "source": [
        "## Local explainability and masks"
      ]
    },
    {
      "cell_type": "code",
      "metadata": {
        "id": "P6DpabCleOIN",
        "colab_type": "code",
        "colab": {}
      },
      "source": [
        "explain_matrix, masks = clf.explain(X_test)"
      ],
      "execution_count": 25,
      "outputs": []
    },
    {
      "cell_type": "code",
      "metadata": {
        "id": "R1_kNyYneOIR",
        "colab_type": "code",
        "colab": {
          "base_uri": "https://localhost:8080/",
          "height": 928
        },
        "outputId": "6df62763-da6f-4829-e718-3324173edea8"
      },
      "source": [
        "# shows masks per feature for first 50 rows\n",
        "fig, axs = plt.subplots(1, 3, figsize=(20,20))\n",
        "\n",
        "for i in range(3):\n",
        "    axs[i].imshow(masks[i][:50])\n",
        "    axs[i].set_title(f\"mask {i}\")\n"
      ],
      "execution_count": 26,
      "outputs": [
        {
          "output_type": "display_data",
          "data": {
            "image/png": "[encoded data removed]",
            "text/plain": [
              "<Figure size 1440x1440 with 3 Axes>"
            ]
          },
          "metadata": {
            "tags": [],
            "needs_background": "light"
          }
        }
      ]
    },
    {
      "cell_type": "markdown",
      "metadata": {
        "id": "-2ft319jeOIS",
        "colab_type": "text"
      },
      "source": [
        "# Comparison to XGBoost and LightGBM"
      ]
    },
    {
      "cell_type": "markdown",
      "metadata": {
        "id": "vHC5mC_nTv3G",
        "colab_type": "text"
      },
      "source": [
        "## XGBoost"
      ]
    },
    {
      "cell_type": "code",
      "metadata": {
        "id": "e3Np80Plqv4X",
        "colab_type": "code",
        "colab": {}
      },
      "source": [
        "from xgboost import XGBClassifier"
      ],
      "execution_count": 27,
      "outputs": []
    },
    {
      "cell_type": "code",
      "metadata": {
        "scrolled": true,
        "id": "bOMz4bTMeOIT",
        "colab_type": "code",
        "colab": {
          "base_uri": "https://localhost:8080/",
          "height": 714
        },
        "outputId": "96ca9c8c-9c95-4233-e378-1bde4dad8159"
      },
      "source": [
        "%%time\n",
        "# create XGB Classifier with slightly adjusted values (defaults are underfitting too much)\n",
        "# takes about 20s\n",
        "clf_xgb = XGBClassifier( \n",
        "    max_depth=7,\n",
        "    n_estimators=1000,\n",
        "    n_jobs=-1,\n",
        "    learning_rate=0.03,\n",
        "    subsample=0.7,\n",
        "    # rest are default values, no real fine tuning\n",
        "    verbosity=0, \n",
        "    silent=None, \n",
        "    objective='binary:logistic',\n",
        "    booster='gbtree',\n",
        "    nthread=None,\n",
        "    gamma=0,\n",
        "    min_child_weight=1,\n",
        "    max_delta_step=0,\n",
        "    colsample_bytree=1,\n",
        "    colsample_bylevel=1,\n",
        "    colsample_bynode=1,\n",
        "    reg_alpha=0,\n",
        "    reg_lambda=1,\n",
        "    scale_pos_weight=1,\n",
        "    base_score=0.5,\n",
        "    random_state=0,\n",
        "    seed=None)\n",
        "\n",
        "clf_xgb.fit(X_train, y_train,\n",
        "            eval_set=[(X_valid, y_valid)], eval_metric=['auc'],\n",
        "            early_stopping_rounds=40,\n",
        "            verbose=10);"
      ],
      "execution_count": 28,
      "outputs": [
        {
          "output_type": "stream",
          "text": [
            "[0]\tvalidation_0-auc:0.898658\n",
            "Will train until validation_0-auc hasn't improved in 40 rounds.\n",
            "[10]\tvalidation_0-auc:0.911295\n",
            "[20]\tvalidation_0-auc:0.91293\n",
            "[30]\tvalidation_0-auc:0.914427\n",
            "[40]\tvalidation_0-auc:0.916237\n",
            "[50]\tvalidation_0-auc:0.917805\n",
            "[60]\tvalidation_0-auc:0.919076\n",
            "[70]\tvalidation_0-auc:0.920464\n",
            "[80]\tvalidation_0-auc:0.921499\n",
            "[90]\tvalidation_0-auc:0.922259\n",
            "[100]\tvalidation_0-auc:0.923117\n",
            "[110]\tvalidation_0-auc:0.923975\n",
            "[120]\tvalidation_0-auc:0.9246\n",
            "[130]\tvalidation_0-auc:0.925399\n",
            "[140]\tvalidation_0-auc:0.926021\n",
            "[150]\tvalidation_0-auc:0.926525\n",
            "[160]\tvalidation_0-auc:0.927024\n",
            "[170]\tvalidation_0-auc:0.927324\n",
            "[180]\tvalidation_0-auc:0.927655\n",
            "[190]\tvalidation_0-auc:0.927878\n",
            "[200]\tvalidation_0-auc:0.927937\n",
            "[210]\tvalidation_0-auc:0.928267\n",
            "[220]\tvalidation_0-auc:0.928611\n",
            "[230]\tvalidation_0-auc:0.928959\n",
            "[240]\tvalidation_0-auc:0.929236\n",
            "[250]\tvalidation_0-auc:0.929245\n",
            "[260]\tvalidation_0-auc:0.929302\n",
            "[270]\tvalidation_0-auc:0.929323\n",
            "[280]\tvalidation_0-auc:0.92942\n",
            "[290]\tvalidation_0-auc:0.929582\n",
            "[300]\tvalidation_0-auc:0.929612\n",
            "[310]\tvalidation_0-auc:0.9294\n",
            "[320]\tvalidation_0-auc:0.929373\n",
            "[330]\tvalidation_0-auc:0.929446\n",
            "[340]\tvalidation_0-auc:0.92946\n",
            "Stopping. Best iteration:\n",
            "[302]\tvalidation_0-auc:0.929644\n",
            "\n",
            "CPU times: user 17 s, sys: 69.6 ms, total: 17.1 s\n",
            "Wall time: 17.1 s\n"
          ],
          "name": "stdout"
        }
      ]
    },
    {
      "cell_type": "markdown",
      "metadata": {
        "id": "C3ZZIO7STyHu",
        "colab_type": "text"
      },
      "source": [
        "## LightGBM"
      ]
    },
    {
      "cell_type": "code",
      "metadata": {
        "id": "ZeRwOY-WTbuO",
        "colab_type": "code",
        "colab": {}
      },
      "source": [
        "from lightgbm import LGBMClassifier"
      ],
      "execution_count": 29,
      "outputs": []
    },
    {
      "cell_type": "code",
      "metadata": {
        "id": "Hon4xFp4T011",
        "colab_type": "code",
        "colab": {
          "base_uri": "https://localhost:8080/",
          "height": 765
        },
        "outputId": "20eb4dd7-c470-43d3-d127-4e83a4b1927a"
      },
      "source": [
        "%%time\n",
        "# LGBMClassifier with similar parameters to XGBoost\n",
        "# takes about 3s\n",
        "clf_lgb = LGBMClassifier(num_leaves=2**5-1, max_depth=7,  \n",
        "                         learning_rate=0.03, n_estimators=1000, subsample=0.7, \n",
        "                         random_stage=42)\n",
        "\n",
        "clf_lgb.fit(X_train, y_train,\n",
        "            eval_set=[(X_valid, y_valid)], eval_metric=['auc'],\n",
        "            early_stopping_rounds=40,\n",
        "            verbose=10);"
      ],
      "execution_count": 30,
      "outputs": [
        {
          "output_type": "stream",
          "text": [
            "Training until validation scores don't improve for 40 rounds.\n",
            "[10]\tvalid_0's binary_logloss: 0.45972\tvalid_0's auc: 0.906253\n",
            "[20]\tvalid_0's binary_logloss: 0.406689\tvalid_0's auc: 0.907117\n",
            "[30]\tvalid_0's binary_logloss: 0.373178\tvalid_0's auc: 0.91318\n",
            "[40]\tvalid_0's binary_logloss: 0.350706\tvalid_0's auc: 0.915733\n",
            "[50]\tvalid_0's binary_logloss: 0.334718\tvalid_0's auc: 0.918026\n",
            "[60]\tvalid_0's binary_logloss: 0.322997\tvalid_0's auc: 0.919658\n",
            "[70]\tvalid_0's binary_logloss: 0.314687\tvalid_0's auc: 0.920755\n",
            "[80]\tvalid_0's binary_logloss: 0.308685\tvalid_0's auc: 0.921533\n",
            "[90]\tvalid_0's binary_logloss: 0.303969\tvalid_0's auc: 0.922399\n",
            "[100]\tvalid_0's binary_logloss: 0.299591\tvalid_0's auc: 0.923997\n",
            "[110]\tvalid_0's binary_logloss: 0.296084\tvalid_0's auc: 0.925166\n",
            "[120]\tvalid_0's binary_logloss: 0.293299\tvalid_0's auc: 0.925875\n",
            "[130]\tvalid_0's binary_logloss: 0.291371\tvalid_0's auc: 0.926314\n",
            "[140]\tvalid_0's binary_logloss: 0.289519\tvalid_0's auc: 0.926815\n",
            "[150]\tvalid_0's binary_logloss: 0.287981\tvalid_0's auc: 0.927253\n",
            "[160]\tvalid_0's binary_logloss: 0.286975\tvalid_0's auc: 0.927425\n",
            "[170]\tvalid_0's binary_logloss: 0.285774\tvalid_0's auc: 0.927821\n",
            "[180]\tvalid_0's binary_logloss: 0.284611\tvalid_0's auc: 0.928279\n",
            "[190]\tvalid_0's binary_logloss: 0.283774\tvalid_0's auc: 0.928621\n",
            "[200]\tvalid_0's binary_logloss: 0.283054\tvalid_0's auc: 0.928862\n",
            "[210]\tvalid_0's binary_logloss: 0.282358\tvalid_0's auc: 0.929182\n",
            "[220]\tvalid_0's binary_logloss: 0.282076\tvalid_0's auc: 0.929204\n",
            "[230]\tvalid_0's binary_logloss: 0.281591\tvalid_0's auc: 0.929356\n",
            "[240]\tvalid_0's binary_logloss: 0.281331\tvalid_0's auc: 0.929454\n",
            "[250]\tvalid_0's binary_logloss: 0.280937\tvalid_0's auc: 0.929604\n",
            "[260]\tvalid_0's binary_logloss: 0.280745\tvalid_0's auc: 0.929638\n",
            "[270]\tvalid_0's binary_logloss: 0.280533\tvalid_0's auc: 0.929737\n",
            "[280]\tvalid_0's binary_logloss: 0.280318\tvalid_0's auc: 0.92988\n",
            "[290]\tvalid_0's binary_logloss: 0.280166\tvalid_0's auc: 0.92992\n",
            "[300]\tvalid_0's binary_logloss: 0.280002\tvalid_0's auc: 0.93\n",
            "[310]\tvalid_0's binary_logloss: 0.279795\tvalid_0's auc: 0.930072\n",
            "[320]\tvalid_0's binary_logloss: 0.279677\tvalid_0's auc: 0.930122\n",
            "[330]\tvalid_0's binary_logloss: 0.279463\tvalid_0's auc: 0.930236\n",
            "[340]\tvalid_0's binary_logloss: 0.279363\tvalid_0's auc: 0.930274\n",
            "[350]\tvalid_0's binary_logloss: 0.279264\tvalid_0's auc: 0.930289\n",
            "[360]\tvalid_0's binary_logloss: 0.279173\tvalid_0's auc: 0.930333\n",
            "[370]\tvalid_0's binary_logloss: 0.279145\tvalid_0's auc: 0.930286\n",
            "[380]\tvalid_0's binary_logloss: 0.279088\tvalid_0's auc: 0.93032\n",
            "[390]\tvalid_0's binary_logloss: 0.279123\tvalid_0's auc: 0.930271\n",
            "Early stopping, best iteration is:\n",
            "[355]\tvalid_0's binary_logloss: 0.279139\tvalid_0's auc: 0.930359\n",
            "CPU times: user 2.31 s, sys: 44 ms, total: 2.35 s\n",
            "Wall time: 2.35 s\n"
          ],
          "name": "stdout"
        }
      ]
    },
    {
      "cell_type": "markdown",
      "metadata": {
        "id": "CXdHToHQx9nK",
        "colab_type": "text"
      },
      "source": [
        "## all scores and feature importances"
      ]
    },
    {
      "cell_type": "code",
      "metadata": {
        "id": "3905vEZt-ncc",
        "colab_type": "code",
        "colab": {
          "base_uri": "https://localhost:8080/",
          "height": 85
        },
        "outputId": "6b440027-acbc-4d10-fc8d-2566dcb51be7"
      },
      "source": [
        "print('test set AUC scores:')\n",
        "print(f'TabNet:   {tabnet_test_auc:.4f}')\n",
        "\n",
        "xgb_preds_test = clf_xgb.predict_proba(X_test)\n",
        "xgb_test_auc = roc_auc_score(y_score=xgb_preds_test[:,1], y_true=y_test)\n",
        "print(f'XGBoost:  {xgb_test_auc:.4f}')\n",
        "\n",
        "lgb_preds_test = clf_lgb.predict_proba(X_test)\n",
        "lgb_test_auc = roc_auc_score(y_score=lgb_preds_test[:,1], y_true=y_test)\n",
        "print(f'LightGBM: {lgb_test_auc:.4f}')"
      ],
      "execution_count": 34,
      "outputs": [
        {
          "output_type": "stream",
          "text": [
            "test set AUC scores:\n",
            "TabNet:   0.9266\n",
            "XGBoost:  0.9334\n",
            "LightGBM: 0.9329\n"
          ],
          "name": "stdout"
        }
      ]
    },
    {
      "cell_type": "markdown",
      "metadata": {
        "id": "I6qRmIqmTNkG",
        "colab_type": "text"
      },
      "source": [
        "On this dataset, XGBoost and LightGBM score a bit better than TabNet.\n",
        "\n",
        "The combinations of the predictions with a simple average generate a slightly better score, though."
      ]
    },
    {
      "cell_type": "code",
      "metadata": {
        "id": "ANZnXDco1EMm",
        "colab_type": "code",
        "colab": {
          "base_uri": "https://localhost:8080/",
          "height": 34
        },
        "outputId": "02ed8b84-fbd2-49e6-c5fd-baea926f311d"
      },
      "source": [
        "# average of both models, slightly better than single model\n",
        "combined_preds = (tabnet_preds_test[:,1]\n",
        "                  +xgb_preds_test[:,1]\n",
        "                  +lgb_preds_test[:,1]\n",
        "                 ) / 3\n",
        "combined_auc = roc_auc_score(y_score=combined_preds, y_true=y_test)\n",
        "print(f'combined test AUC: {combined_auc:.4f}')"
      ],
      "execution_count": 32,
      "outputs": [
        {
          "output_type": "stream",
          "text": [
            "combined test AUC: 0.9349\n"
          ],
          "name": "stdout"
        }
      ]
    },
    {
      "cell_type": "code",
      "metadata": {
        "id": "M4pZhPCAAn5u",
        "colab_type": "code",
        "colab": {
          "base_uri": "https://localhost:8080/",
          "height": 439
        },
        "outputId": "c11b538e-beca-4d17-c752-ef28cb5fbead"
      },
      "source": [
        "feat_imp = (pd.DataFrame({ 'feature':features_all\n",
        "                          ,'importance_tabnet':np.round(clf.feature_importances_, 4)\n",
        "                          ,'importance_xgb':   np.round(clf_xgb.feature_importances_, 4)\n",
        "                          ,'importance_lgb':   np.round(clf_lgb.feature_importances_, 4)\n",
        "                         })\n",
        "            .sort_values('importance_tabnet', ascending=False)\n",
        "            .reset_index(drop=True)\n",
        ")\n",
        "# LGBM feature importances sum to 1\n",
        "feat_imp['importance_lgb'] = feat_imp['importance_lgb']/feat_imp['importance_lgb'].sum()\n",
        "\n",
        "feat_imp.style.bar()"
      ],
      "execution_count": 33,
      "outputs": [
        {
          "output_type": "execute_result",
          "data": {
            "text/html": [
              "<style  type=\"text/css\" >\n",
              "    #T_df1450ce_cffe_11ea_98cf_0242ac1c0002row0_col1 {\n",
              "            width:  10em;\n",
              "             height:  80%;\n",
              "            background:  linear-gradient(90deg,#d65f5f 100.0%, transparent 100.0%);\n",
              "        }    #T_df1450ce_cffe_11ea_98cf_0242ac1c0002row0_col2 {\n",
              "            width:  10em;\n",
              "             height:  80%;\n",
              "        }    #T_df1450ce_cffe_11ea_98cf_0242ac1c0002row0_col3 {\n",
              "            width:  10em;\n",
              "             height:  80%;\n",
              "        }    #T_df1450ce_cffe_11ea_98cf_0242ac1c0002row1_col1 {\n",
              "            width:  10em;\n",
              "             height:  80%;\n",
              "            background:  linear-gradient(90deg,#d65f5f 79.3%, transparent 79.3%);\n",
              "        }    #T_df1450ce_cffe_11ea_98cf_0242ac1c0002row1_col2 {\n",
              "            width:  10em;\n",
              "             height:  80%;\n",
              "            background:  linear-gradient(90deg,#d65f5f 35.9%, transparent 35.9%);\n",
              "        }    #T_df1450ce_cffe_11ea_98cf_0242ac1c0002row1_col3 {\n",
              "            width:  10em;\n",
              "             height:  80%;\n",
              "            background:  linear-gradient(90deg,#d65f5f 68.3%, transparent 68.3%);\n",
              "        }    #T_df1450ce_cffe_11ea_98cf_0242ac1c0002row2_col1 {\n",
              "            width:  10em;\n",
              "             height:  80%;\n",
              "            background:  linear-gradient(90deg,#d65f5f 78.0%, transparent 78.0%);\n",
              "        }    #T_df1450ce_cffe_11ea_98cf_0242ac1c0002row2_col2 {\n",
              "            width:  10em;\n",
              "             height:  80%;\n",
              "            background:  linear-gradient(90deg,#d65f5f 7.6%, transparent 7.6%);\n",
              "        }    #T_df1450ce_cffe_11ea_98cf_0242ac1c0002row2_col3 {\n",
              "            width:  10em;\n",
              "             height:  80%;\n",
              "            background:  linear-gradient(90deg,#d65f5f 100.0%, transparent 100.0%);\n",
              "        }    #T_df1450ce_cffe_11ea_98cf_0242ac1c0002row3_col1 {\n",
              "            width:  10em;\n",
              "             height:  80%;\n",
              "            background:  linear-gradient(90deg,#d65f5f 47.8%, transparent 47.8%);\n",
              "        }    #T_df1450ce_cffe_11ea_98cf_0242ac1c0002row3_col2 {\n",
              "            width:  10em;\n",
              "             height:  80%;\n",
              "            background:  linear-gradient(90deg,#d65f5f 28.7%, transparent 28.7%);\n",
              "        }    #T_df1450ce_cffe_11ea_98cf_0242ac1c0002row3_col3 {\n",
              "            width:  10em;\n",
              "             height:  80%;\n",
              "            background:  linear-gradient(90deg,#d65f5f 55.8%, transparent 55.8%);\n",
              "        }    #T_df1450ce_cffe_11ea_98cf_0242ac1c0002row4_col1 {\n",
              "            width:  10em;\n",
              "             height:  80%;\n",
              "            background:  linear-gradient(90deg,#d65f5f 45.3%, transparent 45.3%);\n",
              "        }    #T_df1450ce_cffe_11ea_98cf_0242ac1c0002row4_col2 {\n",
              "            width:  10em;\n",
              "             height:  80%;\n",
              "            background:  linear-gradient(90deg,#d65f5f 5.9%, transparent 5.9%);\n",
              "        }    #T_df1450ce_cffe_11ea_98cf_0242ac1c0002row4_col3 {\n",
              "            width:  10em;\n",
              "             height:  80%;\n",
              "            background:  linear-gradient(90deg,#d65f5f 10.9%, transparent 10.9%);\n",
              "        }    #T_df1450ce_cffe_11ea_98cf_0242ac1c0002row5_col1 {\n",
              "            width:  10em;\n",
              "             height:  80%;\n",
              "            background:  linear-gradient(90deg,#d65f5f 42.0%, transparent 42.0%);\n",
              "        }    #T_df1450ce_cffe_11ea_98cf_0242ac1c0002row5_col2 {\n",
              "            width:  10em;\n",
              "             height:  80%;\n",
              "            background:  linear-gradient(90deg,#d65f5f 24.0%, transparent 24.0%);\n",
              "        }    #T_df1450ce_cffe_11ea_98cf_0242ac1c0002row5_col3 {\n",
              "            width:  10em;\n",
              "             height:  80%;\n",
              "            background:  linear-gradient(90deg,#d65f5f 33.8%, transparent 33.8%);\n",
              "        }    #T_df1450ce_cffe_11ea_98cf_0242ac1c0002row6_col1 {\n",
              "            width:  10em;\n",
              "             height:  80%;\n",
              "            background:  linear-gradient(90deg,#d65f5f 36.5%, transparent 36.5%);\n",
              "        }    #T_df1450ce_cffe_11ea_98cf_0242ac1c0002row6_col2 {\n",
              "            width:  10em;\n",
              "             height:  80%;\n",
              "            background:  linear-gradient(90deg,#d65f5f 12.8%, transparent 12.8%);\n",
              "        }    #T_df1450ce_cffe_11ea_98cf_0242ac1c0002row6_col3 {\n",
              "            width:  10em;\n",
              "             height:  80%;\n",
              "            background:  linear-gradient(90deg,#d65f5f 50.9%, transparent 50.9%);\n",
              "        }    #T_df1450ce_cffe_11ea_98cf_0242ac1c0002row7_col1 {\n",
              "            width:  10em;\n",
              "             height:  80%;\n",
              "            background:  linear-gradient(90deg,#d65f5f 36.2%, transparent 36.2%);\n",
              "        }    #T_df1450ce_cffe_11ea_98cf_0242ac1c0002row7_col2 {\n",
              "            width:  10em;\n",
              "             height:  80%;\n",
              "            background:  linear-gradient(90deg,#d65f5f 100.0%, transparent 100.0%);\n",
              "        }    #T_df1450ce_cffe_11ea_98cf_0242ac1c0002row7_col3 {\n",
              "            width:  10em;\n",
              "             height:  80%;\n",
              "            background:  linear-gradient(90deg,#d65f5f 24.7%, transparent 24.7%);\n",
              "        }    #T_df1450ce_cffe_11ea_98cf_0242ac1c0002row8_col1 {\n",
              "            width:  10em;\n",
              "             height:  80%;\n",
              "            background:  linear-gradient(90deg,#d65f5f 31.9%, transparent 31.9%);\n",
              "        }    #T_df1450ce_cffe_11ea_98cf_0242ac1c0002row8_col2 {\n",
              "            width:  10em;\n",
              "             height:  80%;\n",
              "            background:  linear-gradient(90deg,#d65f5f 4.8%, transparent 4.8%);\n",
              "        }    #T_df1450ce_cffe_11ea_98cf_0242ac1c0002row8_col3 {\n",
              "            width:  10em;\n",
              "             height:  80%;\n",
              "            background:  linear-gradient(90deg,#d65f5f 22.9%, transparent 22.9%);\n",
              "        }    #T_df1450ce_cffe_11ea_98cf_0242ac1c0002row9_col1 {\n",
              "            width:  10em;\n",
              "             height:  80%;\n",
              "            background:  linear-gradient(90deg,#d65f5f 28.2%, transparent 28.2%);\n",
              "        }    #T_df1450ce_cffe_11ea_98cf_0242ac1c0002row9_col2 {\n",
              "            width:  10em;\n",
              "             height:  80%;\n",
              "        }    #T_df1450ce_cffe_11ea_98cf_0242ac1c0002row9_col3 {\n",
              "            width:  10em;\n",
              "             height:  80%;\n",
              "        }    #T_df1450ce_cffe_11ea_98cf_0242ac1c0002row10_col1 {\n",
              "            width:  10em;\n",
              "             height:  80%;\n",
              "            background:  linear-gradient(90deg,#d65f5f 25.3%, transparent 25.3%);\n",
              "        }    #T_df1450ce_cffe_11ea_98cf_0242ac1c0002row10_col2 {\n",
              "            width:  10em;\n",
              "             height:  80%;\n",
              "            background:  linear-gradient(90deg,#d65f5f 7.1%, transparent 7.1%);\n",
              "        }    #T_df1450ce_cffe_11ea_98cf_0242ac1c0002row10_col3 {\n",
              "            width:  10em;\n",
              "             height:  80%;\n",
              "            background:  linear-gradient(90deg,#d65f5f 64.7%, transparent 64.7%);\n",
              "        }    #T_df1450ce_cffe_11ea_98cf_0242ac1c0002row11_col1 {\n",
              "            width:  10em;\n",
              "             height:  80%;\n",
              "            background:  linear-gradient(90deg,#d65f5f 19.3%, transparent 19.3%);\n",
              "        }    #T_df1450ce_cffe_11ea_98cf_0242ac1c0002row11_col2 {\n",
              "            width:  10em;\n",
              "             height:  80%;\n",
              "            background:  linear-gradient(90deg,#d65f5f 3.8%, transparent 3.8%);\n",
              "        }    #T_df1450ce_cffe_11ea_98cf_0242ac1c0002row11_col3 {\n",
              "            width:  10em;\n",
              "             height:  80%;\n",
              "            background:  linear-gradient(90deg,#d65f5f 76.9%, transparent 76.9%);\n",
              "        }    #T_df1450ce_cffe_11ea_98cf_0242ac1c0002row12_col1 {\n",
              "            width:  10em;\n",
              "             height:  80%;\n",
              "            background:  linear-gradient(90deg,#d65f5f 8.3%, transparent 8.3%);\n",
              "        }    #T_df1450ce_cffe_11ea_98cf_0242ac1c0002row12_col2 {\n",
              "            width:  10em;\n",
              "             height:  80%;\n",
              "            background:  linear-gradient(90deg,#d65f5f 7.2%, transparent 7.2%);\n",
              "        }    #T_df1450ce_cffe_11ea_98cf_0242ac1c0002row12_col3 {\n",
              "            width:  10em;\n",
              "             height:  80%;\n",
              "            background:  linear-gradient(90deg,#d65f5f 57.6%, transparent 57.6%);\n",
              "        }    #T_df1450ce_cffe_11ea_98cf_0242ac1c0002row13_col1 {\n",
              "            width:  10em;\n",
              "             height:  80%;\n",
              "            background:  linear-gradient(90deg,#d65f5f 7.3%, transparent 7.3%);\n",
              "        }    #T_df1450ce_cffe_11ea_98cf_0242ac1c0002row13_col2 {\n",
              "            width:  10em;\n",
              "             height:  80%;\n",
              "        }    #T_df1450ce_cffe_11ea_98cf_0242ac1c0002row13_col3 {\n",
              "            width:  10em;\n",
              "             height:  80%;\n",
              "        }    #T_df1450ce_cffe_11ea_98cf_0242ac1c0002row14_col1 {\n",
              "            width:  10em;\n",
              "             height:  80%;\n",
              "            background:  linear-gradient(90deg,#d65f5f 5.9%, transparent 5.9%);\n",
              "        }    #T_df1450ce_cffe_11ea_98cf_0242ac1c0002row14_col2 {\n",
              "            width:  10em;\n",
              "             height:  80%;\n",
              "        }    #T_df1450ce_cffe_11ea_98cf_0242ac1c0002row14_col3 {\n",
              "            width:  10em;\n",
              "             height:  80%;\n",
              "        }    #T_df1450ce_cffe_11ea_98cf_0242ac1c0002row15_col1 {\n",
              "            width:  10em;\n",
              "             height:  80%;\n",
              "            background:  linear-gradient(90deg,#d65f5f 5.9%, transparent 5.9%);\n",
              "        }    #T_df1450ce_cffe_11ea_98cf_0242ac1c0002row15_col2 {\n",
              "            width:  10em;\n",
              "             height:  80%;\n",
              "            background:  linear-gradient(90deg,#d65f5f 4.4%, transparent 4.4%);\n",
              "        }    #T_df1450ce_cffe_11ea_98cf_0242ac1c0002row15_col3 {\n",
              "            width:  10em;\n",
              "             height:  80%;\n",
              "            background:  linear-gradient(90deg,#d65f5f 9.9%, transparent 9.9%);\n",
              "        }    #T_df1450ce_cffe_11ea_98cf_0242ac1c0002row16_col1 {\n",
              "            width:  10em;\n",
              "             height:  80%;\n",
              "            background:  linear-gradient(90deg,#d65f5f 0.2%, transparent 0.2%);\n",
              "        }    #T_df1450ce_cffe_11ea_98cf_0242ac1c0002row16_col2 {\n",
              "            width:  10em;\n",
              "             height:  80%;\n",
              "            background:  linear-gradient(90deg,#d65f5f 3.5%, transparent 3.5%);\n",
              "        }    #T_df1450ce_cffe_11ea_98cf_0242ac1c0002row16_col3 {\n",
              "            width:  10em;\n",
              "             height:  80%;\n",
              "            background:  linear-gradient(90deg,#d65f5f 15.0%, transparent 15.0%);\n",
              "        }    #T_df1450ce_cffe_11ea_98cf_0242ac1c0002row17_col1 {\n",
              "            width:  10em;\n",
              "             height:  80%;\n",
              "        }    #T_df1450ce_cffe_11ea_98cf_0242ac1c0002row17_col2 {\n",
              "            width:  10em;\n",
              "             height:  80%;\n",
              "        }    #T_df1450ce_cffe_11ea_98cf_0242ac1c0002row17_col3 {\n",
              "            width:  10em;\n",
              "             height:  80%;\n",
              "        }    #T_df1450ce_cffe_11ea_98cf_0242ac1c0002row18_col1 {\n",
              "            width:  10em;\n",
              "             height:  80%;\n",
              "        }    #T_df1450ce_cffe_11ea_98cf_0242ac1c0002row18_col2 {\n",
              "            width:  10em;\n",
              "             height:  80%;\n",
              "            background:  linear-gradient(90deg,#d65f5f 4.7%, transparent 4.7%);\n",
              "        }    #T_df1450ce_cffe_11ea_98cf_0242ac1c0002row18_col3 {\n",
              "            width:  10em;\n",
              "             height:  80%;\n",
              "            background:  linear-gradient(90deg,#d65f5f 14.5%, transparent 14.5%);\n",
              "        }</style><table id=\"T_df1450ce_cffe_11ea_98cf_0242ac1c0002\" ><thead>    <tr>        <th class=\"blank level0\" ></th>        <th class=\"col_heading level0 col0\" >feature</th>        <th class=\"col_heading level0 col1\" >importance_tabnet</th>        <th class=\"col_heading level0 col2\" >importance_xgb</th>        <th class=\"col_heading level0 col3\" >importance_lgb</th>    </tr></thead><tbody>\n",
              "                <tr>\n",
              "                        <th id=\"T_df1450ce_cffe_11ea_98cf_0242ac1c0002level0_row0\" class=\"row_heading level0 row0\" >0</th>\n",
              "                        <td id=\"T_df1450ce_cffe_11ea_98cf_0242ac1c0002row0_col0\" class=\"data row0 col0\" >hours-per-week__label</td>\n",
              "                        <td id=\"T_df1450ce_cffe_11ea_98cf_0242ac1c0002row0_col1\" class=\"data row0 col1\" >0.167400</td>\n",
              "                        <td id=\"T_df1450ce_cffe_11ea_98cf_0242ac1c0002row0_col2\" class=\"data row0 col2\" >0.000000</td>\n",
              "                        <td id=\"T_df1450ce_cffe_11ea_98cf_0242ac1c0002row0_col3\" class=\"data row0 col3\" >0.000000</td>\n",
              "            </tr>\n",
              "            <tr>\n",
              "                        <th id=\"T_df1450ce_cffe_11ea_98cf_0242ac1c0002level0_row1\" class=\"row_heading level0 row1\" >1</th>\n",
              "                        <td id=\"T_df1450ce_cffe_11ea_98cf_0242ac1c0002row1_col0\" class=\"data row1 col0\" >capital-gain</td>\n",
              "                        <td id=\"T_df1450ce_cffe_11ea_98cf_0242ac1c0002row1_col1\" class=\"data row1 col1\" >0.132700</td>\n",
              "                        <td id=\"T_df1450ce_cffe_11ea_98cf_0242ac1c0002row1_col2\" class=\"data row1 col2\" >0.143400</td>\n",
              "                        <td id=\"T_df1450ce_cffe_11ea_98cf_0242ac1c0002row1_col3\" class=\"data row1 col3\" >0.112775</td>\n",
              "            </tr>\n",
              "            <tr>\n",
              "                        <th id=\"T_df1450ce_cffe_11ea_98cf_0242ac1c0002level0_row2\" class=\"row_heading level0 row2\" >2</th>\n",
              "                        <td id=\"T_df1450ce_cffe_11ea_98cf_0242ac1c0002row2_col0\" class=\"data row2 col0\" >age</td>\n",
              "                        <td id=\"T_df1450ce_cffe_11ea_98cf_0242ac1c0002row2_col1\" class=\"data row2 col1\" >0.130500</td>\n",
              "                        <td id=\"T_df1450ce_cffe_11ea_98cf_0242ac1c0002row2_col2\" class=\"data row2 col2\" >0.030300</td>\n",
              "                        <td id=\"T_df1450ce_cffe_11ea_98cf_0242ac1c0002row2_col3\" class=\"data row2 col3\" >0.165061</td>\n",
              "            </tr>\n",
              "            <tr>\n",
              "                        <th id=\"T_df1450ce_cffe_11ea_98cf_0242ac1c0002level0_row3\" class=\"row_heading level0 row3\" >3</th>\n",
              "                        <td id=\"T_df1450ce_cffe_11ea_98cf_0242ac1c0002row3_col0\" class=\"data row3 col0\" >education-num</td>\n",
              "                        <td id=\"T_df1450ce_cffe_11ea_98cf_0242ac1c0002row3_col1\" class=\"data row3 col1\" >0.080100</td>\n",
              "                        <td id=\"T_df1450ce_cffe_11ea_98cf_0242ac1c0002row3_col2\" class=\"data row3 col2\" >0.114400</td>\n",
              "                        <td id=\"T_df1450ce_cffe_11ea_98cf_0242ac1c0002row3_col3\" class=\"data row3 col3\" >0.092071</td>\n",
              "            </tr>\n",
              "            <tr>\n",
              "                        <th id=\"T_df1450ce_cffe_11ea_98cf_0242ac1c0002level0_row4\" class=\"row_heading level0 row4\" >4</th>\n",
              "                        <td id=\"T_df1450ce_cffe_11ea_98cf_0242ac1c0002row4_col0\" class=\"data row4 col0\" >sex__label</td>\n",
              "                        <td id=\"T_df1450ce_cffe_11ea_98cf_0242ac1c0002row4_col1\" class=\"data row4 col1\" >0.075800</td>\n",
              "                        <td id=\"T_df1450ce_cffe_11ea_98cf_0242ac1c0002row4_col2\" class=\"data row4 col2\" >0.023600</td>\n",
              "                        <td id=\"T_df1450ce_cffe_11ea_98cf_0242ac1c0002row4_col3\" class=\"data row4 col3\" >0.017937</td>\n",
              "            </tr>\n",
              "            <tr>\n",
              "                        <th id=\"T_df1450ce_cffe_11ea_98cf_0242ac1c0002level0_row5\" class=\"row_heading level0 row5\" >5</th>\n",
              "                        <td id=\"T_df1450ce_cffe_11ea_98cf_0242ac1c0002row5_col0\" class=\"data row5 col0\" >maritial-status__label</td>\n",
              "                        <td id=\"T_df1450ce_cffe_11ea_98cf_0242ac1c0002row5_col1\" class=\"data row5 col1\" >0.070300</td>\n",
              "                        <td id=\"T_df1450ce_cffe_11ea_98cf_0242ac1c0002row5_col2\" class=\"data row5 col2\" >0.095800</td>\n",
              "                        <td id=\"T_df1450ce_cffe_11ea_98cf_0242ac1c0002row5_col3\" class=\"data row5 col3\" >0.055720</td>\n",
              "            </tr>\n",
              "            <tr>\n",
              "                        <th id=\"T_df1450ce_cffe_11ea_98cf_0242ac1c0002level0_row6\" class=\"row_heading level0 row6\" >6</th>\n",
              "                        <td id=\"T_df1450ce_cffe_11ea_98cf_0242ac1c0002row6_col0\" class=\"data row6 col0\" >capital-loss</td>\n",
              "                        <td id=\"T_df1450ce_cffe_11ea_98cf_0242ac1c0002row6_col1\" class=\"data row6 col1\" >0.061100</td>\n",
              "                        <td id=\"T_df1450ce_cffe_11ea_98cf_0242ac1c0002row6_col2\" class=\"data row6 col2\" >0.051300</td>\n",
              "                        <td id=\"T_df1450ce_cffe_11ea_98cf_0242ac1c0002row6_col3\" class=\"data row6 col3\" >0.084057</td>\n",
              "            </tr>\n",
              "            <tr>\n",
              "                        <th id=\"T_df1450ce_cffe_11ea_98cf_0242ac1c0002level0_row7\" class=\"row_heading level0 row7\" >7</th>\n",
              "                        <td id=\"T_df1450ce_cffe_11ea_98cf_0242ac1c0002row7_col0\" class=\"data row7 col0\" >relationship__label</td>\n",
              "                        <td id=\"T_df1450ce_cffe_11ea_98cf_0242ac1c0002row7_col1\" class=\"data row7 col1\" >0.060600</td>\n",
              "                        <td id=\"T_df1450ce_cffe_11ea_98cf_0242ac1c0002row7_col2\" class=\"data row7 col2\" >0.399300</td>\n",
              "                        <td id=\"T_df1450ce_cffe_11ea_98cf_0242ac1c0002row7_col3\" class=\"data row7 col3\" >0.040836</td>\n",
              "            </tr>\n",
              "            <tr>\n",
              "                        <th id=\"T_df1450ce_cffe_11ea_98cf_0242ac1c0002level0_row8\" class=\"row_heading level0 row8\" >8</th>\n",
              "                        <td id=\"T_df1450ce_cffe_11ea_98cf_0242ac1c0002row8_col0\" class=\"data row8 col0\" >workclass__label</td>\n",
              "                        <td id=\"T_df1450ce_cffe_11ea_98cf_0242ac1c0002row8_col1\" class=\"data row8 col1\" >0.053400</td>\n",
              "                        <td id=\"T_df1450ce_cffe_11ea_98cf_0242ac1c0002row8_col2\" class=\"data row8 col2\" >0.019200</td>\n",
              "                        <td id=\"T_df1450ce_cffe_11ea_98cf_0242ac1c0002row8_col3\" class=\"data row8 col3\" >0.037783</td>\n",
              "            </tr>\n",
              "            <tr>\n",
              "                        <th id=\"T_df1450ce_cffe_11ea_98cf_0242ac1c0002level0_row9\" class=\"row_heading level0 row9\" >9</th>\n",
              "                        <td id=\"T_df1450ce_cffe_11ea_98cf_0242ac1c0002row9_col0\" class=\"data row9 col0\" >age__label</td>\n",
              "                        <td id=\"T_df1450ce_cffe_11ea_98cf_0242ac1c0002row9_col1\" class=\"data row9 col1\" >0.047200</td>\n",
              "                        <td id=\"T_df1450ce_cffe_11ea_98cf_0242ac1c0002row9_col2\" class=\"data row9 col2\" >0.000000</td>\n",
              "                        <td id=\"T_df1450ce_cffe_11ea_98cf_0242ac1c0002row9_col3\" class=\"data row9 col3\" >0.000000</td>\n",
              "            </tr>\n",
              "            <tr>\n",
              "                        <th id=\"T_df1450ce_cffe_11ea_98cf_0242ac1c0002level0_row10\" class=\"row_heading level0 row10\" >10</th>\n",
              "                        <td id=\"T_df1450ce_cffe_11ea_98cf_0242ac1c0002row10_col0\" class=\"data row10 col0\" >hours-per-week</td>\n",
              "                        <td id=\"T_df1450ce_cffe_11ea_98cf_0242ac1c0002row10_col1\" class=\"data row10 col1\" >0.042300</td>\n",
              "                        <td id=\"T_df1450ce_cffe_11ea_98cf_0242ac1c0002row10_col2\" class=\"data row10 col2\" >0.028500</td>\n",
              "                        <td id=\"T_df1450ce_cffe_11ea_98cf_0242ac1c0002row10_col3\" class=\"data row10 col3\" >0.106860</td>\n",
              "            </tr>\n",
              "            <tr>\n",
              "                        <th id=\"T_df1450ce_cffe_11ea_98cf_0242ac1c0002level0_row11\" class=\"row_heading level0 row11\" >11</th>\n",
              "                        <td id=\"T_df1450ce_cffe_11ea_98cf_0242ac1c0002row11_col0\" class=\"data row11 col0\" >fnlwgt</td>\n",
              "                        <td id=\"T_df1450ce_cffe_11ea_98cf_0242ac1c0002row11_col1\" class=\"data row11 col1\" >0.032300</td>\n",
              "                        <td id=\"T_df1450ce_cffe_11ea_98cf_0242ac1c0002row11_col2\" class=\"data row11 col2\" >0.015300</td>\n",
              "                        <td id=\"T_df1450ce_cffe_11ea_98cf_0242ac1c0002row11_col3\" class=\"data row11 col3\" >0.126896</td>\n",
              "            </tr>\n",
              "            <tr>\n",
              "                        <th id=\"T_df1450ce_cffe_11ea_98cf_0242ac1c0002level0_row12\" class=\"row_heading level0 row12\" >12</th>\n",
              "                        <td id=\"T_df1450ce_cffe_11ea_98cf_0242ac1c0002row12_col0\" class=\"data row12 col0\" >occupation__label</td>\n",
              "                        <td id=\"T_df1450ce_cffe_11ea_98cf_0242ac1c0002row12_col1\" class=\"data row12 col1\" >0.013900</td>\n",
              "                        <td id=\"T_df1450ce_cffe_11ea_98cf_0242ac1c0002row12_col2\" class=\"data row12 col2\" >0.028600</td>\n",
              "                        <td id=\"T_df1450ce_cffe_11ea_98cf_0242ac1c0002row12_col3\" class=\"data row12 col3\" >0.095029</td>\n",
              "            </tr>\n",
              "            <tr>\n",
              "                        <th id=\"T_df1450ce_cffe_11ea_98cf_0242ac1c0002level0_row13\" class=\"row_heading level0 row13\" >13</th>\n",
              "                        <td id=\"T_df1450ce_cffe_11ea_98cf_0242ac1c0002row13_col0\" class=\"data row13 col0\" >capital-gain__label</td>\n",
              "                        <td id=\"T_df1450ce_cffe_11ea_98cf_0242ac1c0002row13_col1\" class=\"data row13 col1\" >0.012300</td>\n",
              "                        <td id=\"T_df1450ce_cffe_11ea_98cf_0242ac1c0002row13_col2\" class=\"data row13 col2\" >0.000000</td>\n",
              "                        <td id=\"T_df1450ce_cffe_11ea_98cf_0242ac1c0002row13_col3\" class=\"data row13 col3\" >0.000000</td>\n",
              "            </tr>\n",
              "            <tr>\n",
              "                        <th id=\"T_df1450ce_cffe_11ea_98cf_0242ac1c0002level0_row14\" class=\"row_heading level0 row14\" >14</th>\n",
              "                        <td id=\"T_df1450ce_cffe_11ea_98cf_0242ac1c0002row14_col0\" class=\"data row14 col0\" >capital-loss__label</td>\n",
              "                        <td id=\"T_df1450ce_cffe_11ea_98cf_0242ac1c0002row14_col1\" class=\"data row14 col1\" >0.009800</td>\n",
              "                        <td id=\"T_df1450ce_cffe_11ea_98cf_0242ac1c0002row14_col2\" class=\"data row14 col2\" >0.000000</td>\n",
              "                        <td id=\"T_df1450ce_cffe_11ea_98cf_0242ac1c0002row14_col3\" class=\"data row14 col3\" >0.000000</td>\n",
              "            </tr>\n",
              "            <tr>\n",
              "                        <th id=\"T_df1450ce_cffe_11ea_98cf_0242ac1c0002level0_row15\" class=\"row_heading level0 row15\" >15</th>\n",
              "                        <td id=\"T_df1450ce_cffe_11ea_98cf_0242ac1c0002row15_col0\" class=\"data row15 col0\" >race__label</td>\n",
              "                        <td id=\"T_df1450ce_cffe_11ea_98cf_0242ac1c0002row15_col1\" class=\"data row15 col1\" >0.009800</td>\n",
              "                        <td id=\"T_df1450ce_cffe_11ea_98cf_0242ac1c0002row15_col2\" class=\"data row15 col2\" >0.017700</td>\n",
              "                        <td id=\"T_df1450ce_cffe_11ea_98cf_0242ac1c0002row15_col3\" class=\"data row15 col3\" >0.016315</td>\n",
              "            </tr>\n",
              "            <tr>\n",
              "                        <th id=\"T_df1450ce_cffe_11ea_98cf_0242ac1c0002level0_row16\" class=\"row_heading level0 row16\" >16</th>\n",
              "                        <td id=\"T_df1450ce_cffe_11ea_98cf_0242ac1c0002row16_col0\" class=\"data row16 col0\" >education__label</td>\n",
              "                        <td id=\"T_df1450ce_cffe_11ea_98cf_0242ac1c0002row16_col1\" class=\"data row16 col1\" >0.000300</td>\n",
              "                        <td id=\"T_df1450ce_cffe_11ea_98cf_0242ac1c0002row16_col2\" class=\"data row16 col2\" >0.013900</td>\n",
              "                        <td id=\"T_df1450ce_cffe_11ea_98cf_0242ac1c0002row16_col3\" class=\"data row16 col3\" >0.024711</td>\n",
              "            </tr>\n",
              "            <tr>\n",
              "                        <th id=\"T_df1450ce_cffe_11ea_98cf_0242ac1c0002level0_row17\" class=\"row_heading level0 row17\" >17</th>\n",
              "                        <td id=\"T_df1450ce_cffe_11ea_98cf_0242ac1c0002row17_col0\" class=\"data row17 col0\" >education-num__label</td>\n",
              "                        <td id=\"T_df1450ce_cffe_11ea_98cf_0242ac1c0002row17_col1\" class=\"data row17 col1\" >0.000000</td>\n",
              "                        <td id=\"T_df1450ce_cffe_11ea_98cf_0242ac1c0002row17_col2\" class=\"data row17 col2\" >0.000000</td>\n",
              "                        <td id=\"T_df1450ce_cffe_11ea_98cf_0242ac1c0002row17_col3\" class=\"data row17 col3\" >0.000000</td>\n",
              "            </tr>\n",
              "            <tr>\n",
              "                        <th id=\"T_df1450ce_cffe_11ea_98cf_0242ac1c0002level0_row18\" class=\"row_heading level0 row18\" >18</th>\n",
              "                        <td id=\"T_df1450ce_cffe_11ea_98cf_0242ac1c0002row18_col0\" class=\"data row18 col0\" >native-country__label</td>\n",
              "                        <td id=\"T_df1450ce_cffe_11ea_98cf_0242ac1c0002row18_col1\" class=\"data row18 col1\" >0.000000</td>\n",
              "                        <td id=\"T_df1450ce_cffe_11ea_98cf_0242ac1c0002row18_col2\" class=\"data row18 col2\" >0.018700</td>\n",
              "                        <td id=\"T_df1450ce_cffe_11ea_98cf_0242ac1c0002row18_col3\" class=\"data row18 col3\" >0.023948</td>\n",
              "            </tr>\n",
              "    </tbody></table>"
            ],
            "text/plain": [
              "<pandas.io.formats.style.Styler at 0x7f4899e63e10>"
            ]
          },
          "metadata": {
            "tags": []
          },
          "execution_count": 33
        }
      ]
    },
    {
      "cell_type": "code",
      "metadata": {
        "id": "SXpmcu0ZAqMV",
        "colab_type": "code",
        "colab": {}
      },
      "source": [
        ""
      ],
      "execution_count": 33,
      "outputs": []
    }
  ]
}