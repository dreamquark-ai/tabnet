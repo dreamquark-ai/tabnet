{
  "nbformat": 4,
  "nbformat_minor": 0,
  "metadata": {
    "kernelspec": {
      "display_name": "Python 3",
      "language": "python",
      "name": "python3"
    },
    "language_info": {
      "codemirror_mode": {
        "name": "ipython",
        "version": 3
      },
      "file_extension": ".py",
      "mimetype": "text/x-python",
      "name": "python",
      "nbconvert_exporter": "python",
      "pygments_lexer": "ipython3",
      "version": "3.7.6"
    },
    "colab": {
      "name": "TabNet Regression Time Series - Metro Interstate Traffic Volume.ipynb",
      "provenance": [],
      "collapsed_sections": [],
      "toc_visible": true
    }
  },
  "cells": [
    {
      "cell_type": "markdown",
      "metadata": {
        "id": "F9yPpSoZ4J3B",
        "colab_type": "text"
      },
      "source": [
        "# TabNet regression example for Metro Interstate Traffic Volume dataset\n",
        "\n",
        "This notebook shows \n",
        "  - a simple workflow using TabNet for regression, [UCI ML repo](https://archive.ics.uci.edu/ml/datasets/Metro+Interstate+Traffic+Volume)\n",
        "  - how to get global feature importances from the model\n",
        "  - how to show local feature importances (masks) from the model\n",
        "  - a comparison to XGBoost and LightGBM\n"
      ]
    },
    {
      "cell_type": "code",
      "metadata": {
        "id": "NPJnc5HwebY9",
        "colab_type": "code",
        "colab": {}
      },
      "source": [
        "try:\n",
        "  from pytorch_tabnet.tab_model import TabNetRegressor\n",
        "except:\n",
        "  !pip install pytorch-tabnet\n",
        "  from pytorch_tabnet.tab_model import TabNetRegressor"
      ],
      "execution_count": 1,
      "outputs": []
    },
    {
      "cell_type": "code",
      "metadata": {
        "id": "w9So3dyWeZY7",
        "colab_type": "code",
        "colab": {}
      },
      "source": [
        "try:\n",
        "  import wget\n",
        "except:\n",
        "  !pip install wget\n",
        "  import wget"
      ],
      "execution_count": 2,
      "outputs": []
    },
    {
      "cell_type": "code",
      "metadata": {
        "id": "tZFcWHjTDSX_",
        "colab_type": "code",
        "colab": {
          "base_uri": "https://localhost:8080/",
          "height": 68
        },
        "outputId": "e5ed91e9-c3c8-4e59-94eb-8078656cb5f2"
      },
      "source": [
        "import torch; print('torch: ', torch.__version__)\n",
        "\n",
        "from sklearn.preprocessing import LabelEncoder\n",
        "from sklearn import metrics\n",
        "\n",
        "import pandas as pd; print('pandas:', pd.__version__)\n",
        "import numpy as np\n",
        "\n",
        "import os\n",
        "import shutil\n",
        "import gzip\n",
        "\n",
        "from pathlib import Path\n",
        "\n",
        "from matplotlib import pyplot as plt\n",
        "%matplotlib inline\n",
        "\n",
        "from pprint import PrettyPrinter\n",
        "pprint = PrettyPrinter().pprint\n",
        "\n",
        "import psutil\n",
        "print('CPU count:', psutil.cpu_count())"
      ],
      "execution_count": 3,
      "outputs": [
        {
          "output_type": "stream",
          "text": [
            "torch:  1.5.1+cu101\n",
            "pandas: 1.0.5\n",
            "CPU count: 2\n"
          ],
          "name": "stdout"
        }
      ]
    },
    {
      "cell_type": "markdown",
      "metadata": {
        "id": "hNsJFN22eOHY",
        "colab_type": "text"
      },
      "source": [
        "# Download dataset"
      ]
    },
    {
      "cell_type": "code",
      "metadata": {
        "id": "90iWI6VBRBkH",
        "colab_type": "code",
        "colab": {}
      },
      "source": [
        "url = \"https://archive.ics.uci.edu/ml/machine-learning-databases/00492/Metro_Interstate_Traffic_Volume.csv.gz\"\n",
        "dataset_name = 'metro_interstate_traffic_volume'\n",
        "tmp_out = Path('./data/'+dataset_name+'.gz')\n",
        "out = Path(os.getcwd()+'/data/'+dataset_name+'.csv')"
      ],
      "execution_count": 4,
      "outputs": []
    },
    {
      "cell_type": "code",
      "metadata": {
        "id": "jKWovaDlROic",
        "colab_type": "code",
        "colab": {
          "base_uri": "https://localhost:8080/",
          "height": 34
        },
        "outputId": "1120e0ee-9e14-4fa7-d8b2-e466c07a2779"
      },
      "source": [
        "out.parent.mkdir(parents=True, exist_ok=True)\n",
        "if out.exists():\n",
        "    print(\"File already exists.\")\n",
        "else:\n",
        "    print(\"Downloading file as\", tmp_out, \"...\")\n",
        "    wget.download(url, tmp_out.as_posix())\n",
        "    print(\"Extracting data to\", out)\n",
        "    with gzip.open(tmp_out, 'rb') as f_in:\n",
        "        with open(out, 'wb') as f_out:\n",
        "            shutil.copyfileobj(f_in, f_out)\n",
        "    print('done')"
      ],
      "execution_count": 5,
      "outputs": [
        {
          "output_type": "stream",
          "text": [
            "File already exists.\n"
          ],
          "name": "stdout"
        }
      ]
    },
    {
      "cell_type": "markdown",
      "metadata": {
        "id": "bkZdf2CBeOHr",
        "colab_type": "text"
      },
      "source": [
        "# Load data and split"
      ]
    },
    {
      "cell_type": "code",
      "metadata": {
        "id": "_5LRVMfQSTRf",
        "colab_type": "code",
        "colab": {
          "base_uri": "https://localhost:8080/",
          "height": 34
        },
        "outputId": "efccc0ca-a04e-4a66-8e67-d6140c7d12b8"
      },
      "source": [
        "df = pd.read_csv(out, parse_dates=['date_time'])\n",
        "print('loaded data with shape:', df.shape)"
      ],
      "execution_count": 6,
      "outputs": [
        {
          "output_type": "stream",
          "text": [
            "loaded data with shape: (48204, 9)\n"
          ],
          "name": "stdout"
        }
      ]
    },
    {
      "cell_type": "code",
      "metadata": {
        "id": "fYHrqUZPfPF8",
        "colab_type": "code",
        "colab": {
          "base_uri": "https://localhost:8080/",
          "height": 204
        },
        "outputId": "325d4f77-fe02-436a-902a-e00f658c8f1b"
      },
      "source": [
        "df.head()"
      ],
      "execution_count": 7,
      "outputs": [
        {
          "output_type": "execute_result",
          "data": {
            "text/html": [
              "<div>\n",
              "<style scoped>\n",
              "    .dataframe tbody tr th:only-of-type {\n",
              "        vertical-align: middle;\n",
              "    }\n",
              "\n",
              "    .dataframe tbody tr th {\n",
              "        vertical-align: top;\n",
              "    }\n",
              "\n",
              "    .dataframe thead th {\n",
              "        text-align: right;\n",
              "    }\n",
              "</style>\n",
              "<table border=\"1\" class=\"dataframe\">\n",
              "  <thead>\n",
              "    <tr style=\"text-align: right;\">\n",
              "      <th></th>\n",
              "      <th>holiday</th>\n",
              "      <th>temp</th>\n",
              "      <th>rain_1h</th>\n",
              "      <th>snow_1h</th>\n",
              "      <th>clouds_all</th>\n",
              "      <th>weather_main</th>\n",
              "      <th>weather_description</th>\n",
              "      <th>date_time</th>\n",
              "      <th>traffic_volume</th>\n",
              "    </tr>\n",
              "  </thead>\n",
              "  <tbody>\n",
              "    <tr>\n",
              "      <th>0</th>\n",
              "      <td>None</td>\n",
              "      <td>288.28</td>\n",
              "      <td>0.0</td>\n",
              "      <td>0.0</td>\n",
              "      <td>40</td>\n",
              "      <td>Clouds</td>\n",
              "      <td>scattered clouds</td>\n",
              "      <td>2012-10-02 09:00:00</td>\n",
              "      <td>5545</td>\n",
              "    </tr>\n",
              "    <tr>\n",
              "      <th>1</th>\n",
              "      <td>None</td>\n",
              "      <td>289.36</td>\n",
              "      <td>0.0</td>\n",
              "      <td>0.0</td>\n",
              "      <td>75</td>\n",
              "      <td>Clouds</td>\n",
              "      <td>broken clouds</td>\n",
              "      <td>2012-10-02 10:00:00</td>\n",
              "      <td>4516</td>\n",
              "    </tr>\n",
              "    <tr>\n",
              "      <th>2</th>\n",
              "      <td>None</td>\n",
              "      <td>289.58</td>\n",
              "      <td>0.0</td>\n",
              "      <td>0.0</td>\n",
              "      <td>90</td>\n",
              "      <td>Clouds</td>\n",
              "      <td>overcast clouds</td>\n",
              "      <td>2012-10-02 11:00:00</td>\n",
              "      <td>4767</td>\n",
              "    </tr>\n",
              "    <tr>\n",
              "      <th>3</th>\n",
              "      <td>None</td>\n",
              "      <td>290.13</td>\n",
              "      <td>0.0</td>\n",
              "      <td>0.0</td>\n",
              "      <td>90</td>\n",
              "      <td>Clouds</td>\n",
              "      <td>overcast clouds</td>\n",
              "      <td>2012-10-02 12:00:00</td>\n",
              "      <td>5026</td>\n",
              "    </tr>\n",
              "    <tr>\n",
              "      <th>4</th>\n",
              "      <td>None</td>\n",
              "      <td>291.14</td>\n",
              "      <td>0.0</td>\n",
              "      <td>0.0</td>\n",
              "      <td>75</td>\n",
              "      <td>Clouds</td>\n",
              "      <td>broken clouds</td>\n",
              "      <td>2012-10-02 13:00:00</td>\n",
              "      <td>4918</td>\n",
              "    </tr>\n",
              "  </tbody>\n",
              "</table>\n",
              "</div>"
            ],
            "text/plain": [
              "  holiday    temp  ...           date_time  traffic_volume\n",
              "0    None  288.28  ... 2012-10-02 09:00:00            5545\n",
              "1    None  289.36  ... 2012-10-02 10:00:00            4516\n",
              "2    None  289.58  ... 2012-10-02 11:00:00            4767\n",
              "3    None  290.13  ... 2012-10-02 12:00:00            5026\n",
              "4    None  291.14  ... 2012-10-02 13:00:00            4918\n",
              "\n",
              "[5 rows x 9 columns]"
            ]
          },
          "metadata": {
            "tags": []
          },
          "execution_count": 7
        }
      ]
    },
    {
      "cell_type": "code",
      "metadata": {
        "id": "WqJhnLAWaNsj",
        "colab_type": "code",
        "colab": {
          "base_uri": "https://localhost:8080/",
          "height": 328
        },
        "outputId": "786c30e3-4715-4bca-dc43-390393c54b01"
      },
      "source": [
        "columns = pd.DataFrame({'column':df.columns})\n",
        "columns['dtype']   = df.dtypes.values\n",
        "columns['nunique'] = df.nunique().values\n",
        "columns['missing'] = df.isnull().sum().values\n",
        "columns"
      ],
      "execution_count": 8,
      "outputs": [
        {
          "output_type": "execute_result",
          "data": {
            "text/html": [
              "<div>\n",
              "<style scoped>\n",
              "    .dataframe tbody tr th:only-of-type {\n",
              "        vertical-align: middle;\n",
              "    }\n",
              "\n",
              "    .dataframe tbody tr th {\n",
              "        vertical-align: top;\n",
              "    }\n",
              "\n",
              "    .dataframe thead th {\n",
              "        text-align: right;\n",
              "    }\n",
              "</style>\n",
              "<table border=\"1\" class=\"dataframe\">\n",
              "  <thead>\n",
              "    <tr style=\"text-align: right;\">\n",
              "      <th></th>\n",
              "      <th>column</th>\n",
              "      <th>dtype</th>\n",
              "      <th>nunique</th>\n",
              "      <th>missing</th>\n",
              "    </tr>\n",
              "  </thead>\n",
              "  <tbody>\n",
              "    <tr>\n",
              "      <th>0</th>\n",
              "      <td>holiday</td>\n",
              "      <td>object</td>\n",
              "      <td>12</td>\n",
              "      <td>0</td>\n",
              "    </tr>\n",
              "    <tr>\n",
              "      <th>1</th>\n",
              "      <td>temp</td>\n",
              "      <td>float64</td>\n",
              "      <td>5843</td>\n",
              "      <td>0</td>\n",
              "    </tr>\n",
              "    <tr>\n",
              "      <th>2</th>\n",
              "      <td>rain_1h</td>\n",
              "      <td>float64</td>\n",
              "      <td>372</td>\n",
              "      <td>0</td>\n",
              "    </tr>\n",
              "    <tr>\n",
              "      <th>3</th>\n",
              "      <td>snow_1h</td>\n",
              "      <td>float64</td>\n",
              "      <td>12</td>\n",
              "      <td>0</td>\n",
              "    </tr>\n",
              "    <tr>\n",
              "      <th>4</th>\n",
              "      <td>clouds_all</td>\n",
              "      <td>int64</td>\n",
              "      <td>60</td>\n",
              "      <td>0</td>\n",
              "    </tr>\n",
              "    <tr>\n",
              "      <th>5</th>\n",
              "      <td>weather_main</td>\n",
              "      <td>object</td>\n",
              "      <td>11</td>\n",
              "      <td>0</td>\n",
              "    </tr>\n",
              "    <tr>\n",
              "      <th>6</th>\n",
              "      <td>weather_description</td>\n",
              "      <td>object</td>\n",
              "      <td>38</td>\n",
              "      <td>0</td>\n",
              "    </tr>\n",
              "    <tr>\n",
              "      <th>7</th>\n",
              "      <td>date_time</td>\n",
              "      <td>datetime64[ns]</td>\n",
              "      <td>40575</td>\n",
              "      <td>0</td>\n",
              "    </tr>\n",
              "    <tr>\n",
              "      <th>8</th>\n",
              "      <td>traffic_volume</td>\n",
              "      <td>int64</td>\n",
              "      <td>6704</td>\n",
              "      <td>0</td>\n",
              "    </tr>\n",
              "  </tbody>\n",
              "</table>\n",
              "</div>"
            ],
            "text/plain": [
              "                column           dtype  nunique  missing\n",
              "0              holiday          object       12        0\n",
              "1                 temp         float64     5843        0\n",
              "2              rain_1h         float64      372        0\n",
              "3              snow_1h         float64       12        0\n",
              "4           clouds_all           int64       60        0\n",
              "5         weather_main          object       11        0\n",
              "6  weather_description          object       38        0\n",
              "7            date_time  datetime64[ns]    40575        0\n",
              "8       traffic_volume           int64     6704        0"
            ]
          },
          "metadata": {
            "tags": []
          },
          "execution_count": 8
        }
      ]
    },
    {
      "cell_type": "code",
      "metadata": {
        "id": "Jlbd-KFheOjw",
        "colab_type": "code",
        "colab": {
          "base_uri": "https://localhost:8080/",
          "height": 51
        },
        "outputId": "a248e340-5f08-4a0b-a88a-cd58a5a2972f"
      },
      "source": [
        "print(df['date_time'].min())\n",
        "print(df['date_time'].max())"
      ],
      "execution_count": 9,
      "outputs": [
        {
          "output_type": "stream",
          "text": [
            "2012-10-02 09:00:00\n",
            "2018-09-30 23:00:00\n"
          ],
          "name": "stdout"
        }
      ]
    },
    {
      "cell_type": "code",
      "metadata": {
        "id": "FU8tby-rfjBO",
        "colab_type": "code",
        "colab": {
          "base_uri": "https://localhost:8080/",
          "height": 265
        },
        "outputId": "fede8145-28a6-445b-96f0-f56954e76d88"
      },
      "source": [
        "target = 'traffic_volume'\n",
        "df[target].hist(bins=50);"
      ],
      "execution_count": 10,
      "outputs": [
        {
          "output_type": "display_data",
          "data": {
            "image/png": "[encoded data removed]",
            "text/plain": [
              "<Figure size 432x288 with 1 Axes>"
            ]
          },
          "metadata": {
            "tags": [],
            "needs_background": "light"
          }
        }
      ]
    },
    {
      "cell_type": "code",
      "metadata": {
        "id": "-z3O8yNirC5o",
        "colab_type": "code",
        "colab": {
          "base_uri": "https://localhost:8080/",
          "height": 303
        },
        "outputId": "9614df77-e128-41d1-bba3-6caea486899c"
      },
      "source": [
        "df.loc[:, ['date_time', 'traffic_volume']].tail(24*10).plot(x='date_time', y='traffic_volume', figsize=(14,4))"
      ],
      "execution_count": 11,
      "outputs": [
        {
          "output_type": "execute_result",
          "data": {
            "text/plain": [
              "<matplotlib.axes._subplots.AxesSubplot at 0x7f0c7aedeb00>"
            ]
          },
          "metadata": {
            "tags": []
          },
          "execution_count": 11
        },
        {
          "output_type": "display_data",
          "data": {
            "image/png": "[encoded data removed]",
            "text/plain": [
              "<Figure size 1008x288 with 1 Axes>"
            ]
          },
          "metadata": {
            "tags": [],
            "needs_background": "light"
          }
        }
      ]
    },
    {
      "cell_type": "code",
      "metadata": {
        "id": "rREIEWCa2YGn",
        "colab_type": "code",
        "colab": {
          "base_uri": "https://localhost:8080/",
          "height": 85
        },
        "outputId": "c6a7a20f-b039-43e7-be6e-78093f7761b5"
      },
      "source": [
        "# time series regression, split on date for validation\n",
        "df['set'] = 'train'\n",
        "\n",
        "df.loc[df['date_time']>='2018-08-01', 'set'] = 'valid'\n",
        "df.loc[df['date_time']>='2018-09-01', 'set'] = 'test'\n",
        "\n",
        "df['set'].value_counts()"
      ],
      "execution_count": 12,
      "outputs": [
        {
          "output_type": "execute_result",
          "data": {
            "text/plain": [
              "train    46323\n",
              "valid      946\n",
              "test       935\n",
              "Name: set, dtype: int64"
            ]
          },
          "metadata": {
            "tags": []
          },
          "execution_count": 12
        }
      ]
    },
    {
      "cell_type": "markdown",
      "metadata": {
        "id": "ODLkuaaaeOHu",
        "colab_type": "text"
      },
      "source": [
        "# Features"
      ]
    },
    {
      "cell_type": "code",
      "metadata": {
        "id": "iqNbms6l--XW",
        "colab_type": "code",
        "colab": {}
      },
      "source": [
        "exclude = ['traffic_volume', 'set']"
      ],
      "execution_count": 13,
      "outputs": []
    },
    {
      "cell_type": "markdown",
      "metadata": {
        "id": "MJiwmotlWkjd",
        "colab_type": "text"
      },
      "source": [
        "## Datetime features"
      ]
    },
    {
      "cell_type": "code",
      "metadata": {
        "id": "Z94GxsvpWYbu",
        "colab_type": "code",
        "colab": {}
      },
      "source": [
        "def add_datetime_features(df, col, add_time_features=False, scale_0_to_1=True, cos_sin_transform=True):\n",
        "    \"\"\"\n",
        "    Create common date and time features out of given datetime-columns.\n",
        "    Optional to scale between 0 and 1.\n",
        "    \"\"\"\n",
        "    \n",
        "    new_cols = []\n",
        "    \n",
        "    if cos_sin_transform:\n",
        "        scale_0_to_1 = True\n",
        "    \n",
        "    # make sure column has a datetime-\n",
        "    df[col] = pd.to_datetime(df[col])\n",
        "    \n",
        "    df[f'dt_{col}_year']        = df[col].dt.year\n",
        "    df[f'dt_{col}_month']       = df[col].dt.month        \n",
        "    df[f'dt_{col}_week']        = df[col].dt.week\n",
        "    df[f'dt_{col}_day']         = df[col].dt.day\n",
        "    df[f'dt_{col}_dayofweek']   = df[col].dt.dayofweek\n",
        "    df[f'dt_{col}_dayofyear']   = df[col].dt.dayofyear\n",
        "    df[f'dt_{col}_daysinmonth'] = df[col].dt.daysinmonth\n",
        "    \n",
        "    if add_time_features:\n",
        "        df[f'dt_{col}_hour'] = df[col].dt.hour\n",
        "        df[f'dt_{col}_min']  = df[col].dt.minute\n",
        "        df[f'dt_{col}_sec']  = df[col].dt.second\n",
        "        \n",
        "    if scale_0_to_1:\n",
        "        max_year = df[f'dt_{col}_year'].max()\n",
        "        min_year = df[f'dt_{col}_year'].min()\n",
        "        df[f'dt_{col}_year']        = (df[f'dt_{col}_year'] - min_year) / (max_year - min_year)\n",
        "        \n",
        "        df[f'dt_{col}_month']       = df[f'dt_{col}_month']     / 12\n",
        "        df[f'dt_{col}_week']        = df[f'dt_{col}_week']      / 52\n",
        "        df[f'dt_{col}_dayofweek']   = df[f'dt_{col}_dayofweek'] / 7\n",
        "        df[f'dt_{col}_day']         = df[f'dt_{col}_day']       / df[f'dt_{col}_daysinmonth']\n",
        "        df[f'dt_{col}_dayofyear']   = df[f'dt_{col}_dayofyear'] / 366\n",
        "        df[f'dt_{col}_daysinmonth'] = df[f'dt_{col}_daysinmonth'] / 31\n",
        "    \n",
        "        if add_time_features:\n",
        "            df[f'dt_{col}_hour'] = df[f'dt_{col}_hour'] / 24\n",
        "            df[f'dt_{col}_min']  = df[f'dt_{col}_min']  / 60\n",
        "            df[f'dt_{col}_sec']  = df[f'dt_{col}_sec']  / 60\n",
        "            \n",
        "            \n",
        "    if cos_sin_transform:\n",
        "        for seasonal_part in ['month', 'week', 'dayofweek']:\n",
        "            df[f'dt_{col}_{seasonal_part}_cos'] = np.round(np.cos(df[f'dt_{col}_{seasonal_part}']      * 2 * np.pi), 4)\n",
        "            df[f'dt_{col}_{seasonal_part}_sin'] = np.round(np.sin(df[f'dt_{col}_{seasonal_part}']      * 2 * np.pi), 4)\n",
        "    \n",
        "        if add_time_features:\n",
        "            for seasonal_part in ['hour', 'min', 'sec']:\n",
        "                df[f'dt_{col}_{seasonal_part}_cos'] = np.round(np.cos(df[f'dt_{col}_{seasonal_part}']      * 2 * np.pi), 4)\n",
        "                df[f'dt_{col}_{seasonal_part}_sin'] = np.round(np.sin(df[f'dt_{col}_{seasonal_part}']      * 2 * np.pi), 4)\n",
        "        \n",
        "    new_cols = [col for col in df.columns if col.startswith(f'dt_')]\n",
        "                \n",
        "    return df, new_cols"
      ],
      "execution_count": 14,
      "outputs": []
    },
    {
      "cell_type": "code",
      "metadata": {
        "id": "hniQf7I_WuSR",
        "colab_type": "code",
        "colab": {
          "base_uri": "https://localhost:8080/",
          "height": 391
        },
        "outputId": "b0d47e0e-bb28-46cb-cf3b-2afc12e57a74"
      },
      "source": [
        "df, columns_dt = add_datetime_features(df, 'date_time', add_time_features=True)\n",
        "pprint(columns_dt)"
      ],
      "execution_count": 15,
      "outputs": [
        {
          "output_type": "stream",
          "text": [
            "['dt_date_time_year',\n",
            " 'dt_date_time_month',\n",
            " 'dt_date_time_week',\n",
            " 'dt_date_time_day',\n",
            " 'dt_date_time_dayofweek',\n",
            " 'dt_date_time_dayofyear',\n",
            " 'dt_date_time_daysinmonth',\n",
            " 'dt_date_time_hour',\n",
            " 'dt_date_time_min',\n",
            " 'dt_date_time_sec',\n",
            " 'dt_date_time_month_cos',\n",
            " 'dt_date_time_month_sin',\n",
            " 'dt_date_time_week_cos',\n",
            " 'dt_date_time_week_sin',\n",
            " 'dt_date_time_dayofweek_cos',\n",
            " 'dt_date_time_dayofweek_sin',\n",
            " 'dt_date_time_hour_cos',\n",
            " 'dt_date_time_hour_sin',\n",
            " 'dt_date_time_min_cos',\n",
            " 'dt_date_time_min_sin',\n",
            " 'dt_date_time_sec_cos',\n",
            " 'dt_date_time_sec_sin']\n"
          ],
          "name": "stdout"
        }
      ]
    },
    {
      "cell_type": "code",
      "metadata": {
        "id": "3VX--whRW5-R",
        "colab_type": "code",
        "colab": {
          "base_uri": "https://localhost:8080/",
          "height": 224
        },
        "outputId": "2eef9523-d02e-41ac-aa4f-081df81fd25f"
      },
      "source": [
        "df.loc[:, columns_dt].sample(5)"
      ],
      "execution_count": 16,
      "outputs": [
        {
          "output_type": "execute_result",
          "data": {
            "text/html": [
              "<div>\n",
              "<style scoped>\n",
              "    .dataframe tbody tr th:only-of-type {\n",
              "        vertical-align: middle;\n",
              "    }\n",
              "\n",
              "    .dataframe tbody tr th {\n",
              "        vertical-align: top;\n",
              "    }\n",
              "\n",
              "    .dataframe thead th {\n",
              "        text-align: right;\n",
              "    }\n",
              "</style>\n",
              "<table border=\"1\" class=\"dataframe\">\n",
              "  <thead>\n",
              "    <tr style=\"text-align: right;\">\n",
              "      <th></th>\n",
              "      <th>dt_date_time_year</th>\n",
              "      <th>dt_date_time_month</th>\n",
              "      <th>dt_date_time_week</th>\n",
              "      <th>dt_date_time_day</th>\n",
              "      <th>dt_date_time_dayofweek</th>\n",
              "      <th>dt_date_time_dayofyear</th>\n",
              "      <th>dt_date_time_daysinmonth</th>\n",
              "      <th>dt_date_time_hour</th>\n",
              "      <th>dt_date_time_min</th>\n",
              "      <th>dt_date_time_sec</th>\n",
              "      <th>dt_date_time_month_cos</th>\n",
              "      <th>dt_date_time_month_sin</th>\n",
              "      <th>dt_date_time_week_cos</th>\n",
              "      <th>dt_date_time_week_sin</th>\n",
              "      <th>dt_date_time_dayofweek_cos</th>\n",
              "      <th>dt_date_time_dayofweek_sin</th>\n",
              "      <th>dt_date_time_hour_cos</th>\n",
              "      <th>dt_date_time_hour_sin</th>\n",
              "      <th>dt_date_time_min_cos</th>\n",
              "      <th>dt_date_time_min_sin</th>\n",
              "      <th>dt_date_time_sec_cos</th>\n",
              "      <th>dt_date_time_sec_sin</th>\n",
              "    </tr>\n",
              "  </thead>\n",
              "  <tbody>\n",
              "    <tr>\n",
              "      <th>9959</th>\n",
              "      <td>0.166667</td>\n",
              "      <td>0.916667</td>\n",
              "      <td>0.903846</td>\n",
              "      <td>0.600000</td>\n",
              "      <td>0.000000</td>\n",
              "      <td>0.879781</td>\n",
              "      <td>0.967742</td>\n",
              "      <td>0.625000</td>\n",
              "      <td>0.0</td>\n",
              "      <td>0.0</td>\n",
              "      <td>0.866</td>\n",
              "      <td>-0.5</td>\n",
              "      <td>0.8230</td>\n",
              "      <td>-0.5681</td>\n",
              "      <td>1.0000</td>\n",
              "      <td>0.0000</td>\n",
              "      <td>-0.7071</td>\n",
              "      <td>-0.7071</td>\n",
              "      <td>1.0</td>\n",
              "      <td>0.0</td>\n",
              "      <td>1.0</td>\n",
              "      <td>0.0</td>\n",
              "    </tr>\n",
              "    <tr>\n",
              "      <th>33996</th>\n",
              "      <td>0.833333</td>\n",
              "      <td>0.416667</td>\n",
              "      <td>0.403846</td>\n",
              "      <td>0.806452</td>\n",
              "      <td>0.428571</td>\n",
              "      <td>0.396175</td>\n",
              "      <td>1.000000</td>\n",
              "      <td>0.083333</td>\n",
              "      <td>0.0</td>\n",
              "      <td>0.0</td>\n",
              "      <td>-0.866</td>\n",
              "      <td>0.5</td>\n",
              "      <td>-0.8230</td>\n",
              "      <td>0.5681</td>\n",
              "      <td>-0.9010</td>\n",
              "      <td>0.4339</td>\n",
              "      <td>0.8660</td>\n",
              "      <td>0.5000</td>\n",
              "      <td>1.0</td>\n",
              "      <td>0.0</td>\n",
              "      <td>1.0</td>\n",
              "      <td>0.0</td>\n",
              "    </tr>\n",
              "    <tr>\n",
              "      <th>7521</th>\n",
              "      <td>0.166667</td>\n",
              "      <td>0.583333</td>\n",
              "      <td>0.538462</td>\n",
              "      <td>0.258065</td>\n",
              "      <td>0.000000</td>\n",
              "      <td>0.516393</td>\n",
              "      <td>1.000000</td>\n",
              "      <td>0.541667</td>\n",
              "      <td>0.0</td>\n",
              "      <td>0.0</td>\n",
              "      <td>-0.866</td>\n",
              "      <td>-0.5</td>\n",
              "      <td>-0.9709</td>\n",
              "      <td>-0.2393</td>\n",
              "      <td>1.0000</td>\n",
              "      <td>0.0000</td>\n",
              "      <td>-0.9659</td>\n",
              "      <td>-0.2588</td>\n",
              "      <td>1.0</td>\n",
              "      <td>0.0</td>\n",
              "      <td>1.0</td>\n",
              "      <td>0.0</td>\n",
              "    </tr>\n",
              "    <tr>\n",
              "      <th>37480</th>\n",
              "      <td>0.833333</td>\n",
              "      <td>0.750000</td>\n",
              "      <td>0.750000</td>\n",
              "      <td>0.866667</td>\n",
              "      <td>0.142857</td>\n",
              "      <td>0.734973</td>\n",
              "      <td>0.967742</td>\n",
              "      <td>0.250000</td>\n",
              "      <td>0.0</td>\n",
              "      <td>0.0</td>\n",
              "      <td>-0.000</td>\n",
              "      <td>-1.0</td>\n",
              "      <td>-0.0000</td>\n",
              "      <td>-1.0000</td>\n",
              "      <td>0.6235</td>\n",
              "      <td>0.7818</td>\n",
              "      <td>0.0000</td>\n",
              "      <td>1.0000</td>\n",
              "      <td>1.0</td>\n",
              "      <td>0.0</td>\n",
              "      <td>1.0</td>\n",
              "      <td>0.0</td>\n",
              "    </tr>\n",
              "    <tr>\n",
              "      <th>28949</th>\n",
              "      <td>0.666667</td>\n",
              "      <td>1.000000</td>\n",
              "      <td>0.942308</td>\n",
              "      <td>0.290323</td>\n",
              "      <td>0.571429</td>\n",
              "      <td>0.939891</td>\n",
              "      <td>1.000000</td>\n",
              "      <td>0.375000</td>\n",
              "      <td>0.0</td>\n",
              "      <td>0.0</td>\n",
              "      <td>1.000</td>\n",
              "      <td>-0.0</td>\n",
              "      <td>0.9350</td>\n",
              "      <td>-0.3546</td>\n",
              "      <td>-0.9010</td>\n",
              "      <td>-0.4339</td>\n",
              "      <td>-0.7071</td>\n",
              "      <td>0.7071</td>\n",
              "      <td>1.0</td>\n",
              "      <td>0.0</td>\n",
              "      <td>1.0</td>\n",
              "      <td>0.0</td>\n",
              "    </tr>\n",
              "  </tbody>\n",
              "</table>\n",
              "</div>"
            ],
            "text/plain": [
              "       dt_date_time_year  ...  dt_date_time_sec_sin\n",
              "9959            0.166667  ...                   0.0\n",
              "33996           0.833333  ...                   0.0\n",
              "7521            0.166667  ...                   0.0\n",
              "37480           0.833333  ...                   0.0\n",
              "28949           0.666667  ...                   0.0\n",
              "\n",
              "[5 rows x 22 columns]"
            ]
          },
          "metadata": {
            "tags": []
          },
          "execution_count": 16
        }
      ]
    },
    {
      "cell_type": "code",
      "metadata": {
        "id": "q9JUxlcQxtTA",
        "colab_type": "code",
        "colab": {}
      },
      "source": [
        "# drop columns with just one unique value (data is aggregated to hours)\n",
        "df = df.drop(['dt_date_time_min', 'dt_date_time_sec',\n",
        "              'dt_date_time_min_cos', 'dt_date_time_min_sin', 'dt_date_time_sec_cos', 'dt_date_time_sec_sin'], axis=1)"
      ],
      "execution_count": 17,
      "outputs": []
    },
    {
      "cell_type": "markdown",
      "metadata": {
        "id": "IMKhzJ_5Yr8u",
        "colab_type": "text"
      },
      "source": [
        "## Categorical"
      ]
    },
    {
      "cell_type": "code",
      "metadata": {
        "id": "Ea1VkoVJZ2GL",
        "colab_type": "code",
        "colab": {}
      },
      "source": [
        "# specify which columns to regard as categorical\n",
        "columns_catg = ['holiday', 'weather_main', 'weather_description', \n",
        "                'dt_date_time_year', 'dt_date_time_month', 'dt_date_time_week', 'dt_date_time_day', 'dt_date_time_dayofweek', \n",
        "                'dt_date_time_daysinmonth', \n",
        "                'dt_date_time_hour', \n",
        "                ]"
      ],
      "execution_count": 18,
      "outputs": []
    },
    {
      "cell_type": "code",
      "metadata": {
        "id": "sstvHx-oZ7et",
        "colab_type": "code",
        "colab": {}
      },
      "source": [
        "  # create new label encoded categorical columns, keep original columns\n",
        "  for col in columns_catg:\n",
        "    df[col] = df[col].fillna(\"00_MISSING\")\n",
        "    df[col+'__label'] = LabelEncoder().fit_transform(df[col].values)"
      ],
      "execution_count": 19,
      "outputs": []
    },
    {
      "cell_type": "code",
      "metadata": {
        "id": "NBDiND_1Y9Pt",
        "colab_type": "code",
        "colab": {
          "base_uri": "https://localhost:8080/",
          "height": 187
        },
        "outputId": "a4b1f78a-aca8-43df-803b-df0b2c30222b"
      },
      "source": [
        "def get_categorical_features(df) -> list:\n",
        "  \"get list of numerical categorical features\"\n",
        "  feats_catg = [c for c in df.columns if c.endswith('__label')]\n",
        "  return feats_catg\n",
        "\n",
        "\n",
        "features_catg = get_categorical_features(df)\n",
        "pprint(features_catg)"
      ],
      "execution_count": 20,
      "outputs": [
        {
          "output_type": "stream",
          "text": [
            "['holiday__label',\n",
            " 'weather_main__label',\n",
            " 'weather_description__label',\n",
            " 'dt_date_time_year__label',\n",
            " 'dt_date_time_month__label',\n",
            " 'dt_date_time_week__label',\n",
            " 'dt_date_time_day__label',\n",
            " 'dt_date_time_dayofweek__label',\n",
            " 'dt_date_time_daysinmonth__label',\n",
            " 'dt_date_time_hour__label']\n"
          ],
          "name": "stdout"
        }
      ]
    },
    {
      "cell_type": "code",
      "metadata": {
        "id": "iFQPTXlKeOHy",
        "colab_type": "code",
        "colab": {
          "base_uri": "https://localhost:8080/",
          "height": 54
        },
        "outputId": "6b75c4bf-2d23-4322-e517-df03eaa5a294"
      },
      "source": [
        "features_all = [col for col in df.select_dtypes('number').columns\n",
        "                if col not in exclude]\n",
        "\n",
        "print(len(features_all), 'features: ', features_all)\n",
        "\n",
        "features_catg_idxs = [i for i, f in enumerate(features_all) if f in features_catg]"
      ],
      "execution_count": 21,
      "outputs": [
        {
          "output_type": "stream",
          "text": [
            "30 features:  ['temp', 'rain_1h', 'snow_1h', 'clouds_all', 'dt_date_time_year', 'dt_date_time_month', 'dt_date_time_week', 'dt_date_time_day', 'dt_date_time_dayofweek', 'dt_date_time_dayofyear', 'dt_date_time_daysinmonth', 'dt_date_time_hour', 'dt_date_time_month_cos', 'dt_date_time_month_sin', 'dt_date_time_week_cos', 'dt_date_time_week_sin', 'dt_date_time_dayofweek_cos', 'dt_date_time_dayofweek_sin', 'dt_date_time_hour_cos', 'dt_date_time_hour_sin', 'holiday__label', 'weather_main__label', 'weather_description__label', 'dt_date_time_year__label', 'dt_date_time_month__label', 'dt_date_time_week__label', 'dt_date_time_day__label', 'dt_date_time_dayofweek__label', 'dt_date_time_daysinmonth__label', 'dt_date_time_hour__label']\n"
          ],
          "name": "stdout"
        }
      ]
    },
    {
      "cell_type": "markdown",
      "metadata": {
        "id": "emixF_oGeOH5",
        "colab_type": "text"
      },
      "source": [
        "# Splits"
      ]
    },
    {
      "cell_type": "code",
      "metadata": {
        "id": "uxjIZpWMeOH5",
        "colab_type": "code",
        "colab": {
          "base_uri": "https://localhost:8080/",
          "height": 34
        },
        "outputId": "1b694de4-616a-484d-dc05-b409b0acb770"
      },
      "source": [
        "X_train = df.loc[df['set']=='train', features_all].values\n",
        "y_train = df.loc[df['set']=='train', target].values\n",
        "\n",
        "X_valid = df.loc[df['set']=='valid', features_all].values\n",
        "y_valid = df.loc[df['set']=='valid', target].values\n",
        "\n",
        "X_test = df.loc[df['set']=='test', features_all].values\n",
        "y_test = df.loc[df['set']=='test', target].values\n",
        "\n",
        "print('train:', X_train.shape, '| valid:', X_valid.shape, '| test:', X_test.shape)"
      ],
      "execution_count": 22,
      "outputs": [
        {
          "output_type": "stream",
          "text": [
            "train: (46323, 30) | valid: (946, 30) | test: (935, 30)\n"
          ],
          "name": "stdout"
        }
      ]
    },
    {
      "cell_type": "markdown",
      "metadata": {
        "id": "9mbRqjuS6eJF",
        "colab_type": "text"
      },
      "source": [
        "# TabNet"
      ]
    },
    {
      "cell_type": "code",
      "metadata": {
        "id": "0XDRqNrgbXsH",
        "colab_type": "code",
        "colab": {}
      },
      "source": [
        "def get_categorical_dims(df, features_catg) -> list:\n",
        "  \"get list ov dimensions for each categorical column\"\n",
        "  return list(df[features_catg].nunique().values)\n",
        "\n",
        "\n",
        "def get_embedding_dims(df, features_catg, method='ln'):\n",
        "  \"\"\"\n",
        "  Calculate dimensions for embeddings per feature. Larger dims can learn more but require longer training.\n",
        "  Method:\n",
        "  - int for same size for all features\n",
        "  - 'sqrt' for square root of category counts\n",
        "  - 'ln' for logn of category counts\n",
        "  - 'fastai' for fastai sizes\n",
        "  \"\"\"\n",
        "\n",
        "  emb_dims = []\n",
        "\n",
        "  for f in features_catg:\n",
        "    n_unique = df[f].nunique()\n",
        "    \n",
        "    if type(method)==int:  emb_dims.append( method )\n",
        "    elif method=='sqrt':   emb_dims.append( int(np.sqrt(n_unique)) )\n",
        "    elif method=='ln':     emb_dims.append( max(int(np.log(n_unique)), 1) )\n",
        "    elif method=='fastai': emb_dims.append( min(600, round(1.6 * n_unique**0.56)) )\n",
        "\n",
        "  return emb_dims"
      ],
      "execution_count": 23,
      "outputs": []
    },
    {
      "cell_type": "code",
      "metadata": {
        "id": "LzcEDogMbZFF",
        "colab_type": "code",
        "colab": {
          "base_uri": "https://localhost:8080/",
          "height": 51
        },
        "outputId": "a4bd395f-d465-4386-b54d-9d8ad150020d"
      },
      "source": [
        "cat_dims = get_categorical_dims(df, features_catg)\n",
        "print('cat dims:    ', cat_dims)\n",
        "\n",
        "cat_emb_dim = get_embedding_dims(df, features_catg, method='ln')\n",
        "print('cat emb dims:', cat_emb_dim)"
      ],
      "execution_count": 24,
      "outputs": [
        {
          "output_type": "stream",
          "text": [
            "cat dims:     [12, 11, 38, 7, 12, 53, 114, 7, 4, 24]\n",
            "cat emb dims: [2, 2, 3, 1, 2, 3, 4, 1, 1, 3]\n"
          ],
          "name": "stdout"
        }
      ]
    },
    {
      "cell_type": "code",
      "metadata": {
        "id": "ZSpUWu_-eOH1",
        "colab_type": "code",
        "colab": {
          "base_uri": "https://localhost:8080/",
          "height": 34
        },
        "outputId": "26c39f2d-7569-4cbf-de80-a0de0b49e68d"
      },
      "source": [
        "# create estimator, default values\n",
        "est = TabNetRegressor(n_d=8, n_a=8, n_steps=3, gamma=1.3, \n",
        "                      cat_idxs=features_catg_idxs, \n",
        "                      cat_dims=cat_dims,\n",
        "                      cat_emb_dim=cat_emb_dim, \n",
        "                      optimizer_fn=torch.optim.Adam,\n",
        "                      optimizer_params={'lr':0.02}, \n",
        "                      scheduler_fn=torch.optim.lr_scheduler.StepLR,\n",
        "                      scheduler_params={\"gamma\": 0.5, \"step_size\": 10},\n",
        "                      )"
      ],
      "execution_count": 25,
      "outputs": [
        {
          "output_type": "stream",
          "text": [
            "Device used : cpu\n"
          ],
          "name": "stdout"
        }
      ]
    },
    {
      "cell_type": "markdown",
      "metadata": {
        "id": "Hdhiakz96oJ3",
        "colab_type": "text"
      },
      "source": [
        "## Training"
      ]
    },
    {
      "cell_type": "code",
      "metadata": {
        "scrolled": true,
        "id": "1JncajMAeOH7",
        "colab_type": "code",
        "colab": {
          "base_uri": "https://localhost:8080/",
          "height": 1000
        },
        "outputId": "71f58de7-092f-499e-8201-6393a7f386ff"
      },
      "source": [
        "# default values, takes about 360s on a 2 core CPU (Google Colab)\n",
        "est.fit(  \n",
        "    X_train=X_train, y_train=y_train.reshape(-1, 1),\n",
        "    X_valid=X_valid, y_valid=y_valid.reshape(-1, 1),\n",
        "    max_epochs=100 , patience=10, \n",
        "    batch_size=1024, virtual_batch_size=128,\n",
        "    num_workers=0,\n",
        "    drop_last=False\n",
        ")"
      ],
      "execution_count": 26,
      "outputs": [
        {
          "output_type": "stream",
          "text": [
            "Will train until validation stopping metric hasn't improved in 10 rounds.\n",
            "---------------------------------------\n",
            "| EPOCH |  train  |   valid  | total time (s)\n",
            "| 1     | -14449821.00000 |  -15010134.00000 |   4.9       \n",
            "| 2     | -13863387.00000 |  -13894443.00000 |   9.8       \n",
            "| 3     | -12635407.00000 |  -12139713.00000 |   14.7      \n",
            "| 4     | -10703302.00000 |  -10065251.00000 |   19.5      \n",
            "| 5     | -8394888.00000 |  -7681773.50000 |   24.2      \n",
            "| 6     | -6076614.00000 |  -5172964.50000 |   29.3      \n",
            "| 7     | -3955559.75000 |  -2407300.00000 |   34.1      \n",
            "| 8     | -2152195.25000 |  -1528137.87500 |   38.8      \n",
            "| 9     | -1045298.81250 |  -750533.68750 |   43.6      \n",
            "| 10    | -564895.87500 |  -243840.26562 |   48.3      \n",
            "| 11    | -387775.00000 |  -470552.96875 |   53.1      \n",
            "| 12    | -362625.90625 |  -170297.17188 |   57.9      \n",
            "| 13    | -308615.21875 |  -195382.75000 |   62.8      \n",
            "| 14    | -280526.71875 |  -138570.43750 |   67.7      \n",
            "| 15    | -256843.28125 |  -253028.32812 |   72.7      \n",
            "| 16    | -248401.79688 |  -89625.85938 |   77.5      \n",
            "| 17    | -220898.57812 |  -142055.43750 |   82.2      \n",
            "| 18    | -209527.57812 |  -146462.79688 |   87.2      \n",
            "| 19    | -202012.12500 |  -82218.52344 |   92.1      \n",
            "| 20    | -185666.67188 |  -137944.56250 |   97.0      \n",
            "| 21    | -171309.09375 |  -60293.38672 |   102.0     \n",
            "| 22    | -163772.98438 |  -95182.53125 |   106.8     \n",
            "| 23    | -162878.95312 |  -68323.92188 |   112.0     \n",
            "| 24    | -157297.14062 |  -73943.28906 |   117.0     \n",
            "| 25    | -153951.23438 |  -75150.27344 |   121.9     \n",
            "| 26    | -151387.20312 |  -92730.14844 |   126.7     \n",
            "| 27    | -151750.96875 |  -84921.50000 |   131.5     \n",
            "| 28    | -149320.59375 |  -95612.78906 |   136.5     \n",
            "| 29    | -145604.03125 |  -83129.60156 |   141.4     \n",
            "| 30    | -142046.71875 |  -62619.45703 |   146.4     \n",
            "| 31    | -139001.43750 |  -60072.18359 |   151.5     \n",
            "| 32    | -137147.53125 |  -58209.38281 |   156.3     \n",
            "| 33    | -139093.09375 |  -58733.62500 |   161.2     \n",
            "| 34    | -137046.35938 |  -63860.36328 |   165.9     \n",
            "| 35    | -134454.60938 |  -57472.65234 |   170.8     \n",
            "| 36    | -133807.26562 |  -58476.98047 |   175.7     \n",
            "| 37    | -134421.87500 |  -62280.28516 |   180.7     \n",
            "| 38    | -131370.73438 |  -58755.59375 |   185.3     \n",
            "| 39    | -134767.67188 |  -67748.10156 |   190.2     \n",
            "| 40    | -132138.93750 |  -59986.17188 |   195.3     \n",
            "| 41    | -129737.40625 |  -61654.28906 |   200.4     \n",
            "| 42    | -131598.42188 |  -62069.37500 |   205.3     \n",
            "| 43    | -132286.25000 |  -61452.92188 |   210.5     \n",
            "| 44    | -131011.82812 |  -56474.81641 |   215.3     \n",
            "| 45    | -128707.71094 |  -55451.18750 |   220.1     \n",
            "| 46    | -128453.23438 |  -66497.72656 |   224.7     \n",
            "| 47    | -129623.28125 |  -64775.20312 |   229.4     \n",
            "| 48    | -130905.23438 |  -53775.78906 |   234.2     \n",
            "| 49    | -125774.50000 |  -53721.77734 |   239.0     \n",
            "| 50    | -122985.82031 |  -59437.93359 |   243.8     \n",
            "| 51    | -120984.55469 |  -55577.82812 |   248.8     \n",
            "| 52    | -120428.57031 |  -56501.19141 |   253.6     \n",
            "| 53    | -121062.91406 |  -58361.19922 |   258.6     \n",
            "| 54    | -117511.60156 |  -61619.68359 |   263.4     \n",
            "| 55    | -118155.93750 |  -53719.29688 |   268.4     \n",
            "| 56    | -121122.57031 |  -55783.60547 |   273.1     \n",
            "| 57    | -116373.89062 |  -53775.17188 |   277.8     \n",
            "| 58    | -117300.73438 |  -55629.28516 |   282.5     \n",
            "| 59    | -117257.64844 |  -57392.03516 |   287.1     \n",
            "| 60    | -116258.24219 |  -54221.42969 |   291.8     \n",
            "| 61    | -115579.67188 |  -53514.31641 |   296.5     \n",
            "| 62    | -115463.05469 |  -54787.39062 |   301.2     \n",
            "| 63    | -113589.03906 |  -54565.88672 |   305.8     \n",
            "| 64    | -113959.72656 |  -52817.62500 |   310.6     \n",
            "| 65    | -114084.35156 |  -54549.47266 |   315.4     \n",
            "| 66    | -114962.89844 |  -54303.41797 |   320.2     \n",
            "| 67    | -114176.40625 |  -55244.30469 |   325.0     \n",
            "| 68    | -113844.06250 |  -54927.19141 |   329.8     \n",
            "| 69    | -112565.48438 |  -53082.67969 |   334.6     \n",
            "| 70    | -114782.86719 |  -55733.39062 |   339.3     \n",
            "| 71    | -112658.12500 |  -53908.42188 |   343.9     \n",
            "| 72    | -112770.74219 |  -52965.54688 |   348.6     \n",
            "| 73    | -113709.32031 |  -54101.37891 |   353.6     \n",
            "| 74    | -112878.13281 |  -53285.47656 |   358.3     \n",
            "Early stopping occured at epoch 74\n",
            "Training done in 358.341 seconds.\n",
            "---------------------------------------\n"
          ],
          "name": "stdout"
        }
      ]
    },
    {
      "cell_type": "code",
      "metadata": {
        "id": "JSttk-GZE1UW",
        "colab_type": "code",
        "colab": {
          "base_uri": "https://localhost:8080/",
          "height": 34
        },
        "outputId": "a0d264c2-d17f-47d6-a6b3-8f1781307ed3"
      },
      "source": [
        "print('best score:', -est.best_cost)"
      ],
      "execution_count": 27,
      "outputs": [
        {
          "output_type": "stream",
          "text": [
            "best score: -52817.625\n"
          ],
          "name": "stdout"
        }
      ]
    },
    {
      "cell_type": "code",
      "metadata": {
        "id": "2eVpPNygeOIB",
        "colab_type": "code",
        "colab": {
          "base_uri": "https://localhost:8080/",
          "height": 281
        },
        "outputId": "d8198538-4c5c-4b80-e730-d09cc96f0d07"
      },
      "source": [
        "# plot losses\n",
        "plt.plot(est.history['train']['loss'], label='train')\n",
        "plt.plot(est.history['valid']['loss'], label='valid')\n",
        "plt.title('train and validation loss');\n",
        "plt.ylim(50_000, 100_000)\n",
        "plt.legend();"
      ],
      "execution_count": 28,
      "outputs": [
        {
          "output_type": "display_data",
          "data": {
            "image/png": "[encoded data removed]",
            "text/plain": [
              "<Figure size 432x288 with 1 Axes>"
            ]
          },
          "metadata": {
            "tags": [],
            "needs_background": "light"
          }
        }
      ]
    },
    {
      "cell_type": "markdown",
      "metadata": {
        "id": "DFJ8uNSaeOIH",
        "colab_type": "text"
      },
      "source": [
        "## Predictions"
      ]
    },
    {
      "cell_type": "code",
      "metadata": {
        "id": "RNka7hOVeOII",
        "colab_type": "code",
        "colab": {
          "base_uri": "https://localhost:8080/",
          "height": 51
        },
        "outputId": "f6e36358-44c1-4d87-b8eb-aaaf5aa2f70e"
      },
      "source": [
        "tabnet_preds_test = est.predict(X_test)\n",
        "tabnet_test_mse = metrics.mean_squared_error(y_true=y_test, y_pred=tabnet_preds_test)\n",
        "\n",
        "print(f\"valid MSE: {est.best_cost:,.2f}\")\n",
        "print(f\"test  MSE: {tabnet_test_mse:,.2f}\")"
      ],
      "execution_count": 29,
      "outputs": [
        {
          "output_type": "stream",
          "text": [
            "valid MSE: 52,817.62\n",
            "test  MSE: 112,007.75\n"
          ],
          "name": "stdout"
        }
      ]
    },
    {
      "cell_type": "markdown",
      "metadata": {
        "id": "iEfzqUujeOIK",
        "colab_type": "text"
      },
      "source": [
        "## Global explainability: feat importance summing to 1"
      ]
    },
    {
      "cell_type": "code",
      "metadata": {
        "id": "-OlsyiOteOIK",
        "colab_type": "code",
        "colab": {
          "base_uri": "https://localhost:8080/",
          "height": 670
        },
        "outputId": "a2398e7e-26c0-438e-8f98-541a38ba5ae4"
      },
      "source": [
        "feat_imp = (pd.DataFrame({'feature':features_all,\n",
        "                          'importance':np.round(est.feature_importances_, 4)})\n",
        "            .sort_values('importance', ascending=False)\n",
        "            .reset_index(drop=True)\n",
        ")\n",
        "feat_imp.style.bar()"
      ],
      "execution_count": 30,
      "outputs": [
        {
          "output_type": "execute_result",
          "data": {
            "text/html": [
              "<style  type=\"text/css\" >\n",
              "    #T_3a048944_cff6_11ea_974c_0242ac1c0002row0_col1 {\n",
              "            width:  10em;\n",
              "             height:  80%;\n",
              "            background:  linear-gradient(90deg,#d65f5f 100.0%, transparent 100.0%);\n",
              "        }    #T_3a048944_cff6_11ea_974c_0242ac1c0002row1_col1 {\n",
              "            width:  10em;\n",
              "             height:  80%;\n",
              "            background:  linear-gradient(90deg,#d65f5f 64.4%, transparent 64.4%);\n",
              "        }    #T_3a048944_cff6_11ea_974c_0242ac1c0002row2_col1 {\n",
              "            width:  10em;\n",
              "             height:  80%;\n",
              "            background:  linear-gradient(90deg,#d65f5f 50.4%, transparent 50.4%);\n",
              "        }    #T_3a048944_cff6_11ea_974c_0242ac1c0002row3_col1 {\n",
              "            width:  10em;\n",
              "             height:  80%;\n",
              "            background:  linear-gradient(90deg,#d65f5f 40.4%, transparent 40.4%);\n",
              "        }    #T_3a048944_cff6_11ea_974c_0242ac1c0002row4_col1 {\n",
              "            width:  10em;\n",
              "             height:  80%;\n",
              "            background:  linear-gradient(90deg,#d65f5f 33.3%, transparent 33.3%);\n",
              "        }    #T_3a048944_cff6_11ea_974c_0242ac1c0002row5_col1 {\n",
              "            width:  10em;\n",
              "             height:  80%;\n",
              "            background:  linear-gradient(90deg,#d65f5f 12.1%, transparent 12.1%);\n",
              "        }    #T_3a048944_cff6_11ea_974c_0242ac1c0002row6_col1 {\n",
              "            width:  10em;\n",
              "             height:  80%;\n",
              "            background:  linear-gradient(90deg,#d65f5f 7.5%, transparent 7.5%);\n",
              "        }    #T_3a048944_cff6_11ea_974c_0242ac1c0002row7_col1 {\n",
              "            width:  10em;\n",
              "             height:  80%;\n",
              "            background:  linear-gradient(90deg,#d65f5f 3.0%, transparent 3.0%);\n",
              "        }    #T_3a048944_cff6_11ea_974c_0242ac1c0002row8_col1 {\n",
              "            width:  10em;\n",
              "             height:  80%;\n",
              "        }    #T_3a048944_cff6_11ea_974c_0242ac1c0002row9_col1 {\n",
              "            width:  10em;\n",
              "             height:  80%;\n",
              "        }    #T_3a048944_cff6_11ea_974c_0242ac1c0002row10_col1 {\n",
              "            width:  10em;\n",
              "             height:  80%;\n",
              "        }    #T_3a048944_cff6_11ea_974c_0242ac1c0002row11_col1 {\n",
              "            width:  10em;\n",
              "             height:  80%;\n",
              "        }    #T_3a048944_cff6_11ea_974c_0242ac1c0002row12_col1 {\n",
              "            width:  10em;\n",
              "             height:  80%;\n",
              "        }    #T_3a048944_cff6_11ea_974c_0242ac1c0002row13_col1 {\n",
              "            width:  10em;\n",
              "             height:  80%;\n",
              "        }    #T_3a048944_cff6_11ea_974c_0242ac1c0002row14_col1 {\n",
              "            width:  10em;\n",
              "             height:  80%;\n",
              "        }    #T_3a048944_cff6_11ea_974c_0242ac1c0002row15_col1 {\n",
              "            width:  10em;\n",
              "             height:  80%;\n",
              "        }    #T_3a048944_cff6_11ea_974c_0242ac1c0002row16_col1 {\n",
              "            width:  10em;\n",
              "             height:  80%;\n",
              "        }    #T_3a048944_cff6_11ea_974c_0242ac1c0002row17_col1 {\n",
              "            width:  10em;\n",
              "             height:  80%;\n",
              "        }    #T_3a048944_cff6_11ea_974c_0242ac1c0002row18_col1 {\n",
              "            width:  10em;\n",
              "             height:  80%;\n",
              "        }    #T_3a048944_cff6_11ea_974c_0242ac1c0002row19_col1 {\n",
              "            width:  10em;\n",
              "             height:  80%;\n",
              "        }    #T_3a048944_cff6_11ea_974c_0242ac1c0002row20_col1 {\n",
              "            width:  10em;\n",
              "             height:  80%;\n",
              "        }    #T_3a048944_cff6_11ea_974c_0242ac1c0002row21_col1 {\n",
              "            width:  10em;\n",
              "             height:  80%;\n",
              "        }    #T_3a048944_cff6_11ea_974c_0242ac1c0002row22_col1 {\n",
              "            width:  10em;\n",
              "             height:  80%;\n",
              "        }    #T_3a048944_cff6_11ea_974c_0242ac1c0002row23_col1 {\n",
              "            width:  10em;\n",
              "             height:  80%;\n",
              "        }    #T_3a048944_cff6_11ea_974c_0242ac1c0002row24_col1 {\n",
              "            width:  10em;\n",
              "             height:  80%;\n",
              "        }    #T_3a048944_cff6_11ea_974c_0242ac1c0002row25_col1 {\n",
              "            width:  10em;\n",
              "             height:  80%;\n",
              "        }    #T_3a048944_cff6_11ea_974c_0242ac1c0002row26_col1 {\n",
              "            width:  10em;\n",
              "             height:  80%;\n",
              "        }    #T_3a048944_cff6_11ea_974c_0242ac1c0002row27_col1 {\n",
              "            width:  10em;\n",
              "             height:  80%;\n",
              "        }    #T_3a048944_cff6_11ea_974c_0242ac1c0002row28_col1 {\n",
              "            width:  10em;\n",
              "             height:  80%;\n",
              "        }    #T_3a048944_cff6_11ea_974c_0242ac1c0002row29_col1 {\n",
              "            width:  10em;\n",
              "             height:  80%;\n",
              "        }</style><table id=\"T_3a048944_cff6_11ea_974c_0242ac1c0002\" ><thead>    <tr>        <th class=\"blank level0\" ></th>        <th class=\"col_heading level0 col0\" >feature</th>        <th class=\"col_heading level0 col1\" >importance</th>    </tr></thead><tbody>\n",
              "                <tr>\n",
              "                        <th id=\"T_3a048944_cff6_11ea_974c_0242ac1c0002level0_row0\" class=\"row_heading level0 row0\" >0</th>\n",
              "                        <td id=\"T_3a048944_cff6_11ea_974c_0242ac1c0002row0_col0\" class=\"data row0 col0\" >dt_date_time_hour__label</td>\n",
              "                        <td id=\"T_3a048944_cff6_11ea_974c_0242ac1c0002row0_col1\" class=\"data row0 col1\" >0.321500</td>\n",
              "            </tr>\n",
              "            <tr>\n",
              "                        <th id=\"T_3a048944_cff6_11ea_974c_0242ac1c0002level0_row1\" class=\"row_heading level0 row1\" >1</th>\n",
              "                        <td id=\"T_3a048944_cff6_11ea_974c_0242ac1c0002row1_col0\" class=\"data row1 col0\" >dt_date_time_week_cos</td>\n",
              "                        <td id=\"T_3a048944_cff6_11ea_974c_0242ac1c0002row1_col1\" class=\"data row1 col1\" >0.206900</td>\n",
              "            </tr>\n",
              "            <tr>\n",
              "                        <th id=\"T_3a048944_cff6_11ea_974c_0242ac1c0002level0_row2\" class=\"row_heading level0 row2\" >2</th>\n",
              "                        <td id=\"T_3a048944_cff6_11ea_974c_0242ac1c0002row2_col0\" class=\"data row2 col0\" >dt_date_time_year</td>\n",
              "                        <td id=\"T_3a048944_cff6_11ea_974c_0242ac1c0002row2_col1\" class=\"data row2 col1\" >0.161900</td>\n",
              "            </tr>\n",
              "            <tr>\n",
              "                        <th id=\"T_3a048944_cff6_11ea_974c_0242ac1c0002level0_row3\" class=\"row_heading level0 row3\" >3</th>\n",
              "                        <td id=\"T_3a048944_cff6_11ea_974c_0242ac1c0002row3_col0\" class=\"data row3 col0\" >dt_date_time_month</td>\n",
              "                        <td id=\"T_3a048944_cff6_11ea_974c_0242ac1c0002row3_col1\" class=\"data row3 col1\" >0.129800</td>\n",
              "            </tr>\n",
              "            <tr>\n",
              "                        <th id=\"T_3a048944_cff6_11ea_974c_0242ac1c0002level0_row4\" class=\"row_heading level0 row4\" >4</th>\n",
              "                        <td id=\"T_3a048944_cff6_11ea_974c_0242ac1c0002row4_col0\" class=\"data row4 col0\" >dt_date_time_dayofweek</td>\n",
              "                        <td id=\"T_3a048944_cff6_11ea_974c_0242ac1c0002row4_col1\" class=\"data row4 col1\" >0.107200</td>\n",
              "            </tr>\n",
              "            <tr>\n",
              "                        <th id=\"T_3a048944_cff6_11ea_974c_0242ac1c0002level0_row5\" class=\"row_heading level0 row5\" >5</th>\n",
              "                        <td id=\"T_3a048944_cff6_11ea_974c_0242ac1c0002row5_col0\" class=\"data row5 col0\" >weather_description__label</td>\n",
              "                        <td id=\"T_3a048944_cff6_11ea_974c_0242ac1c0002row5_col1\" class=\"data row5 col1\" >0.038900</td>\n",
              "            </tr>\n",
              "            <tr>\n",
              "                        <th id=\"T_3a048944_cff6_11ea_974c_0242ac1c0002level0_row6\" class=\"row_heading level0 row6\" >6</th>\n",
              "                        <td id=\"T_3a048944_cff6_11ea_974c_0242ac1c0002row6_col0\" class=\"data row6 col0\" >dt_date_time_daysinmonth__label</td>\n",
              "                        <td id=\"T_3a048944_cff6_11ea_974c_0242ac1c0002row6_col1\" class=\"data row6 col1\" >0.024200</td>\n",
              "            </tr>\n",
              "            <tr>\n",
              "                        <th id=\"T_3a048944_cff6_11ea_974c_0242ac1c0002level0_row7\" class=\"row_heading level0 row7\" >7</th>\n",
              "                        <td id=\"T_3a048944_cff6_11ea_974c_0242ac1c0002row7_col0\" class=\"data row7 col0\" >dt_date_time_month__label</td>\n",
              "                        <td id=\"T_3a048944_cff6_11ea_974c_0242ac1c0002row7_col1\" class=\"data row7 col1\" >0.009600</td>\n",
              "            </tr>\n",
              "            <tr>\n",
              "                        <th id=\"T_3a048944_cff6_11ea_974c_0242ac1c0002level0_row8\" class=\"row_heading level0 row8\" >8</th>\n",
              "                        <td id=\"T_3a048944_cff6_11ea_974c_0242ac1c0002row8_col0\" class=\"data row8 col0\" >dt_date_time_dayofweek__label</td>\n",
              "                        <td id=\"T_3a048944_cff6_11ea_974c_0242ac1c0002row8_col1\" class=\"data row8 col1\" >0.000000</td>\n",
              "            </tr>\n",
              "            <tr>\n",
              "                        <th id=\"T_3a048944_cff6_11ea_974c_0242ac1c0002level0_row9\" class=\"row_heading level0 row9\" >9</th>\n",
              "                        <td id=\"T_3a048944_cff6_11ea_974c_0242ac1c0002row9_col0\" class=\"data row9 col0\" >dt_date_time_day__label</td>\n",
              "                        <td id=\"T_3a048944_cff6_11ea_974c_0242ac1c0002row9_col1\" class=\"data row9 col1\" >0.000000</td>\n",
              "            </tr>\n",
              "            <tr>\n",
              "                        <th id=\"T_3a048944_cff6_11ea_974c_0242ac1c0002level0_row10\" class=\"row_heading level0 row10\" >10</th>\n",
              "                        <td id=\"T_3a048944_cff6_11ea_974c_0242ac1c0002row10_col0\" class=\"data row10 col0\" >dt_date_time_week__label</td>\n",
              "                        <td id=\"T_3a048944_cff6_11ea_974c_0242ac1c0002row10_col1\" class=\"data row10 col1\" >0.000000</td>\n",
              "            </tr>\n",
              "            <tr>\n",
              "                        <th id=\"T_3a048944_cff6_11ea_974c_0242ac1c0002level0_row11\" class=\"row_heading level0 row11\" >11</th>\n",
              "                        <td id=\"T_3a048944_cff6_11ea_974c_0242ac1c0002row11_col0\" class=\"data row11 col0\" >dt_date_time_dayofweek_sin</td>\n",
              "                        <td id=\"T_3a048944_cff6_11ea_974c_0242ac1c0002row11_col1\" class=\"data row11 col1\" >0.000000</td>\n",
              "            </tr>\n",
              "            <tr>\n",
              "                        <th id=\"T_3a048944_cff6_11ea_974c_0242ac1c0002level0_row12\" class=\"row_heading level0 row12\" >12</th>\n",
              "                        <td id=\"T_3a048944_cff6_11ea_974c_0242ac1c0002row12_col0\" class=\"data row12 col0\" >dt_date_time_year__label</td>\n",
              "                        <td id=\"T_3a048944_cff6_11ea_974c_0242ac1c0002row12_col1\" class=\"data row12 col1\" >0.000000</td>\n",
              "            </tr>\n",
              "            <tr>\n",
              "                        <th id=\"T_3a048944_cff6_11ea_974c_0242ac1c0002level0_row13\" class=\"row_heading level0 row13\" >13</th>\n",
              "                        <td id=\"T_3a048944_cff6_11ea_974c_0242ac1c0002row13_col0\" class=\"data row13 col0\" >weather_main__label</td>\n",
              "                        <td id=\"T_3a048944_cff6_11ea_974c_0242ac1c0002row13_col1\" class=\"data row13 col1\" >0.000000</td>\n",
              "            </tr>\n",
              "            <tr>\n",
              "                        <th id=\"T_3a048944_cff6_11ea_974c_0242ac1c0002level0_row14\" class=\"row_heading level0 row14\" >14</th>\n",
              "                        <td id=\"T_3a048944_cff6_11ea_974c_0242ac1c0002row14_col0\" class=\"data row14 col0\" >holiday__label</td>\n",
              "                        <td id=\"T_3a048944_cff6_11ea_974c_0242ac1c0002row14_col1\" class=\"data row14 col1\" >0.000000</td>\n",
              "            </tr>\n",
              "            <tr>\n",
              "                        <th id=\"T_3a048944_cff6_11ea_974c_0242ac1c0002level0_row15\" class=\"row_heading level0 row15\" >15</th>\n",
              "                        <td id=\"T_3a048944_cff6_11ea_974c_0242ac1c0002row15_col0\" class=\"data row15 col0\" >dt_date_time_hour_sin</td>\n",
              "                        <td id=\"T_3a048944_cff6_11ea_974c_0242ac1c0002row15_col1\" class=\"data row15 col1\" >0.000000</td>\n",
              "            </tr>\n",
              "            <tr>\n",
              "                        <th id=\"T_3a048944_cff6_11ea_974c_0242ac1c0002level0_row16\" class=\"row_heading level0 row16\" >16</th>\n",
              "                        <td id=\"T_3a048944_cff6_11ea_974c_0242ac1c0002row16_col0\" class=\"data row16 col0\" >dt_date_time_hour_cos</td>\n",
              "                        <td id=\"T_3a048944_cff6_11ea_974c_0242ac1c0002row16_col1\" class=\"data row16 col1\" >0.000000</td>\n",
              "            </tr>\n",
              "            <tr>\n",
              "                        <th id=\"T_3a048944_cff6_11ea_974c_0242ac1c0002level0_row17\" class=\"row_heading level0 row17\" >17</th>\n",
              "                        <td id=\"T_3a048944_cff6_11ea_974c_0242ac1c0002row17_col0\" class=\"data row17 col0\" >temp</td>\n",
              "                        <td id=\"T_3a048944_cff6_11ea_974c_0242ac1c0002row17_col1\" class=\"data row17 col1\" >0.000000</td>\n",
              "            </tr>\n",
              "            <tr>\n",
              "                        <th id=\"T_3a048944_cff6_11ea_974c_0242ac1c0002level0_row18\" class=\"row_heading level0 row18\" >18</th>\n",
              "                        <td id=\"T_3a048944_cff6_11ea_974c_0242ac1c0002row18_col0\" class=\"data row18 col0\" >dt_date_time_dayofweek_cos</td>\n",
              "                        <td id=\"T_3a048944_cff6_11ea_974c_0242ac1c0002row18_col1\" class=\"data row18 col1\" >0.000000</td>\n",
              "            </tr>\n",
              "            <tr>\n",
              "                        <th id=\"T_3a048944_cff6_11ea_974c_0242ac1c0002level0_row19\" class=\"row_heading level0 row19\" >19</th>\n",
              "                        <td id=\"T_3a048944_cff6_11ea_974c_0242ac1c0002row19_col0\" class=\"data row19 col0\" >rain_1h</td>\n",
              "                        <td id=\"T_3a048944_cff6_11ea_974c_0242ac1c0002row19_col1\" class=\"data row19 col1\" >0.000000</td>\n",
              "            </tr>\n",
              "            <tr>\n",
              "                        <th id=\"T_3a048944_cff6_11ea_974c_0242ac1c0002level0_row20\" class=\"row_heading level0 row20\" >20</th>\n",
              "                        <td id=\"T_3a048944_cff6_11ea_974c_0242ac1c0002row20_col0\" class=\"data row20 col0\" >dt_date_time_month_sin</td>\n",
              "                        <td id=\"T_3a048944_cff6_11ea_974c_0242ac1c0002row20_col1\" class=\"data row20 col1\" >0.000000</td>\n",
              "            </tr>\n",
              "            <tr>\n",
              "                        <th id=\"T_3a048944_cff6_11ea_974c_0242ac1c0002level0_row21\" class=\"row_heading level0 row21\" >21</th>\n",
              "                        <td id=\"T_3a048944_cff6_11ea_974c_0242ac1c0002row21_col0\" class=\"data row21 col0\" >dt_date_time_month_cos</td>\n",
              "                        <td id=\"T_3a048944_cff6_11ea_974c_0242ac1c0002row21_col1\" class=\"data row21 col1\" >0.000000</td>\n",
              "            </tr>\n",
              "            <tr>\n",
              "                        <th id=\"T_3a048944_cff6_11ea_974c_0242ac1c0002level0_row22\" class=\"row_heading level0 row22\" >22</th>\n",
              "                        <td id=\"T_3a048944_cff6_11ea_974c_0242ac1c0002row22_col0\" class=\"data row22 col0\" >dt_date_time_hour</td>\n",
              "                        <td id=\"T_3a048944_cff6_11ea_974c_0242ac1c0002row22_col1\" class=\"data row22 col1\" >0.000000</td>\n",
              "            </tr>\n",
              "            <tr>\n",
              "                        <th id=\"T_3a048944_cff6_11ea_974c_0242ac1c0002level0_row23\" class=\"row_heading level0 row23\" >23</th>\n",
              "                        <td id=\"T_3a048944_cff6_11ea_974c_0242ac1c0002row23_col0\" class=\"data row23 col0\" >dt_date_time_daysinmonth</td>\n",
              "                        <td id=\"T_3a048944_cff6_11ea_974c_0242ac1c0002row23_col1\" class=\"data row23 col1\" >0.000000</td>\n",
              "            </tr>\n",
              "            <tr>\n",
              "                        <th id=\"T_3a048944_cff6_11ea_974c_0242ac1c0002level0_row24\" class=\"row_heading level0 row24\" >24</th>\n",
              "                        <td id=\"T_3a048944_cff6_11ea_974c_0242ac1c0002row24_col0\" class=\"data row24 col0\" >dt_date_time_dayofyear</td>\n",
              "                        <td id=\"T_3a048944_cff6_11ea_974c_0242ac1c0002row24_col1\" class=\"data row24 col1\" >0.000000</td>\n",
              "            </tr>\n",
              "            <tr>\n",
              "                        <th id=\"T_3a048944_cff6_11ea_974c_0242ac1c0002level0_row25\" class=\"row_heading level0 row25\" >25</th>\n",
              "                        <td id=\"T_3a048944_cff6_11ea_974c_0242ac1c0002row25_col0\" class=\"data row25 col0\" >dt_date_time_day</td>\n",
              "                        <td id=\"T_3a048944_cff6_11ea_974c_0242ac1c0002row25_col1\" class=\"data row25 col1\" >0.000000</td>\n",
              "            </tr>\n",
              "            <tr>\n",
              "                        <th id=\"T_3a048944_cff6_11ea_974c_0242ac1c0002level0_row26\" class=\"row_heading level0 row26\" >26</th>\n",
              "                        <td id=\"T_3a048944_cff6_11ea_974c_0242ac1c0002row26_col0\" class=\"data row26 col0\" >dt_date_time_week</td>\n",
              "                        <td id=\"T_3a048944_cff6_11ea_974c_0242ac1c0002row26_col1\" class=\"data row26 col1\" >0.000000</td>\n",
              "            </tr>\n",
              "            <tr>\n",
              "                        <th id=\"T_3a048944_cff6_11ea_974c_0242ac1c0002level0_row27\" class=\"row_heading level0 row27\" >27</th>\n",
              "                        <td id=\"T_3a048944_cff6_11ea_974c_0242ac1c0002row27_col0\" class=\"data row27 col0\" >clouds_all</td>\n",
              "                        <td id=\"T_3a048944_cff6_11ea_974c_0242ac1c0002row27_col1\" class=\"data row27 col1\" >0.000000</td>\n",
              "            </tr>\n",
              "            <tr>\n",
              "                        <th id=\"T_3a048944_cff6_11ea_974c_0242ac1c0002level0_row28\" class=\"row_heading level0 row28\" >28</th>\n",
              "                        <td id=\"T_3a048944_cff6_11ea_974c_0242ac1c0002row28_col0\" class=\"data row28 col0\" >snow_1h</td>\n",
              "                        <td id=\"T_3a048944_cff6_11ea_974c_0242ac1c0002row28_col1\" class=\"data row28 col1\" >0.000000</td>\n",
              "            </tr>\n",
              "            <tr>\n",
              "                        <th id=\"T_3a048944_cff6_11ea_974c_0242ac1c0002level0_row29\" class=\"row_heading level0 row29\" >29</th>\n",
              "                        <td id=\"T_3a048944_cff6_11ea_974c_0242ac1c0002row29_col0\" class=\"data row29 col0\" >dt_date_time_week_sin</td>\n",
              "                        <td id=\"T_3a048944_cff6_11ea_974c_0242ac1c0002row29_col1\" class=\"data row29 col1\" >0.000000</td>\n",
              "            </tr>\n",
              "    </tbody></table>"
            ],
            "text/plain": [
              "<pandas.io.formats.style.Styler at 0x7f0c7ae76dd8>"
            ]
          },
          "metadata": {
            "tags": []
          },
          "execution_count": 30
        }
      ]
    },
    {
      "cell_type": "markdown",
      "metadata": {
        "id": "ndLhrMq_eOIN",
        "colab_type": "text"
      },
      "source": [
        "## Local explainability and masks"
      ]
    },
    {
      "cell_type": "code",
      "metadata": {
        "id": "P6DpabCleOIN",
        "colab_type": "code",
        "colab": {}
      },
      "source": [
        "explain_matrix, masks = est.explain(X_test)"
      ],
      "execution_count": 31,
      "outputs": []
    },
    {
      "cell_type": "code",
      "metadata": {
        "id": "R1_kNyYneOIR",
        "colab_type": "code",
        "colab": {
          "base_uri": "https://localhost:8080/",
          "height": 283
        },
        "outputId": "d0431213-dea1-4d4f-ca1d-b74602181a59"
      },
      "source": [
        "# shows masks per feature for first 20 rows\n",
        "fig, axs = plt.subplots(1, 3, figsize=(20,20))\n",
        "\n",
        "for i in range(3):\n",
        "    axs[i].imshow(masks[i][:20])\n",
        "    axs[i].set_title(f\"mask {i}\")"
      ],
      "execution_count": 32,
      "outputs": [
        {
          "output_type": "display_data",
          "data": {
            "image/png": "[encoded data removed]",
            "text/plain": [
              "<Figure size 1440x1440 with 3 Axes>"
            ]
          },
          "metadata": {
            "tags": [],
            "needs_background": "light"
          }
        }
      ]
    },
    {
      "cell_type": "markdown",
      "metadata": {
        "id": "-2ft319jeOIS",
        "colab_type": "text"
      },
      "source": [
        "# Comparison to XGBoost and LightGBM"
      ]
    },
    {
      "cell_type": "markdown",
      "metadata": {
        "id": "vHC5mC_nTv3G",
        "colab_type": "text"
      },
      "source": [
        "## XGBoost"
      ]
    },
    {
      "cell_type": "code",
      "metadata": {
        "id": "e3Np80Plqv4X",
        "colab_type": "code",
        "colab": {}
      },
      "source": [
        "from xgboost import XGBRegressor"
      ],
      "execution_count": 33,
      "outputs": []
    },
    {
      "cell_type": "code",
      "metadata": {
        "scrolled": true,
        "id": "bOMz4bTMeOIT",
        "colab_type": "code",
        "colab": {
          "base_uri": "https://localhost:8080/",
          "height": 289
        },
        "outputId": "80fb1945-6757-47c6-8770-6d87d4348277"
      },
      "source": [
        "%%time\n",
        "# create XGB Regressor with slightly adjusted values (defaults are underfitting too much)\n",
        "# takes about 30s\n",
        "est_xgb = XGBRegressor( \n",
        "    max_depth=8, \n",
        "    n_estimators=5000,\n",
        "    n_jobs=-1,\n",
        "    learning_rate=0.03,\n",
        "    subsample=0.7\n",
        "    )\n",
        "\n",
        "est_xgb.fit(X_train, y_train,\n",
        "            eval_set=[(X_valid, y_valid)], eval_metric=['rmse'],\n",
        "            early_stopping_rounds=10,\n",
        "            verbose=25);"
      ],
      "execution_count": 34,
      "outputs": [
        {
          "output_type": "stream",
          "text": [
            "[10:45:03] WARNING: /workspace/src/objective/regression_obj.cu:152: reg:linear is now deprecated in favor of reg:squarederror.\n",
            "[0]\tvalidation_0-rmse:3814.89\n",
            "Will train until validation_0-rmse hasn't improved in 10 rounds.\n",
            "[25]\tvalidation_0-rmse:1824.42\n",
            "[50]\tvalidation_0-rmse:900.924\n",
            "[75]\tvalidation_0-rmse:483.462\n",
            "[100]\tvalidation_0-rmse:312.564\n",
            "[125]\tvalidation_0-rmse:248.757\n",
            "[150]\tvalidation_0-rmse:229.107\n",
            "[175]\tvalidation_0-rmse:222.331\n",
            "[200]\tvalidation_0-rmse:220.965\n",
            "Stopping. Best iteration:\n",
            "[198]\tvalidation_0-rmse:220.014\n",
            "\n",
            "CPU times: user 25.7 s, sys: 50 ms, total: 25.7 s\n",
            "Wall time: 25.7 s\n"
          ],
          "name": "stdout"
        }
      ]
    },
    {
      "cell_type": "code",
      "metadata": {
        "id": "qHaKPspQGoYY",
        "colab_type": "code",
        "colab": {
          "base_uri": "https://localhost:8080/",
          "height": 51
        },
        "outputId": "12d0eb9b-5148-4c0a-82fa-1738d75aa56d"
      },
      "source": [
        "xgb_preds_valid = est_xgb.predict(X_valid)\n",
        "xgb_preds_test = est_xgb.predict(X_test)\n",
        "\n",
        "xgb_valid_mse = metrics.mean_squared_error(y_true=y_valid, y_pred=xgb_preds_valid)\n",
        "xgb_test_mse  = metrics.mean_squared_error(y_true=y_test, y_pred=xgb_preds_test)\n",
        "\n",
        "print(f\"XGB valid MSE: {xgb_valid_mse:,.2f}\")\n",
        "print(f\"XGB test  MSE: {xgb_test_mse:,.2f}\")"
      ],
      "execution_count": 35,
      "outputs": [
        {
          "output_type": "stream",
          "text": [
            "XGB valid MSE: 48,406.14\n",
            "XGB test  MSE: 111,073.10\n"
          ],
          "name": "stdout"
        }
      ]
    },
    {
      "cell_type": "markdown",
      "metadata": {
        "id": "C3ZZIO7STyHu",
        "colab_type": "text"
      },
      "source": [
        "## LightGBM"
      ]
    },
    {
      "cell_type": "code",
      "metadata": {
        "id": "ZeRwOY-WTbuO",
        "colab_type": "code",
        "colab": {}
      },
      "source": [
        "from lightgbm import LGBMRegressor"
      ],
      "execution_count": 36,
      "outputs": []
    },
    {
      "cell_type": "code",
      "metadata": {
        "id": "Hon4xFp4T011",
        "colab_type": "code",
        "colab": {
          "base_uri": "https://localhost:8080/",
          "height": 119
        },
        "outputId": "7b97d4af-00f9-44c5-ce70-7abd75070157"
      },
      "source": [
        "%%time\n",
        "# LightGBM Regressor with similar parameters to XGBoost\n",
        "# takes about 5s\n",
        "est_lgb = LGBMRegressor(num_leaves=2**7-1, objective='mse',\n",
        "                        max_depth=8,\n",
        "                        learning_rate=0.03,\n",
        "                        n_estimators=5000, \n",
        "                        subsample=0.7,\n",
        "                        random_stage=42)\n",
        "\n",
        "est_lgb.fit(X_train, y_train, \n",
        "            eval_set=[(X_valid, y_valid)], eval_metric=['rmse'],\n",
        "            early_stopping_rounds=10,\n",
        "            verbose=100);"
      ],
      "execution_count": 37,
      "outputs": [
        {
          "output_type": "stream",
          "text": [
            "Training until validation scores don't improve for 10 rounds.\n",
            "[100]\tvalid_0's rmse: 247.396\tvalid_0's l2: 61204.8\n",
            "Early stopping, best iteration is:\n",
            "[162]\tvalid_0's rmse: 218.656\tvalid_0's l2: 47810.3\n",
            "CPU times: user 2.97 s, sys: 48 ms, total: 3.02 s\n",
            "Wall time: 3.01 s\n"
          ],
          "name": "stdout"
        }
      ]
    },
    {
      "cell_type": "code",
      "metadata": {
        "id": "qyv3yAW2HE9n",
        "colab_type": "code",
        "colab": {
          "base_uri": "https://localhost:8080/",
          "height": 51
        },
        "outputId": "96090c0a-94c2-4852-f80f-ff0e630ae767"
      },
      "source": [
        "lgb_preds_valid = est_lgb.predict(X_valid)\n",
        "lgb_preds_test  = est_lgb.predict(X_test)\n",
        "\n",
        "lgb_valid_mse = metrics.mean_squared_error(y_true=y_valid, y_pred=lgb_preds_valid)\n",
        "lgb_test_mse  = metrics.mean_squared_error(y_true=y_test, y_pred=lgb_preds_test)\n",
        "\n",
        "print(f\"LGB valid MSE: {lgb_valid_mse:,.2f}\")\n",
        "print(f\"LGB test  MSE: {lgb_test_mse:,.2f}\")"
      ],
      "execution_count": 38,
      "outputs": [
        {
          "output_type": "stream",
          "text": [
            "LGB valid MSE: 47,810.31\n",
            "LGB test  MSE: 139,191.05\n"
          ],
          "name": "stdout"
        }
      ]
    },
    {
      "cell_type": "markdown",
      "metadata": {
        "id": "CXdHToHQx9nK",
        "colab_type": "text"
      },
      "source": [
        "## all scores and feature importances"
      ]
    },
    {
      "cell_type": "code",
      "metadata": {
        "id": "3905vEZt-ncc",
        "colab_type": "code",
        "colab": {
          "base_uri": "https://localhost:8080/",
          "height": 85
        },
        "outputId": "a193d643-15ff-4d44-bf51-78f5013c7677"
      },
      "source": [
        "print('test set MSE scores:')\n",
        "print(f'TabNet:   {tabnet_test_mse:,.0f}')\n",
        "print(f'XGBoost:  {xgb_test_mse:,.0f}')\n",
        "print(f'LightGBM: {lgb_test_mse:,.0f}')"
      ],
      "execution_count": 39,
      "outputs": [
        {
          "output_type": "stream",
          "text": [
            "test set MSE scores:\n",
            "TabNet:   112,008\n",
            "XGBoost:  111,073\n",
            "LightGBM: 139,191\n"
          ],
          "name": "stdout"
        }
      ]
    },
    {
      "cell_type": "code",
      "metadata": {
        "id": "M4pZhPCAAn5u",
        "colab_type": "code",
        "colab": {
          "base_uri": "https://localhost:8080/",
          "height": 670
        },
        "outputId": "bbeda12b-ffb4-46fa-9a92-9d281bf14de7"
      },
      "source": [
        "feat_imp = (pd.DataFrame({ 'feature':features_all\n",
        "                          ,'importance_tabnet':np.round(est.feature_importances_, 4)\n",
        "                          ,'importance_xgb':   np.round(est_xgb.feature_importances_, 4)\n",
        "                          ,'importance_lgb':   np.round(est_lgb.feature_importances_, 4)\n",
        "                         })\n",
        "            #.sort_values('importance_tabnet', ascending=False)\n",
        "            .reset_index(drop=True)\n",
        ")\n",
        "\n",
        "# LGBM feature importances sum to 1\n",
        "feat_imp['importance_lgb'] = feat_imp['importance_lgb']/feat_imp['importance_lgb'].sum()\n",
        "\n",
        "feat_imp.style.bar()"
      ],
      "execution_count": 40,
      "outputs": [
        {
          "output_type": "execute_result",
          "data": {
            "text/html": [
              "<style  type=\"text/css\" >\n",
              "    #T_4bafa926_cff6_11ea_974c_0242ac1c0002row0_col1 {\n",
              "            width:  10em;\n",
              "             height:  80%;\n",
              "        }    #T_4bafa926_cff6_11ea_974c_0242ac1c0002row0_col2 {\n",
              "            width:  10em;\n",
              "             height:  80%;\n",
              "            background:  linear-gradient(90deg,#d65f5f 0.1%, transparent 0.1%);\n",
              "        }    #T_4bafa926_cff6_11ea_974c_0242ac1c0002row0_col3 {\n",
              "            width:  10em;\n",
              "             height:  80%;\n",
              "            background:  linear-gradient(90deg,#d65f5f 79.3%, transparent 79.3%);\n",
              "        }    #T_4bafa926_cff6_11ea_974c_0242ac1c0002row1_col1 {\n",
              "            width:  10em;\n",
              "             height:  80%;\n",
              "        }    #T_4bafa926_cff6_11ea_974c_0242ac1c0002row1_col2 {\n",
              "            width:  10em;\n",
              "             height:  80%;\n",
              "            background:  linear-gradient(90deg,#d65f5f 0.2%, transparent 0.2%);\n",
              "        }    #T_4bafa926_cff6_11ea_974c_0242ac1c0002row1_col3 {\n",
              "            width:  10em;\n",
              "             height:  80%;\n",
              "            background:  linear-gradient(90deg,#d65f5f 11.3%, transparent 11.3%);\n",
              "        }    #T_4bafa926_cff6_11ea_974c_0242ac1c0002row2_col1 {\n",
              "            width:  10em;\n",
              "             height:  80%;\n",
              "        }    #T_4bafa926_cff6_11ea_974c_0242ac1c0002row2_col2 {\n",
              "            width:  10em;\n",
              "             height:  80%;\n",
              "            background:  linear-gradient(90deg,#d65f5f 0.0%, transparent 0.0%);\n",
              "        }    #T_4bafa926_cff6_11ea_974c_0242ac1c0002row2_col3 {\n",
              "            width:  10em;\n",
              "             height:  80%;\n",
              "        }    #T_4bafa926_cff6_11ea_974c_0242ac1c0002row3_col1 {\n",
              "            width:  10em;\n",
              "             height:  80%;\n",
              "        }    #T_4bafa926_cff6_11ea_974c_0242ac1c0002row3_col2 {\n",
              "            width:  10em;\n",
              "             height:  80%;\n",
              "            background:  linear-gradient(90deg,#d65f5f 0.1%, transparent 0.1%);\n",
              "        }    #T_4bafa926_cff6_11ea_974c_0242ac1c0002row3_col3 {\n",
              "            width:  10em;\n",
              "             height:  80%;\n",
              "            background:  linear-gradient(90deg,#d65f5f 18.2%, transparent 18.2%);\n",
              "        }    #T_4bafa926_cff6_11ea_974c_0242ac1c0002row4_col1 {\n",
              "            width:  10em;\n",
              "             height:  80%;\n",
              "            background:  linear-gradient(90deg,#d65f5f 50.4%, transparent 50.4%);\n",
              "        }    #T_4bafa926_cff6_11ea_974c_0242ac1c0002row4_col2 {\n",
              "            width:  10em;\n",
              "             height:  80%;\n",
              "            background:  linear-gradient(90deg,#d65f5f 0.1%, transparent 0.1%);\n",
              "        }    #T_4bafa926_cff6_11ea_974c_0242ac1c0002row4_col3 {\n",
              "            width:  10em;\n",
              "             height:  80%;\n",
              "            background:  linear-gradient(90deg,#d65f5f 66.2%, transparent 66.2%);\n",
              "        }    #T_4bafa926_cff6_11ea_974c_0242ac1c0002row5_col1 {\n",
              "            width:  10em;\n",
              "             height:  80%;\n",
              "            background:  linear-gradient(90deg,#d65f5f 40.4%, transparent 40.4%);\n",
              "        }    #T_4bafa926_cff6_11ea_974c_0242ac1c0002row5_col2 {\n",
              "            width:  10em;\n",
              "             height:  80%;\n",
              "            background:  linear-gradient(90deg,#d65f5f 0.3%, transparent 0.3%);\n",
              "        }    #T_4bafa926_cff6_11ea_974c_0242ac1c0002row5_col3 {\n",
              "            width:  10em;\n",
              "             height:  80%;\n",
              "            background:  linear-gradient(90deg,#d65f5f 4.6%, transparent 4.6%);\n",
              "        }    #T_4bafa926_cff6_11ea_974c_0242ac1c0002row6_col1 {\n",
              "            width:  10em;\n",
              "             height:  80%;\n",
              "        }    #T_4bafa926_cff6_11ea_974c_0242ac1c0002row6_col2 {\n",
              "            width:  10em;\n",
              "             height:  80%;\n",
              "            background:  linear-gradient(90deg,#d65f5f 0.1%, transparent 0.1%);\n",
              "        }    #T_4bafa926_cff6_11ea_974c_0242ac1c0002row6_col3 {\n",
              "            width:  10em;\n",
              "             height:  80%;\n",
              "            background:  linear-gradient(90deg,#d65f5f 18.2%, transparent 18.2%);\n",
              "        }    #T_4bafa926_cff6_11ea_974c_0242ac1c0002row7_col1 {\n",
              "            width:  10em;\n",
              "             height:  80%;\n",
              "        }    #T_4bafa926_cff6_11ea_974c_0242ac1c0002row7_col2 {\n",
              "            width:  10em;\n",
              "             height:  80%;\n",
              "            background:  linear-gradient(90deg,#d65f5f 0.2%, transparent 0.2%);\n",
              "        }    #T_4bafa926_cff6_11ea_974c_0242ac1c0002row7_col3 {\n",
              "            width:  10em;\n",
              "             height:  80%;\n",
              "            background:  linear-gradient(90deg,#d65f5f 78.5%, transparent 78.5%);\n",
              "        }    #T_4bafa926_cff6_11ea_974c_0242ac1c0002row8_col1 {\n",
              "            width:  10em;\n",
              "             height:  80%;\n",
              "            background:  linear-gradient(90deg,#d65f5f 33.3%, transparent 33.3%);\n",
              "        }    #T_4bafa926_cff6_11ea_974c_0242ac1c0002row8_col2 {\n",
              "            width:  10em;\n",
              "             height:  80%;\n",
              "            background:  linear-gradient(90deg,#d65f5f 4.0%, transparent 4.0%);\n",
              "        }    #T_4bafa926_cff6_11ea_974c_0242ac1c0002row8_col3 {\n",
              "            width:  10em;\n",
              "             height:  80%;\n",
              "            background:  linear-gradient(90deg,#d65f5f 82.2%, transparent 82.2%);\n",
              "        }    #T_4bafa926_cff6_11ea_974c_0242ac1c0002row9_col1 {\n",
              "            width:  10em;\n",
              "             height:  80%;\n",
              "        }    #T_4bafa926_cff6_11ea_974c_0242ac1c0002row9_col2 {\n",
              "            width:  10em;\n",
              "             height:  80%;\n",
              "            background:  linear-gradient(90deg,#d65f5f 0.4%, transparent 0.4%);\n",
              "        }    #T_4bafa926_cff6_11ea_974c_0242ac1c0002row9_col3 {\n",
              "            width:  10em;\n",
              "             height:  80%;\n",
              "            background:  linear-gradient(90deg,#d65f5f 89.5%, transparent 89.5%);\n",
              "        }    #T_4bafa926_cff6_11ea_974c_0242ac1c0002row10_col1 {\n",
              "            width:  10em;\n",
              "             height:  80%;\n",
              "        }    #T_4bafa926_cff6_11ea_974c_0242ac1c0002row10_col2 {\n",
              "            width:  10em;\n",
              "             height:  80%;\n",
              "            background:  linear-gradient(90deg,#d65f5f 0.1%, transparent 0.1%);\n",
              "        }    #T_4bafa926_cff6_11ea_974c_0242ac1c0002row10_col3 {\n",
              "            width:  10em;\n",
              "             height:  80%;\n",
              "            background:  linear-gradient(90deg,#d65f5f 6.6%, transparent 6.6%);\n",
              "        }    #T_4bafa926_cff6_11ea_974c_0242ac1c0002row11_col1 {\n",
              "            width:  10em;\n",
              "             height:  80%;\n",
              "        }    #T_4bafa926_cff6_11ea_974c_0242ac1c0002row11_col2 {\n",
              "            width:  10em;\n",
              "             height:  80%;\n",
              "            background:  linear-gradient(90deg,#d65f5f 5.3%, transparent 5.3%);\n",
              "        }    #T_4bafa926_cff6_11ea_974c_0242ac1c0002row11_col3 {\n",
              "            width:  10em;\n",
              "             height:  80%;\n",
              "            background:  linear-gradient(90deg,#d65f5f 100.0%, transparent 100.0%);\n",
              "        }    #T_4bafa926_cff6_11ea_974c_0242ac1c0002row12_col1 {\n",
              "            width:  10em;\n",
              "             height:  80%;\n",
              "        }    #T_4bafa926_cff6_11ea_974c_0242ac1c0002row12_col2 {\n",
              "            width:  10em;\n",
              "             height:  80%;\n",
              "            background:  linear-gradient(90deg,#d65f5f 0.1%, transparent 0.1%);\n",
              "        }    #T_4bafa926_cff6_11ea_974c_0242ac1c0002row12_col3 {\n",
              "            width:  10em;\n",
              "             height:  80%;\n",
              "            background:  linear-gradient(90deg,#d65f5f 12.2%, transparent 12.2%);\n",
              "        }    #T_4bafa926_cff6_11ea_974c_0242ac1c0002row13_col1 {\n",
              "            width:  10em;\n",
              "             height:  80%;\n",
              "        }    #T_4bafa926_cff6_11ea_974c_0242ac1c0002row13_col2 {\n",
              "            width:  10em;\n",
              "             height:  80%;\n",
              "            background:  linear-gradient(90deg,#d65f5f 0.2%, transparent 0.2%);\n",
              "        }    #T_4bafa926_cff6_11ea_974c_0242ac1c0002row13_col3 {\n",
              "            width:  10em;\n",
              "             height:  80%;\n",
              "            background:  linear-gradient(90deg,#d65f5f 11.3%, transparent 11.3%);\n",
              "        }    #T_4bafa926_cff6_11ea_974c_0242ac1c0002row14_col1 {\n",
              "            width:  10em;\n",
              "             height:  80%;\n",
              "            background:  linear-gradient(90deg,#d65f5f 64.4%, transparent 64.4%);\n",
              "        }    #T_4bafa926_cff6_11ea_974c_0242ac1c0002row14_col2 {\n",
              "            width:  10em;\n",
              "             height:  80%;\n",
              "            background:  linear-gradient(90deg,#d65f5f 0.4%, transparent 0.4%);\n",
              "        }    #T_4bafa926_cff6_11ea_974c_0242ac1c0002row14_col3 {\n",
              "            width:  10em;\n",
              "             height:  80%;\n",
              "            background:  linear-gradient(90deg,#d65f5f 53.7%, transparent 53.7%);\n",
              "        }    #T_4bafa926_cff6_11ea_974c_0242ac1c0002row15_col1 {\n",
              "            width:  10em;\n",
              "             height:  80%;\n",
              "        }    #T_4bafa926_cff6_11ea_974c_0242ac1c0002row15_col2 {\n",
              "            width:  10em;\n",
              "             height:  80%;\n",
              "            background:  linear-gradient(90deg,#d65f5f 0.2%, transparent 0.2%);\n",
              "        }    #T_4bafa926_cff6_11ea_974c_0242ac1c0002row15_col3 {\n",
              "            width:  10em;\n",
              "             height:  80%;\n",
              "            background:  linear-gradient(90deg,#d65f5f 28.8%, transparent 28.8%);\n",
              "        }    #T_4bafa926_cff6_11ea_974c_0242ac1c0002row16_col1 {\n",
              "            width:  10em;\n",
              "             height:  80%;\n",
              "        }    #T_4bafa926_cff6_11ea_974c_0242ac1c0002row16_col2 {\n",
              "            width:  10em;\n",
              "             height:  80%;\n",
              "            background:  linear-gradient(90deg,#d65f5f 0.5%, transparent 0.5%);\n",
              "        }    #T_4bafa926_cff6_11ea_974c_0242ac1c0002row16_col3 {\n",
              "            width:  10em;\n",
              "             height:  80%;\n",
              "            background:  linear-gradient(90deg,#d65f5f 13.6%, transparent 13.6%);\n",
              "        }    #T_4bafa926_cff6_11ea_974c_0242ac1c0002row17_col1 {\n",
              "            width:  10em;\n",
              "             height:  80%;\n",
              "        }    #T_4bafa926_cff6_11ea_974c_0242ac1c0002row17_col2 {\n",
              "            width:  10em;\n",
              "             height:  80%;\n",
              "            background:  linear-gradient(90deg,#d65f5f 0.4%, transparent 0.4%);\n",
              "        }    #T_4bafa926_cff6_11ea_974c_0242ac1c0002row17_col3 {\n",
              "            width:  10em;\n",
              "             height:  80%;\n",
              "            background:  linear-gradient(90deg,#d65f5f 16.9%, transparent 16.9%);\n",
              "        }    #T_4bafa926_cff6_11ea_974c_0242ac1c0002row18_col1 {\n",
              "            width:  10em;\n",
              "             height:  80%;\n",
              "        }    #T_4bafa926_cff6_11ea_974c_0242ac1c0002row18_col2 {\n",
              "            width:  10em;\n",
              "             height:  80%;\n",
              "            background:  linear-gradient(90deg,#d65f5f 100.0%, transparent 100.0%);\n",
              "        }    #T_4bafa926_cff6_11ea_974c_0242ac1c0002row18_col3 {\n",
              "            width:  10em;\n",
              "             height:  80%;\n",
              "            background:  linear-gradient(90deg,#d65f5f 18.1%, transparent 18.1%);\n",
              "        }    #T_4bafa926_cff6_11ea_974c_0242ac1c0002row19_col1 {\n",
              "            width:  10em;\n",
              "             height:  80%;\n",
              "        }    #T_4bafa926_cff6_11ea_974c_0242ac1c0002row19_col2 {\n",
              "            width:  10em;\n",
              "             height:  80%;\n",
              "            background:  linear-gradient(90deg,#d65f5f 4.4%, transparent 4.4%);\n",
              "        }    #T_4bafa926_cff6_11ea_974c_0242ac1c0002row19_col3 {\n",
              "            width:  10em;\n",
              "             height:  80%;\n",
              "            background:  linear-gradient(90deg,#d65f5f 8.9%, transparent 8.9%);\n",
              "        }    #T_4bafa926_cff6_11ea_974c_0242ac1c0002row20_col1 {\n",
              "            width:  10em;\n",
              "             height:  80%;\n",
              "        }    #T_4bafa926_cff6_11ea_974c_0242ac1c0002row20_col2 {\n",
              "            width:  10em;\n",
              "             height:  80%;\n",
              "            background:  linear-gradient(90deg,#d65f5f 0.0%, transparent 0.0%);\n",
              "        }    #T_4bafa926_cff6_11ea_974c_0242ac1c0002row20_col3 {\n",
              "            width:  10em;\n",
              "             height:  80%;\n",
              "            background:  linear-gradient(90deg,#d65f5f 1.2%, transparent 1.2%);\n",
              "        }    #T_4bafa926_cff6_11ea_974c_0242ac1c0002row21_col1 {\n",
              "            width:  10em;\n",
              "             height:  80%;\n",
              "        }    #T_4bafa926_cff6_11ea_974c_0242ac1c0002row21_col2 {\n",
              "            width:  10em;\n",
              "             height:  80%;\n",
              "            background:  linear-gradient(90deg,#d65f5f 0.2%, transparent 0.2%);\n",
              "        }    #T_4bafa926_cff6_11ea_974c_0242ac1c0002row21_col3 {\n",
              "            width:  10em;\n",
              "             height:  80%;\n",
              "            background:  linear-gradient(90deg,#d65f5f 21.7%, transparent 21.7%);\n",
              "        }    #T_4bafa926_cff6_11ea_974c_0242ac1c0002row22_col1 {\n",
              "            width:  10em;\n",
              "             height:  80%;\n",
              "            background:  linear-gradient(90deg,#d65f5f 12.1%, transparent 12.1%);\n",
              "        }    #T_4bafa926_cff6_11ea_974c_0242ac1c0002row22_col2 {\n",
              "            width:  10em;\n",
              "             height:  80%;\n",
              "            background:  linear-gradient(90deg,#d65f5f 0.1%, transparent 0.1%);\n",
              "        }    #T_4bafa926_cff6_11ea_974c_0242ac1c0002row22_col3 {\n",
              "            width:  10em;\n",
              "             height:  80%;\n",
              "            background:  linear-gradient(90deg,#d65f5f 9.6%, transparent 9.6%);\n",
              "        }    #T_4bafa926_cff6_11ea_974c_0242ac1c0002row23_col1 {\n",
              "            width:  10em;\n",
              "             height:  80%;\n",
              "        }    #T_4bafa926_cff6_11ea_974c_0242ac1c0002row23_col2 {\n",
              "            width:  10em;\n",
              "             height:  80%;\n",
              "        }    #T_4bafa926_cff6_11ea_974c_0242ac1c0002row23_col3 {\n",
              "            width:  10em;\n",
              "             height:  80%;\n",
              "        }    #T_4bafa926_cff6_11ea_974c_0242ac1c0002row24_col1 {\n",
              "            width:  10em;\n",
              "             height:  80%;\n",
              "            background:  linear-gradient(90deg,#d65f5f 3.0%, transparent 3.0%);\n",
              "        }    #T_4bafa926_cff6_11ea_974c_0242ac1c0002row24_col2 {\n",
              "            width:  10em;\n",
              "             height:  80%;\n",
              "        }    #T_4bafa926_cff6_11ea_974c_0242ac1c0002row24_col3 {\n",
              "            width:  10em;\n",
              "             height:  80%;\n",
              "        }    #T_4bafa926_cff6_11ea_974c_0242ac1c0002row25_col1 {\n",
              "            width:  10em;\n",
              "             height:  80%;\n",
              "        }    #T_4bafa926_cff6_11ea_974c_0242ac1c0002row25_col2 {\n",
              "            width:  10em;\n",
              "             height:  80%;\n",
              "        }    #T_4bafa926_cff6_11ea_974c_0242ac1c0002row25_col3 {\n",
              "            width:  10em;\n",
              "             height:  80%;\n",
              "        }    #T_4bafa926_cff6_11ea_974c_0242ac1c0002row26_col1 {\n",
              "            width:  10em;\n",
              "             height:  80%;\n",
              "        }    #T_4bafa926_cff6_11ea_974c_0242ac1c0002row26_col2 {\n",
              "            width:  10em;\n",
              "             height:  80%;\n",
              "        }    #T_4bafa926_cff6_11ea_974c_0242ac1c0002row26_col3 {\n",
              "            width:  10em;\n",
              "             height:  80%;\n",
              "        }    #T_4bafa926_cff6_11ea_974c_0242ac1c0002row27_col1 {\n",
              "            width:  10em;\n",
              "             height:  80%;\n",
              "        }    #T_4bafa926_cff6_11ea_974c_0242ac1c0002row27_col2 {\n",
              "            width:  10em;\n",
              "             height:  80%;\n",
              "        }    #T_4bafa926_cff6_11ea_974c_0242ac1c0002row27_col3 {\n",
              "            width:  10em;\n",
              "             height:  80%;\n",
              "        }    #T_4bafa926_cff6_11ea_974c_0242ac1c0002row28_col1 {\n",
              "            width:  10em;\n",
              "             height:  80%;\n",
              "            background:  linear-gradient(90deg,#d65f5f 7.5%, transparent 7.5%);\n",
              "        }    #T_4bafa926_cff6_11ea_974c_0242ac1c0002row28_col2 {\n",
              "            width:  10em;\n",
              "             height:  80%;\n",
              "        }    #T_4bafa926_cff6_11ea_974c_0242ac1c0002row28_col3 {\n",
              "            width:  10em;\n",
              "             height:  80%;\n",
              "        }    #T_4bafa926_cff6_11ea_974c_0242ac1c0002row29_col1 {\n",
              "            width:  10em;\n",
              "             height:  80%;\n",
              "            background:  linear-gradient(90deg,#d65f5f 100.0%, transparent 100.0%);\n",
              "        }    #T_4bafa926_cff6_11ea_974c_0242ac1c0002row29_col2 {\n",
              "            width:  10em;\n",
              "             height:  80%;\n",
              "        }    #T_4bafa926_cff6_11ea_974c_0242ac1c0002row29_col3 {\n",
              "            width:  10em;\n",
              "             height:  80%;\n",
              "        }</style><table id=\"T_4bafa926_cff6_11ea_974c_0242ac1c0002\" ><thead>    <tr>        <th class=\"blank level0\" ></th>        <th class=\"col_heading level0 col0\" >feature</th>        <th class=\"col_heading level0 col1\" >importance_tabnet</th>        <th class=\"col_heading level0 col2\" >importance_xgb</th>        <th class=\"col_heading level0 col3\" >importance_lgb</th>    </tr></thead><tbody>\n",
              "                <tr>\n",
              "                        <th id=\"T_4bafa926_cff6_11ea_974c_0242ac1c0002level0_row0\" class=\"row_heading level0 row0\" >0</th>\n",
              "                        <td id=\"T_4bafa926_cff6_11ea_974c_0242ac1c0002row0_col0\" class=\"data row0 col0\" >temp</td>\n",
              "                        <td id=\"T_4bafa926_cff6_11ea_974c_0242ac1c0002row0_col1\" class=\"data row0 col1\" >0.000000</td>\n",
              "                        <td id=\"T_4bafa926_cff6_11ea_974c_0242ac1c0002row0_col2\" class=\"data row0 col2\" >0.000900</td>\n",
              "                        <td id=\"T_4bafa926_cff6_11ea_974c_0242ac1c0002row0_col3\" class=\"data row0 col3\" >0.105678</td>\n",
              "            </tr>\n",
              "            <tr>\n",
              "                        <th id=\"T_4bafa926_cff6_11ea_974c_0242ac1c0002level0_row1\" class=\"row_heading level0 row1\" >1</th>\n",
              "                        <td id=\"T_4bafa926_cff6_11ea_974c_0242ac1c0002row1_col0\" class=\"data row1 col0\" >rain_1h</td>\n",
              "                        <td id=\"T_4bafa926_cff6_11ea_974c_0242ac1c0002row1_col1\" class=\"data row1 col1\" >0.000000</td>\n",
              "                        <td id=\"T_4bafa926_cff6_11ea_974c_0242ac1c0002row1_col2\" class=\"data row1 col2\" >0.001900</td>\n",
              "                        <td id=\"T_4bafa926_cff6_11ea_974c_0242ac1c0002row1_col3\" class=\"data row1 col3\" >0.015090</td>\n",
              "            </tr>\n",
              "            <tr>\n",
              "                        <th id=\"T_4bafa926_cff6_11ea_974c_0242ac1c0002level0_row2\" class=\"row_heading level0 row2\" >2</th>\n",
              "                        <td id=\"T_4bafa926_cff6_11ea_974c_0242ac1c0002row2_col0\" class=\"data row2 col0\" >snow_1h</td>\n",
              "                        <td id=\"T_4bafa926_cff6_11ea_974c_0242ac1c0002row2_col1\" class=\"data row2 col1\" >0.000000</td>\n",
              "                        <td id=\"T_4bafa926_cff6_11ea_974c_0242ac1c0002row2_col2\" class=\"data row2 col2\" >0.000400</td>\n",
              "                        <td id=\"T_4bafa926_cff6_11ea_974c_0242ac1c0002row2_col3\" class=\"data row2 col3\" >0.000000</td>\n",
              "            </tr>\n",
              "            <tr>\n",
              "                        <th id=\"T_4bafa926_cff6_11ea_974c_0242ac1c0002level0_row3\" class=\"row_heading level0 row3\" >3</th>\n",
              "                        <td id=\"T_4bafa926_cff6_11ea_974c_0242ac1c0002row3_col0\" class=\"data row3 col0\" >clouds_all</td>\n",
              "                        <td id=\"T_4bafa926_cff6_11ea_974c_0242ac1c0002row3_col1\" class=\"data row3 col1\" >0.000000</td>\n",
              "                        <td id=\"T_4bafa926_cff6_11ea_974c_0242ac1c0002row3_col2\" class=\"data row3 col2\" >0.000700</td>\n",
              "                        <td id=\"T_4bafa926_cff6_11ea_974c_0242ac1c0002row3_col3\" class=\"data row3 col3\" >0.024203</td>\n",
              "            </tr>\n",
              "            <tr>\n",
              "                        <th id=\"T_4bafa926_cff6_11ea_974c_0242ac1c0002level0_row4\" class=\"row_heading level0 row4\" >4</th>\n",
              "                        <td id=\"T_4bafa926_cff6_11ea_974c_0242ac1c0002row4_col0\" class=\"data row4 col0\" >dt_date_time_year</td>\n",
              "                        <td id=\"T_4bafa926_cff6_11ea_974c_0242ac1c0002row4_col1\" class=\"data row4 col1\" >0.161900</td>\n",
              "                        <td id=\"T_4bafa926_cff6_11ea_974c_0242ac1c0002row4_col2\" class=\"data row4 col2\" >0.001200</td>\n",
              "                        <td id=\"T_4bafa926_cff6_11ea_974c_0242ac1c0002row4_col3\" class=\"data row4 col3\" >0.088188</td>\n",
              "            </tr>\n",
              "            <tr>\n",
              "                        <th id=\"T_4bafa926_cff6_11ea_974c_0242ac1c0002level0_row5\" class=\"row_heading level0 row5\" >5</th>\n",
              "                        <td id=\"T_4bafa926_cff6_11ea_974c_0242ac1c0002row5_col0\" class=\"data row5 col0\" >dt_date_time_month</td>\n",
              "                        <td id=\"T_4bafa926_cff6_11ea_974c_0242ac1c0002row5_col1\" class=\"data row5 col1\" >0.129800</td>\n",
              "                        <td id=\"T_4bafa926_cff6_11ea_974c_0242ac1c0002row5_col2\" class=\"data row5 col2\" >0.002300</td>\n",
              "                        <td id=\"T_4bafa926_cff6_11ea_974c_0242ac1c0002row5_col3\" class=\"data row5 col3\" >0.006173</td>\n",
              "            </tr>\n",
              "            <tr>\n",
              "                        <th id=\"T_4bafa926_cff6_11ea_974c_0242ac1c0002level0_row6\" class=\"row_heading level0 row6\" >6</th>\n",
              "                        <td id=\"T_4bafa926_cff6_11ea_974c_0242ac1c0002row6_col0\" class=\"data row6 col0\" >dt_date_time_week</td>\n",
              "                        <td id=\"T_4bafa926_cff6_11ea_974c_0242ac1c0002row6_col1\" class=\"data row6 col1\" >0.000000</td>\n",
              "                        <td id=\"T_4bafa926_cff6_11ea_974c_0242ac1c0002row6_col2\" class=\"data row6 col2\" >0.001200</td>\n",
              "                        <td id=\"T_4bafa926_cff6_11ea_974c_0242ac1c0002row6_col3\" class=\"data row6 col3\" >0.024301</td>\n",
              "            </tr>\n",
              "            <tr>\n",
              "                        <th id=\"T_4bafa926_cff6_11ea_974c_0242ac1c0002level0_row7\" class=\"row_heading level0 row7\" >7</th>\n",
              "                        <td id=\"T_4bafa926_cff6_11ea_974c_0242ac1c0002row7_col0\" class=\"data row7 col0\" >dt_date_time_day</td>\n",
              "                        <td id=\"T_4bafa926_cff6_11ea_974c_0242ac1c0002row7_col1\" class=\"data row7 col1\" >0.000000</td>\n",
              "                        <td id=\"T_4bafa926_cff6_11ea_974c_0242ac1c0002row7_col2\" class=\"data row7 col2\" >0.002000</td>\n",
              "                        <td id=\"T_4bafa926_cff6_11ea_974c_0242ac1c0002row7_col3\" class=\"data row7 col3\" >0.104600</td>\n",
              "            </tr>\n",
              "            <tr>\n",
              "                        <th id=\"T_4bafa926_cff6_11ea_974c_0242ac1c0002level0_row8\" class=\"row_heading level0 row8\" >8</th>\n",
              "                        <td id=\"T_4bafa926_cff6_11ea_974c_0242ac1c0002row8_col0\" class=\"data row8 col0\" >dt_date_time_dayofweek</td>\n",
              "                        <td id=\"T_4bafa926_cff6_11ea_974c_0242ac1c0002row8_col1\" class=\"data row8 col1\" >0.107200</td>\n",
              "                        <td id=\"T_4bafa926_cff6_11ea_974c_0242ac1c0002row8_col2\" class=\"data row8 col2\" >0.033700</td>\n",
              "                        <td id=\"T_4bafa926_cff6_11ea_974c_0242ac1c0002row8_col3\" class=\"data row8 col3\" >0.109451</td>\n",
              "            </tr>\n",
              "            <tr>\n",
              "                        <th id=\"T_4bafa926_cff6_11ea_974c_0242ac1c0002level0_row9\" class=\"row_heading level0 row9\" >9</th>\n",
              "                        <td id=\"T_4bafa926_cff6_11ea_974c_0242ac1c0002row9_col0\" class=\"data row9 col0\" >dt_date_time_dayofyear</td>\n",
              "                        <td id=\"T_4bafa926_cff6_11ea_974c_0242ac1c0002row9_col1\" class=\"data row9 col1\" >0.000000</td>\n",
              "                        <td id=\"T_4bafa926_cff6_11ea_974c_0242ac1c0002row9_col2\" class=\"data row9 col2\" >0.003000</td>\n",
              "                        <td id=\"T_4bafa926_cff6_11ea_974c_0242ac1c0002row9_col3\" class=\"data row9 col3\" >0.119249</td>\n",
              "            </tr>\n",
              "            <tr>\n",
              "                        <th id=\"T_4bafa926_cff6_11ea_974c_0242ac1c0002level0_row10\" class=\"row_heading level0 row10\" >10</th>\n",
              "                        <td id=\"T_4bafa926_cff6_11ea_974c_0242ac1c0002row10_col0\" class=\"data row10 col0\" >dt_date_time_daysinmonth</td>\n",
              "                        <td id=\"T_4bafa926_cff6_11ea_974c_0242ac1c0002row10_col1\" class=\"data row10 col1\" >0.000000</td>\n",
              "                        <td id=\"T_4bafa926_cff6_11ea_974c_0242ac1c0002row10_col2\" class=\"data row10 col2\" >0.001100</td>\n",
              "                        <td id=\"T_4bafa926_cff6_11ea_974c_0242ac1c0002row10_col3\" class=\"data row10 col3\" >0.008819</td>\n",
              "            </tr>\n",
              "            <tr>\n",
              "                        <th id=\"T_4bafa926_cff6_11ea_974c_0242ac1c0002level0_row11\" class=\"row_heading level0 row11\" >11</th>\n",
              "                        <td id=\"T_4bafa926_cff6_11ea_974c_0242ac1c0002row11_col0\" class=\"data row11 col0\" >dt_date_time_hour</td>\n",
              "                        <td id=\"T_4bafa926_cff6_11ea_974c_0242ac1c0002row11_col1\" class=\"data row11 col1\" >0.000000</td>\n",
              "                        <td id=\"T_4bafa926_cff6_11ea_974c_0242ac1c0002row11_col2\" class=\"data row11 col2\" >0.044800</td>\n",
              "                        <td id=\"T_4bafa926_cff6_11ea_974c_0242ac1c0002row11_col3\" class=\"data row11 col3\" >0.133212</td>\n",
              "            </tr>\n",
              "            <tr>\n",
              "                        <th id=\"T_4bafa926_cff6_11ea_974c_0242ac1c0002level0_row12\" class=\"row_heading level0 row12\" >12</th>\n",
              "                        <td id=\"T_4bafa926_cff6_11ea_974c_0242ac1c0002row12_col0\" class=\"data row12 col0\" >dt_date_time_month_cos</td>\n",
              "                        <td id=\"T_4bafa926_cff6_11ea_974c_0242ac1c0002row12_col1\" class=\"data row12 col1\" >0.000000</td>\n",
              "                        <td id=\"T_4bafa926_cff6_11ea_974c_0242ac1c0002row12_col2\" class=\"data row12 col2\" >0.001200</td>\n",
              "                        <td id=\"T_4bafa926_cff6_11ea_974c_0242ac1c0002row12_col3\" class=\"data row12 col3\" >0.016266</td>\n",
              "            </tr>\n",
              "            <tr>\n",
              "                        <th id=\"T_4bafa926_cff6_11ea_974c_0242ac1c0002level0_row13\" class=\"row_heading level0 row13\" >13</th>\n",
              "                        <td id=\"T_4bafa926_cff6_11ea_974c_0242ac1c0002row13_col0\" class=\"data row13 col0\" >dt_date_time_month_sin</td>\n",
              "                        <td id=\"T_4bafa926_cff6_11ea_974c_0242ac1c0002row13_col1\" class=\"data row13 col1\" >0.000000</td>\n",
              "                        <td id=\"T_4bafa926_cff6_11ea_974c_0242ac1c0002row13_col2\" class=\"data row13 col2\" >0.001700</td>\n",
              "                        <td id=\"T_4bafa926_cff6_11ea_974c_0242ac1c0002row13_col3\" class=\"data row13 col3\" >0.015090</td>\n",
              "            </tr>\n",
              "            <tr>\n",
              "                        <th id=\"T_4bafa926_cff6_11ea_974c_0242ac1c0002level0_row14\" class=\"row_heading level0 row14\" >14</th>\n",
              "                        <td id=\"T_4bafa926_cff6_11ea_974c_0242ac1c0002row14_col0\" class=\"data row14 col0\" >dt_date_time_week_cos</td>\n",
              "                        <td id=\"T_4bafa926_cff6_11ea_974c_0242ac1c0002row14_col1\" class=\"data row14 col1\" >0.206900</td>\n",
              "                        <td id=\"T_4bafa926_cff6_11ea_974c_0242ac1c0002row14_col2\" class=\"data row14 col2\" >0.003500</td>\n",
              "                        <td id=\"T_4bafa926_cff6_11ea_974c_0242ac1c0002row14_col3\" class=\"data row14 col3\" >0.071530</td>\n",
              "            </tr>\n",
              "            <tr>\n",
              "                        <th id=\"T_4bafa926_cff6_11ea_974c_0242ac1c0002level0_row15\" class=\"row_heading level0 row15\" >15</th>\n",
              "                        <td id=\"T_4bafa926_cff6_11ea_974c_0242ac1c0002row15_col0\" class=\"data row15 col0\" >dt_date_time_week_sin</td>\n",
              "                        <td id=\"T_4bafa926_cff6_11ea_974c_0242ac1c0002row15_col1\" class=\"data row15 col1\" >0.000000</td>\n",
              "                        <td id=\"T_4bafa926_cff6_11ea_974c_0242ac1c0002row15_col2\" class=\"data row15 col2\" >0.001500</td>\n",
              "                        <td id=\"T_4bafa926_cff6_11ea_974c_0242ac1c0002row15_col3\" class=\"data row15 col3\" >0.038362</td>\n",
              "            </tr>\n",
              "            <tr>\n",
              "                        <th id=\"T_4bafa926_cff6_11ea_974c_0242ac1c0002level0_row16\" class=\"row_heading level0 row16\" >16</th>\n",
              "                        <td id=\"T_4bafa926_cff6_11ea_974c_0242ac1c0002row16_col0\" class=\"data row16 col0\" >dt_date_time_dayofweek_cos</td>\n",
              "                        <td id=\"T_4bafa926_cff6_11ea_974c_0242ac1c0002row16_col1\" class=\"data row16 col1\" >0.000000</td>\n",
              "                        <td id=\"T_4bafa926_cff6_11ea_974c_0242ac1c0002row16_col2\" class=\"data row16 col2\" >0.004000</td>\n",
              "                        <td id=\"T_4bafa926_cff6_11ea_974c_0242ac1c0002row16_col3\" class=\"data row16 col3\" >0.018127</td>\n",
              "            </tr>\n",
              "            <tr>\n",
              "                        <th id=\"T_4bafa926_cff6_11ea_974c_0242ac1c0002level0_row17\" class=\"row_heading level0 row17\" >17</th>\n",
              "                        <td id=\"T_4bafa926_cff6_11ea_974c_0242ac1c0002row17_col0\" class=\"data row17 col0\" >dt_date_time_dayofweek_sin</td>\n",
              "                        <td id=\"T_4bafa926_cff6_11ea_974c_0242ac1c0002row17_col1\" class=\"data row17 col1\" >0.000000</td>\n",
              "                        <td id=\"T_4bafa926_cff6_11ea_974c_0242ac1c0002row17_col2\" class=\"data row17 col2\" >0.003000</td>\n",
              "                        <td id=\"T_4bafa926_cff6_11ea_974c_0242ac1c0002row17_col3\" class=\"data row17 col3\" >0.022488</td>\n",
              "            </tr>\n",
              "            <tr>\n",
              "                        <th id=\"T_4bafa926_cff6_11ea_974c_0242ac1c0002level0_row18\" class=\"row_heading level0 row18\" >18</th>\n",
              "                        <td id=\"T_4bafa926_cff6_11ea_974c_0242ac1c0002row18_col0\" class=\"data row18 col0\" >dt_date_time_hour_cos</td>\n",
              "                        <td id=\"T_4bafa926_cff6_11ea_974c_0242ac1c0002row18_col1\" class=\"data row18 col1\" >0.000000</td>\n",
              "                        <td id=\"T_4bafa926_cff6_11ea_974c_0242ac1c0002row18_col2\" class=\"data row18 col2\" >0.851800</td>\n",
              "                        <td id=\"T_4bafa926_cff6_11ea_974c_0242ac1c0002row18_col3\" class=\"data row18 col3\" >0.024105</td>\n",
              "            </tr>\n",
              "            <tr>\n",
              "                        <th id=\"T_4bafa926_cff6_11ea_974c_0242ac1c0002level0_row19\" class=\"row_heading level0 row19\" >19</th>\n",
              "                        <td id=\"T_4bafa926_cff6_11ea_974c_0242ac1c0002row19_col0\" class=\"data row19 col0\" >dt_date_time_hour_sin</td>\n",
              "                        <td id=\"T_4bafa926_cff6_11ea_974c_0242ac1c0002row19_col1\" class=\"data row19 col1\" >0.000000</td>\n",
              "                        <td id=\"T_4bafa926_cff6_11ea_974c_0242ac1c0002row19_col2\" class=\"data row19 col2\" >0.037700</td>\n",
              "                        <td id=\"T_4bafa926_cff6_11ea_974c_0242ac1c0002row19_col3\" class=\"data row19 col3\" >0.011856</td>\n",
              "            </tr>\n",
              "            <tr>\n",
              "                        <th id=\"T_4bafa926_cff6_11ea_974c_0242ac1c0002level0_row20\" class=\"row_heading level0 row20\" >20</th>\n",
              "                        <td id=\"T_4bafa926_cff6_11ea_974c_0242ac1c0002row20_col0\" class=\"data row20 col0\" >holiday__label</td>\n",
              "                        <td id=\"T_4bafa926_cff6_11ea_974c_0242ac1c0002row20_col1\" class=\"data row20 col1\" >0.000000</td>\n",
              "                        <td id=\"T_4bafa926_cff6_11ea_974c_0242ac1c0002row20_col2\" class=\"data row20 col2\" >0.000200</td>\n",
              "                        <td id=\"T_4bafa926_cff6_11ea_974c_0242ac1c0002row20_col3\" class=\"data row20 col3\" >0.001568</td>\n",
              "            </tr>\n",
              "            <tr>\n",
              "                        <th id=\"T_4bafa926_cff6_11ea_974c_0242ac1c0002level0_row21\" class=\"row_heading level0 row21\" >21</th>\n",
              "                        <td id=\"T_4bafa926_cff6_11ea_974c_0242ac1c0002row21_col0\" class=\"data row21 col0\" >weather_main__label</td>\n",
              "                        <td id=\"T_4bafa926_cff6_11ea_974c_0242ac1c0002row21_col1\" class=\"data row21 col1\" >0.000000</td>\n",
              "                        <td id=\"T_4bafa926_cff6_11ea_974c_0242ac1c0002row21_col2\" class=\"data row21 col2\" >0.001500</td>\n",
              "                        <td id=\"T_4bafa926_cff6_11ea_974c_0242ac1c0002row21_col3\" class=\"data row21 col3\" >0.028906</td>\n",
              "            </tr>\n",
              "            <tr>\n",
              "                        <th id=\"T_4bafa926_cff6_11ea_974c_0242ac1c0002level0_row22\" class=\"row_heading level0 row22\" >22</th>\n",
              "                        <td id=\"T_4bafa926_cff6_11ea_974c_0242ac1c0002row22_col0\" class=\"data row22 col0\" >weather_description__label</td>\n",
              "                        <td id=\"T_4bafa926_cff6_11ea_974c_0242ac1c0002row22_col1\" class=\"data row22 col1\" >0.038900</td>\n",
              "                        <td id=\"T_4bafa926_cff6_11ea_974c_0242ac1c0002row22_col2\" class=\"data row22 col2\" >0.000700</td>\n",
              "                        <td id=\"T_4bafa926_cff6_11ea_974c_0242ac1c0002row22_col3\" class=\"data row22 col3\" >0.012738</td>\n",
              "            </tr>\n",
              "            <tr>\n",
              "                        <th id=\"T_4bafa926_cff6_11ea_974c_0242ac1c0002level0_row23\" class=\"row_heading level0 row23\" >23</th>\n",
              "                        <td id=\"T_4bafa926_cff6_11ea_974c_0242ac1c0002row23_col0\" class=\"data row23 col0\" >dt_date_time_year__label</td>\n",
              "                        <td id=\"T_4bafa926_cff6_11ea_974c_0242ac1c0002row23_col1\" class=\"data row23 col1\" >0.000000</td>\n",
              "                        <td id=\"T_4bafa926_cff6_11ea_974c_0242ac1c0002row23_col2\" class=\"data row23 col2\" >0.000000</td>\n",
              "                        <td id=\"T_4bafa926_cff6_11ea_974c_0242ac1c0002row23_col3\" class=\"data row23 col3\" >0.000000</td>\n",
              "            </tr>\n",
              "            <tr>\n",
              "                        <th id=\"T_4bafa926_cff6_11ea_974c_0242ac1c0002level0_row24\" class=\"row_heading level0 row24\" >24</th>\n",
              "                        <td id=\"T_4bafa926_cff6_11ea_974c_0242ac1c0002row24_col0\" class=\"data row24 col0\" >dt_date_time_month__label</td>\n",
              "                        <td id=\"T_4bafa926_cff6_11ea_974c_0242ac1c0002row24_col1\" class=\"data row24 col1\" >0.009600</td>\n",
              "                        <td id=\"T_4bafa926_cff6_11ea_974c_0242ac1c0002row24_col2\" class=\"data row24 col2\" >0.000000</td>\n",
              "                        <td id=\"T_4bafa926_cff6_11ea_974c_0242ac1c0002row24_col3\" class=\"data row24 col3\" >0.000000</td>\n",
              "            </tr>\n",
              "            <tr>\n",
              "                        <th id=\"T_4bafa926_cff6_11ea_974c_0242ac1c0002level0_row25\" class=\"row_heading level0 row25\" >25</th>\n",
              "                        <td id=\"T_4bafa926_cff6_11ea_974c_0242ac1c0002row25_col0\" class=\"data row25 col0\" >dt_date_time_week__label</td>\n",
              "                        <td id=\"T_4bafa926_cff6_11ea_974c_0242ac1c0002row25_col1\" class=\"data row25 col1\" >0.000000</td>\n",
              "                        <td id=\"T_4bafa926_cff6_11ea_974c_0242ac1c0002row25_col2\" class=\"data row25 col2\" >0.000000</td>\n",
              "                        <td id=\"T_4bafa926_cff6_11ea_974c_0242ac1c0002row25_col3\" class=\"data row25 col3\" >0.000000</td>\n",
              "            </tr>\n",
              "            <tr>\n",
              "                        <th id=\"T_4bafa926_cff6_11ea_974c_0242ac1c0002level0_row26\" class=\"row_heading level0 row26\" >26</th>\n",
              "                        <td id=\"T_4bafa926_cff6_11ea_974c_0242ac1c0002row26_col0\" class=\"data row26 col0\" >dt_date_time_day__label</td>\n",
              "                        <td id=\"T_4bafa926_cff6_11ea_974c_0242ac1c0002row26_col1\" class=\"data row26 col1\" >0.000000</td>\n",
              "                        <td id=\"T_4bafa926_cff6_11ea_974c_0242ac1c0002row26_col2\" class=\"data row26 col2\" >0.000000</td>\n",
              "                        <td id=\"T_4bafa926_cff6_11ea_974c_0242ac1c0002row26_col3\" class=\"data row26 col3\" >0.000000</td>\n",
              "            </tr>\n",
              "            <tr>\n",
              "                        <th id=\"T_4bafa926_cff6_11ea_974c_0242ac1c0002level0_row27\" class=\"row_heading level0 row27\" >27</th>\n",
              "                        <td id=\"T_4bafa926_cff6_11ea_974c_0242ac1c0002row27_col0\" class=\"data row27 col0\" >dt_date_time_dayofweek__label</td>\n",
              "                        <td id=\"T_4bafa926_cff6_11ea_974c_0242ac1c0002row27_col1\" class=\"data row27 col1\" >0.000000</td>\n",
              "                        <td id=\"T_4bafa926_cff6_11ea_974c_0242ac1c0002row27_col2\" class=\"data row27 col2\" >0.000000</td>\n",
              "                        <td id=\"T_4bafa926_cff6_11ea_974c_0242ac1c0002row27_col3\" class=\"data row27 col3\" >0.000000</td>\n",
              "            </tr>\n",
              "            <tr>\n",
              "                        <th id=\"T_4bafa926_cff6_11ea_974c_0242ac1c0002level0_row28\" class=\"row_heading level0 row28\" >28</th>\n",
              "                        <td id=\"T_4bafa926_cff6_11ea_974c_0242ac1c0002row28_col0\" class=\"data row28 col0\" >dt_date_time_daysinmonth__label</td>\n",
              "                        <td id=\"T_4bafa926_cff6_11ea_974c_0242ac1c0002row28_col1\" class=\"data row28 col1\" >0.024200</td>\n",
              "                        <td id=\"T_4bafa926_cff6_11ea_974c_0242ac1c0002row28_col2\" class=\"data row28 col2\" >0.000000</td>\n",
              "                        <td id=\"T_4bafa926_cff6_11ea_974c_0242ac1c0002row28_col3\" class=\"data row28 col3\" >0.000000</td>\n",
              "            </tr>\n",
              "            <tr>\n",
              "                        <th id=\"T_4bafa926_cff6_11ea_974c_0242ac1c0002level0_row29\" class=\"row_heading level0 row29\" >29</th>\n",
              "                        <td id=\"T_4bafa926_cff6_11ea_974c_0242ac1c0002row29_col0\" class=\"data row29 col0\" >dt_date_time_hour__label</td>\n",
              "                        <td id=\"T_4bafa926_cff6_11ea_974c_0242ac1c0002row29_col1\" class=\"data row29 col1\" >0.321500</td>\n",
              "                        <td id=\"T_4bafa926_cff6_11ea_974c_0242ac1c0002row29_col2\" class=\"data row29 col2\" >0.000000</td>\n",
              "                        <td id=\"T_4bafa926_cff6_11ea_974c_0242ac1c0002row29_col3\" class=\"data row29 col3\" >0.000000</td>\n",
              "            </tr>\n",
              "    </tbody></table>"
            ],
            "text/plain": [
              "<pandas.io.formats.style.Styler at 0x7f0c7a5dff28>"
            ]
          },
          "metadata": {
            "tags": []
          },
          "execution_count": 40
        }
      ]
    },
    {
      "cell_type": "code",
      "metadata": {
        "id": "SXpmcu0ZAqMV",
        "colab_type": "code",
        "colab": {}
      },
      "source": [
        ""
      ],
      "execution_count": 40,
      "outputs": []
    }
  ]
}