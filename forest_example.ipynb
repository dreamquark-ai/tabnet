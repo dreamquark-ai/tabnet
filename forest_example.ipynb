{
 "cells": [
  {
   "cell_type": "code",
   "execution_count": 1,
   "metadata": {},
   "outputs": [],
   "source": [
    "from pytorch_tabnet.tab_model import TabNetClassifier\n",
    "\n",
    "import torch\n",
    "from sklearn.preprocessing import LabelEncoder\n",
    "from sklearn.metrics import accuracy_score\n",
    "from sklearn.model_selection import train_test_split\n",
    "import pandas as pd\n",
    "import numpy as np\n",
    "np.random.seed(0)\n",
    "\n",
    "\n",
    "import os\n",
    "import wget\n",
    "from pathlib import Path\n",
    "import shutil\n",
    "import gzip\n",
    "\n",
    "from matplotlib import pyplot as plt\n",
    "%matplotlib inline"
   ]
  },
  {
   "cell_type": "markdown",
   "metadata": {},
   "source": [
    "# Download ForestCoverType dataset"
   ]
  },
  {
   "cell_type": "code",
   "execution_count": 2,
   "metadata": {},
   "outputs": [],
   "source": [
    "url = \"https://archive.ics.uci.edu/ml/machine-learning-databases/covtype/covtype.data.gz\"\n",
    "dataset_name = 'forest-cover-type'\n",
    "tmp_out = Path('./data/'+dataset_name+'.gz')\n",
    "out = Path(os.getcwd()+'/data/'+dataset_name+'.csv')"
   ]
  },
  {
   "cell_type": "code",
   "execution_count": 3,
   "metadata": {},
   "outputs": [
    {
     "name": "stdout",
     "output_type": "stream",
     "text": [
      "File already exists.\n"
     ]
    }
   ],
   "source": [
    "out.parent.mkdir(parents=True, exist_ok=True)\n",
    "if out.exists():\n",
    "    print(\"File already exists.\")\n",
    "else:\n",
    "    print(\"Downloading file...\")\n",
    "    wget.download(url, tmp_out.as_posix())\n",
    "    with gzip.open(tmp_out, 'rb') as f_in:\n",
    "        with open(out, 'wb') as f_out:\n",
    "            shutil.copyfileobj(f_in, f_out)\n",
    "    \n"
   ]
  },
  {
   "cell_type": "markdown",
   "metadata": {},
   "source": [
    "# Load data and split\n",
    "Same split as in original paper"
   ]
  },
  {
   "cell_type": "code",
   "execution_count": 4,
   "metadata": {},
   "outputs": [],
   "source": [
    "target = \"Covertype\"\n",
    "\n",
    "bool_columns = [\n",
    "    \"Wilderness_Area1\", \"Wilderness_Area2\", \"Wilderness_Area3\",\n",
    "    \"Wilderness_Area4\", \"Soil_Type1\", \"Soil_Type2\", \"Soil_Type3\", \"Soil_Type4\",\n",
    "    \"Soil_Type5\", \"Soil_Type6\", \"Soil_Type7\", \"Soil_Type8\", \"Soil_Type9\",\n",
    "    \"Soil_Type10\", \"Soil_Type11\", \"Soil_Type12\", \"Soil_Type13\", \"Soil_Type14\",\n",
    "    \"Soil_Type15\", \"Soil_Type16\", \"Soil_Type17\", \"Soil_Type18\", \"Soil_Type19\",\n",
    "    \"Soil_Type20\", \"Soil_Type21\", \"Soil_Type22\", \"Soil_Type23\", \"Soil_Type24\",\n",
    "    \"Soil_Type25\", \"Soil_Type26\", \"Soil_Type27\", \"Soil_Type28\", \"Soil_Type29\",\n",
    "    \"Soil_Type30\", \"Soil_Type31\", \"Soil_Type32\", \"Soil_Type33\", \"Soil_Type34\",\n",
    "    \"Soil_Type35\", \"Soil_Type36\", \"Soil_Type37\", \"Soil_Type38\", \"Soil_Type39\",\n",
    "    \"Soil_Type40\"\n",
    "]\n",
    "\n",
    "int_columns = [\n",
    "    \"Elevation\", \"Aspect\", \"Slope\", \"Horizontal_Distance_To_Hydrology\",\n",
    "    \"Vertical_Distance_To_Hydrology\", \"Horizontal_Distance_To_Roadways\",\n",
    "    \"Hillshade_9am\", \"Hillshade_Noon\", \"Hillshade_3pm\",\n",
    "    \"Horizontal_Distance_To_Fire_Points\"\n",
    "]\n",
    "\n",
    "feature_columns = (\n",
    "    int_columns + bool_columns + [target])\n"
   ]
  },
  {
   "cell_type": "code",
   "execution_count": 5,
   "metadata": {},
   "outputs": [],
   "source": [
    "train = pd.read_csv(out, header=None, names=feature_columns)\n",
    "\n",
    "n_total = len(train)\n",
    "\n",
    "# Train, val and test split follows\n",
    "# Rory Mitchell, Andrey Adinets, Thejaswi Rao, and Eibe Frank.\n",
    "# Xgboost: Scalable GPU accelerated learning. arXiv:1806.11248, 2018.\n",
    "\n",
    "train_val_indices, test_indices = train_test_split(\n",
    "    range(n_total), test_size=0.2, random_state=0)\n",
    "train_indices, valid_indices = train_test_split(\n",
    "    train_val_indices, test_size=0.2 / 0.6, random_state=0)\n"
   ]
  },
  {
   "cell_type": "markdown",
   "metadata": {},
   "source": [
    "# Simple preprocessing\n",
    "\n",
    "Label encode categorical features and fill empty cells."
   ]
  },
  {
   "cell_type": "code",
   "execution_count": 6,
   "metadata": {},
   "outputs": [],
   "source": [
    "categorical_columns = []\n",
    "categorical_dims =  {}\n",
    "for col in train.columns[train.dtypes == object]:\n",
    "    print(col, train[col].nunique())\n",
    "    l_enc = LabelEncoder()\n",
    "    train[col] = train[col].fillna(\"VV_likely\")\n",
    "    train[col] = l_enc.fit_transform(train[col].values)\n",
    "    categorical_columns.append(col)\n",
    "    categorical_dims[col] = len(l_enc.classes_)\n",
    "\n",
    "for col in train.columns[train.dtypes == 'float64']:\n",
    "    train.fillna(train.loc[train_indices, col].mean(), inplace=True)"
   ]
  },
  {
   "cell_type": "markdown",
   "metadata": {},
   "source": [
    "# Define categorical features for categorical embeddings"
   ]
  },
  {
   "cell_type": "code",
   "execution_count": 7,
   "metadata": {},
   "outputs": [],
   "source": [
    "unused_feat = []\n",
    "\n",
    "features = [ col for col in train.columns if col not in unused_feat+[target]] \n",
    "\n",
    "cat_idxs = [ i for i, f in enumerate(features) if f in categorical_columns]\n",
    "\n",
    "cat_dims = [ categorical_dims[f] for i, f in enumerate(features) if f in categorical_columns]\n"
   ]
  },
  {
   "cell_type": "markdown",
   "metadata": {},
   "source": [
    "# Network parameters"
   ]
  },
  {
   "cell_type": "code",
   "execution_count": 8,
   "metadata": {},
   "outputs": [
    {
     "name": "stderr",
     "output_type": "stream",
     "text": [
      "/work/pytorch_tabnet/abstract_model.py:76: UserWarning: Device used : cuda\n",
      "  warnings.warn(f\"Device used : {self.device}\")\n"
     ]
    }
   ],
   "source": [
    "clf = TabNetClassifier(\n",
    "    n_d=64, n_a=64, n_steps=5,\n",
    "    gamma=1.5, n_independent=2, n_shared=2,\n",
    "    cat_idxs=cat_idxs,\n",
    "    cat_dims=cat_dims,\n",
    "    cat_emb_dim=1,\n",
    "    lambda_sparse=1e-4, momentum=0.3, clip_value=2.,\n",
    "    optimizer_fn=torch.optim.Adam,\n",
    "    optimizer_params=dict(lr=2e-2),\n",
    "    scheduler_params = {\"gamma\": 0.95,\n",
    "                     \"step_size\": 1},\n",
    "    scheduler_fn=torch.optim.lr_scheduler.StepLR,\n",
    "    epsilon=1e-15,\n",
    ")"
   ]
  },
  {
   "cell_type": "markdown",
   "metadata": {},
   "source": [
    "# Training"
   ]
  },
  {
   "cell_type": "code",
   "execution_count": 9,
   "metadata": {},
   "outputs": [],
   "source": [
    "if os.getenv(\"CI\", False):\n",
    "# Take only a subsample to run CI\n",
    "    X_train = train[features].values[train_indices][:1000,:]\n",
    "    y_train = train[target].values[train_indices][:1000]\n",
    "else:\n",
    "    X_train = train[features].values[train_indices]\n",
    "    y_train = train[target].values[train_indices]\n",
    "\n",
    "X_valid = train[features].values[valid_indices]\n",
    "y_valid = train[target].values[valid_indices]\n",
    "\n",
    "X_test = train[features].values[test_indices]\n",
    "y_test = train[target].values[test_indices]"
   ]
  },
  {
   "cell_type": "code",
   "execution_count": 10,
   "metadata": {},
   "outputs": [],
   "source": [
    "max_epochs = 100 if not os.getenv(\"CI\", False) else 2"
   ]
  },
  {
   "cell_type": "code",
   "execution_count": 11,
   "metadata": {
    "scrolled": true
   },
   "outputs": [
    {
     "name": "stdout",
     "output_type": "stream",
     "text": [
      "epoch 0  | loss: 1.18026 | train_accuracy: 0.05225 | valid_accuracy: 0.05184 |  0:00:05s\n",
      "epoch 1  | loss: 0.72212 | train_accuracy: 0.05526 | valid_accuracy: 0.05463 |  0:00:11s\n",
      "epoch 2  | loss: 0.66789 | train_accuracy: 0.06352 | valid_accuracy: 0.06296 |  0:00:17s\n",
      "epoch 3  | loss: 0.64399 | train_accuracy: 0.06687 | valid_accuracy: 0.06616 |  0:00:23s\n",
      "epoch 4  | loss: 0.62573 | train_accuracy: 0.07494 | valid_accuracy: 0.07431 |  0:00:29s\n",
      "epoch 5  | loss: 0.61111 | train_accuracy: 0.10072 | valid_accuracy: 0.09982 |  0:00:34s\n",
      "epoch 6  | loss: 0.60135 | train_accuracy: 0.12704 | valid_accuracy: 0.12655 |  0:00:40s\n",
      "epoch 7  | loss: 0.59482 | train_accuracy: 0.14916 | valid_accuracy: 0.14848 |  0:00:46s\n",
      "epoch 8  | loss: 0.57626 | train_accuracy: 0.1892  | valid_accuracy: 0.1895  |  0:00:51s\n",
      "epoch 9  | loss: 0.5652  | train_accuracy: 0.24534 | valid_accuracy: 0.24436 |  0:00:57s\n",
      "epoch 10 | loss: 0.55783 | train_accuracy: 0.30329 | valid_accuracy: 0.30262 |  0:01:03s\n",
      "epoch 11 | loss: 0.54555 | train_accuracy: 0.38214 | valid_accuracy: 0.38476 |  0:01:08s\n",
      "epoch 12 | loss: 0.53522 | train_accuracy: 0.45423 | valid_accuracy: 0.45544 |  0:01:14s\n",
      "epoch 13 | loss: 0.52843 | train_accuracy: 0.48836 | valid_accuracy: 0.48795 |  0:01:20s\n",
      "epoch 14 | loss: 0.52772 | train_accuracy: 0.554   | valid_accuracy: 0.55373 |  0:01:25s\n",
      "epoch 15 | loss: 0.51579 | train_accuracy: 0.61512 | valid_accuracy: 0.61257 |  0:01:31s\n",
      "epoch 16 | loss: 0.50786 | train_accuracy: 0.63971 | valid_accuracy: 0.63572 |  0:01:37s\n",
      "epoch 17 | loss: 0.50091 | train_accuracy: 0.67115 | valid_accuracy: 0.66838 |  0:01:42s\n",
      "epoch 18 | loss: 0.4946  | train_accuracy: 0.69765 | valid_accuracy: 0.6951  |  0:01:48s\n",
      "epoch 19 | loss: 0.49215 | train_accuracy: 0.70854 | valid_accuracy: 0.70592 |  0:01:54s\n",
      "epoch 20 | loss: 0.48463 | train_accuracy: 0.74864 | valid_accuracy: 0.74565 |  0:02:00s\n",
      "epoch 21 | loss: 0.48018 | train_accuracy: 0.75613 | valid_accuracy: 0.75322 |  0:02:06s\n",
      "epoch 22 | loss: 0.47264 | train_accuracy: 0.7659  | valid_accuracy: 0.76381 |  0:02:11s\n",
      "epoch 23 | loss: 0.46512 | train_accuracy: 0.78477 | valid_accuracy: 0.78241 |  0:02:17s\n",
      "epoch 24 | loss: 0.46025 | train_accuracy: 0.79506 | valid_accuracy: 0.79232 |  0:02:23s\n",
      "epoch 25 | loss: 0.45215 | train_accuracy: 0.80236 | valid_accuracy: 0.80033 |  0:02:28s\n",
      "epoch 26 | loss: 0.44816 | train_accuracy: 0.80522 | valid_accuracy: 0.8034  |  0:02:34s\n",
      "epoch 27 | loss: 0.44806 | train_accuracy: 0.8105  | valid_accuracy: 0.80845 |  0:02:40s\n",
      "epoch 28 | loss: 0.44358 | train_accuracy: 0.81576 | valid_accuracy: 0.81279 |  0:02:46s\n",
      "epoch 29 | loss: 0.43564 | train_accuracy: 0.8207  | valid_accuracy: 0.81846 |  0:02:52s\n",
      "epoch 30 | loss: 0.43156 | train_accuracy: 0.82399 | valid_accuracy: 0.82069 |  0:02:58s\n",
      "epoch 31 | loss: 0.4282  | train_accuracy: 0.82582 | valid_accuracy: 0.82352 |  0:03:03s\n",
      "epoch 32 | loss: 0.42547 | train_accuracy: 0.83081 | valid_accuracy: 0.82724 |  0:03:09s\n",
      "epoch 33 | loss: 0.42079 | train_accuracy: 0.83182 | valid_accuracy: 0.82865 |  0:03:15s\n",
      "epoch 34 | loss: 0.41712 | train_accuracy: 0.83241 | valid_accuracy: 0.82937 |  0:03:20s\n",
      "epoch 35 | loss: 0.41909 | train_accuracy: 0.83219 | valid_accuracy: 0.82912 |  0:03:26s\n",
      "epoch 36 | loss: 0.41538 | train_accuracy: 0.83591 | valid_accuracy: 0.83269 |  0:03:32s\n",
      "epoch 37 | loss: 0.40923 | train_accuracy: 0.837   | valid_accuracy: 0.83414 |  0:03:38s\n",
      "epoch 38 | loss: 0.40879 | train_accuracy: 0.83941 | valid_accuracy: 0.83639 |  0:03:43s\n",
      "epoch 39 | loss: 0.4037  | train_accuracy: 0.84036 | valid_accuracy: 0.83622 |  0:03:49s\n",
      "epoch 40 | loss: 0.40275 | train_accuracy: 0.84197 | valid_accuracy: 0.83758 |  0:03:55s\n",
      "epoch 41 | loss: 0.40423 | train_accuracy: 0.84144 | valid_accuracy: 0.83659 |  0:04:00s\n",
      "epoch 42 | loss: 0.40044 | train_accuracy: 0.8432  | valid_accuracy: 0.83935 |  0:04:06s\n",
      "epoch 43 | loss: 0.39796 | train_accuracy: 0.84528 | valid_accuracy: 0.84141 |  0:04:12s\n",
      "epoch 44 | loss: 0.39647 | train_accuracy: 0.8437  | valid_accuracy: 0.83998 |  0:04:17s\n",
      "epoch 45 | loss: 0.39288 | train_accuracy: 0.84565 | valid_accuracy: 0.84121 |  0:04:23s\n",
      "epoch 46 | loss: 0.39965 | train_accuracy: 0.84333 | valid_accuracy: 0.83884 |  0:04:29s\n",
      "epoch 47 | loss: 0.39807 | train_accuracy: 0.84572 | valid_accuracy: 0.84106 |  0:04:35s\n",
      "epoch 48 | loss: 0.39572 | train_accuracy: 0.83895 | valid_accuracy: 0.83434 |  0:04:40s\n",
      "epoch 49 | loss: 0.40986 | train_accuracy: 0.83638 | valid_accuracy: 0.83197 |  0:04:46s\n",
      "epoch 50 | loss: 0.4009  | train_accuracy: 0.8453  | valid_accuracy: 0.84063 |  0:04:52s\n",
      "epoch 51 | loss: 0.39167 | train_accuracy: 0.8473  | valid_accuracy: 0.84303 |  0:04:58s\n",
      "epoch 52 | loss: 0.38627 | train_accuracy: 0.84856 | valid_accuracy: 0.84321 |  0:05:03s\n",
      "epoch 53 | loss: 0.38463 | train_accuracy: 0.8514  | valid_accuracy: 0.84583 |  0:05:09s\n",
      "epoch 54 | loss: 0.38008 | train_accuracy: 0.85384 | valid_accuracy: 0.84858 |  0:05:15s\n",
      "epoch 55 | loss: 0.37855 | train_accuracy: 0.85353 | valid_accuracy: 0.8489  |  0:05:20s\n",
      "epoch 56 | loss: 0.37535 | train_accuracy: 0.85608 | valid_accuracy: 0.85081 |  0:05:26s\n",
      "epoch 57 | loss: 0.37174 | train_accuracy: 0.85585 | valid_accuracy: 0.8509  |  0:05:32s\n",
      "epoch 58 | loss: 0.37158 | train_accuracy: 0.85613 | valid_accuracy: 0.85173 |  0:05:37s\n",
      "epoch 59 | loss: 0.37028 | train_accuracy: 0.85789 | valid_accuracy: 0.85324 |  0:05:43s\n",
      "epoch 60 | loss: 0.36871 | train_accuracy: 0.85729 | valid_accuracy: 0.85275 |  0:05:49s\n",
      "epoch 61 | loss: 0.3675  | train_accuracy: 0.85844 | valid_accuracy: 0.85303 |  0:05:55s\n",
      "epoch 62 | loss: 0.36626 | train_accuracy: 0.8591  | valid_accuracy: 0.85397 |  0:06:01s\n",
      "epoch 63 | loss: 0.36503 | train_accuracy: 0.85994 | valid_accuracy: 0.85454 |  0:06:06s\n",
      "epoch 64 | loss: 0.36398 | train_accuracy: 0.86061 | valid_accuracy: 0.85479 |  0:06:12s\n",
      "epoch 65 | loss: 0.36285 | train_accuracy: 0.86124 | valid_accuracy: 0.85533 |  0:06:18s\n",
      "epoch 66 | loss: 0.36049 | train_accuracy: 0.86218 | valid_accuracy: 0.85621 |  0:06:24s\n",
      "epoch 67 | loss: 0.35962 | train_accuracy: 0.86043 | valid_accuracy: 0.8555  |  0:06:30s\n",
      "epoch 68 | loss: 0.36072 | train_accuracy: 0.86117 | valid_accuracy: 0.85547 |  0:06:35s\n",
      "epoch 69 | loss: 0.35828 | train_accuracy: 0.85985 | valid_accuracy: 0.85401 |  0:06:41s\n",
      "epoch 70 | loss: 0.35936 | train_accuracy: 0.86198 | valid_accuracy: 0.85657 |  0:06:47s\n",
      "epoch 71 | loss: 0.35744 | train_accuracy: 0.86228 | valid_accuracy: 0.85708 |  0:06:52s\n",
      "epoch 72 | loss: 0.35592 | train_accuracy: 0.86256 | valid_accuracy: 0.85699 |  0:06:58s\n",
      "epoch 73 | loss: 0.35491 | train_accuracy: 0.86302 | valid_accuracy: 0.85721 |  0:07:04s\n",
      "epoch 74 | loss: 0.35391 | train_accuracy: 0.86326 | valid_accuracy: 0.85779 |  0:07:09s\n",
      "epoch 75 | loss: 0.35414 | train_accuracy: 0.86492 | valid_accuracy: 0.85845 |  0:07:15s\n",
      "epoch 76 | loss: 0.35327 | train_accuracy: 0.86496 | valid_accuracy: 0.85865 |  0:07:21s\n",
      "epoch 77 | loss: 0.35229 | train_accuracy: 0.8652  | valid_accuracy: 0.85905 |  0:07:27s\n",
      "epoch 78 | loss: 0.35173 | train_accuracy: 0.86585 | valid_accuracy: 0.85955 |  0:07:33s\n",
      "epoch 79 | loss: 0.35106 | train_accuracy: 0.86507 | valid_accuracy: 0.85958 |  0:07:38s\n",
      "epoch 80 | loss: 0.35074 | train_accuracy: 0.86502 | valid_accuracy: 0.85911 |  0:07:44s\n",
      "epoch 81 | loss: 0.35039 | train_accuracy: 0.86521 | valid_accuracy: 0.8593  |  0:07:50s\n",
      "epoch 82 | loss: 0.34939 | train_accuracy: 0.8657  | valid_accuracy: 0.85987 |  0:07:56s\n",
      "epoch 83 | loss: 0.34873 | train_accuracy: 0.86621 | valid_accuracy: 0.86007 |  0:08:02s\n",
      "epoch 84 | loss: 0.34829 | train_accuracy: 0.86652 | valid_accuracy: 0.86079 |  0:08:08s\n",
      "epoch 85 | loss: 0.34753 | train_accuracy: 0.86607 | valid_accuracy: 0.86014 |  0:08:13s\n",
      "epoch 86 | loss: 0.34767 | train_accuracy: 0.86663 | valid_accuracy: 0.86049 |  0:08:19s\n",
      "epoch 87 | loss: 0.34772 | train_accuracy: 0.8663  | valid_accuracy: 0.86006 |  0:08:25s\n",
      "epoch 88 | loss: 0.34739 | train_accuracy: 0.86674 | valid_accuracy: 0.86103 |  0:08:30s\n",
      "epoch 89 | loss: 0.34698 | train_accuracy: 0.86707 | valid_accuracy: 0.8611  |  0:08:36s\n",
      "epoch 90 | loss: 0.34634 | train_accuracy: 0.86793 | valid_accuracy: 0.86149 |  0:08:42s\n",
      "epoch 91 | loss: 0.34594 | train_accuracy: 0.86714 | valid_accuracy: 0.86093 |  0:08:47s\n",
      "epoch 92 | loss: 0.34635 | train_accuracy: 0.8684  | valid_accuracy: 0.86227 |  0:08:53s\n"
     ]
    },
    {
     "name": "stdout",
     "output_type": "stream",
     "text": [
      "epoch 93 | loss: 0.34567 | train_accuracy: 0.86745 | valid_accuracy: 0.86118 |  0:08:59s\n",
      "epoch 94 | loss: 0.34509 | train_accuracy: 0.86751 | valid_accuracy: 0.86151 |  0:09:05s\n",
      "epoch 95 | loss: 0.34447 | train_accuracy: 0.86766 | valid_accuracy: 0.86178 |  0:09:10s\n",
      "epoch 96 | loss: 0.34503 | train_accuracy: 0.86831 | valid_accuracy: 0.86187 |  0:09:16s\n",
      "epoch 97 | loss: 0.34385 | train_accuracy: 0.86809 | valid_accuracy: 0.86161 |  0:09:22s\n",
      "epoch 98 | loss: 0.34399 | train_accuracy: 0.86796 | valid_accuracy: 0.86178 |  0:09:27s\n",
      "epoch 99 | loss: 0.34412 | train_accuracy: 0.86842 | valid_accuracy: 0.86223 |  0:09:33s\n",
      "Stop training because you reached max_epochs = 100 with best_epoch = 92 and best_valid_accuracy = 0.86227\n"
     ]
    },
    {
     "name": "stderr",
     "output_type": "stream",
     "text": [
      "/work/pytorch_tabnet/callbacks.py:172: UserWarning: Best weights from best epoch are automatically used!\n",
      "  warnings.warn(wrn_msg)\n"
     ]
    }
   ],
   "source": [
    "clf.fit(\n",
    "    X_train=X_train, y_train=y_train,\n",
    "    eval_set=[(X_train, y_train), (X_valid, y_valid)],\n",
    "    eval_name=['train', 'valid'],\n",
    "    max_epochs=max_epochs, patience=100,\n",
    "    batch_size=16384, virtual_batch_size=2048,\n",
    "    mixed_precision=False\n",
    ") "
   ]
  },
  {
   "cell_type": "code",
   "execution_count": 12,
   "metadata": {},
   "outputs": [
    {
     "ename": "SyntaxError",
     "evalue": "invalid syntax (<ipython-input-12-97418754e051>, line 1)",
     "output_type": "error",
     "traceback": [
      "\u001b[0;36m  File \u001b[0;32m\"<ipython-input-12-97418754e051>\"\u001b[0;36m, line \u001b[0;32m1\u001b[0m\n\u001b[0;31m    no mixed precision\u001b[0m\n\u001b[0m           ^\u001b[0m\n\u001b[0;31mSyntaxError\u001b[0m\u001b[0;31m:\u001b[0m invalid syntax\n"
     ]
    }
   ],
   "source": [
    "no mixed precision\n",
    "epoch 0  | loss: 1.18026 | train_accuracy: 0.05225 | valid_accuracy: 0.05184 |  0:00:05s\n",
    "epoch 1  | loss: 0.72212 | train_accuracy: 0.05526 | valid_accuracy: 0.05463 |  0:00:11s\n",
    "epoch 2  | loss: 0.66789 | train_accuracy: 0.06352 | valid_accuracy: 0.06296 |  0:00:16s\n",
    "epoch 3  | loss: 0.64399 | train_accuracy: 0.06687 | valid_accuracy: 0.06616 |  0:00:22s\n",
    "epoch 4  | loss: 0.62573 | train_accuracy: 0.07494 | valid_accuracy: 0.07431 |  0:00:27s\n",
    "epoch 5  | loss: 0.61111 | train_accuracy: 0.10072 | valid_accuracy: 0.09982 |  0:00:33s\n",
    "epoch 6  | loss: 0.60135 | train_accuracy: 0.12704 | valid_accuracy: 0.12655 |  0:00:38s\n",
    "epoch 7  | loss: 0.59482 | train_accuracy: 0.14916 | valid_accuracy: 0.14848 |  0:00:44s\n",
    "epoch 8  | loss: 0.57626 | train_accuracy: 0.1892  | valid_accuracy: 0.1895  |  0:00:49s\n",
    "epoch 9  | loss: 0.5652  | train_accuracy: 0.24534 | valid_accuracy: 0.24436 |  0:00:55s\n",
    "Stop training because you reached max_epochs = 10 with best_epoch = 9 and best_valid_accuracy = 0.24436\n"
   ]
  },
  {
   "cell_type": "code",
   "execution_count": null,
   "metadata": {},
   "outputs": [],
   "source": [
    "epoch 0  | loss: 1.62946 | train_accuracy: 0.47121 | valid_accuracy: 0.46998 |  0:00:05s\n",
    "epoch 1  | loss: 0.84275 | train_accuracy: 0.44343 | valid_accuracy: 0.44265 |  0:00:11s\n",
    "epoch 2  | loss: 0.74182 | train_accuracy: 0.34433 | valid_accuracy: 0.34282 |  0:00:16s\n",
    "epoch 3  | loss: 0.70406 | train_accuracy: 0.36308 | valid_accuracy: 0.36312 |  0:00:22s\n",
    "epoch 4  | loss: 0.66785 | train_accuracy: 0.34933 | valid_accuracy: 0.35105 |  0:00:27s\n",
    "epoch 5  | loss: 0.63612 | train_accuracy: 0.37187 | valid_accuracy: 0.37215 |  0:00:33s\n",
    "epoch 6  | loss: 0.61824 | train_accuracy: 0.34983 | valid_accuracy: 0.34929 |  0:00:38s\n",
    "epoch 7  | loss: 0.60716 | train_accuracy: 0.39124 | valid_accuracy: 0.39228 |  0:00:44s\n",
    "epoch 8  | loss: 0.60422 | train_accuracy: 0.38846 | valid_accuracy: 0.3891  |  0:00:49s\n",
    "epoch 9  | loss: 0.60199 | train_accuracy: 0.44437 | valid_accuracy: 0.44475 |  0:00:55s\n",
    "epoch 10 | loss: 0.59844 | train_accuracy: 0.47141 | valid_accuracy: 0.47171 |  0:01:01s\n",
    "epoch 11 | loss: 0.5888  | train_accuracy: 0.49226 | valid_accuracy: 0.49278 |  0:01:06s\n",
    "epoch 12 | loss: 0.5784  | train_accuracy: 0.53464 | valid_accuracy: 0.53424 |  0:01:12s\n",
    "epoch 13 | loss: 0.57251 | train_accuracy: 0.56823 | valid_accuracy: 0.56693 |  0:01:17s\n",
    "epoch 14 | loss: 0.56808 | train_accuracy: 0.6078  | valid_accuracy: 0.60717 |  0:01:23s\n",
    "epoch 15 | loss: 0.57061 | train_accuracy: 0.65449 | valid_accuracy: 0.65291 |  0:01:28s\n",
    "epoch 16 | loss: 0.55801 | train_accuracy: 0.68168 | valid_accuracy: 0.68079 |  0:01:34s\n",
    "epoch 17 | loss: 0.55119 | train_accuracy: 0.69452 | valid_accuracy: 0.69401 |  0:01:39s\n",
    "epoch 18 | loss: 0.54191 | train_accuracy: 0.71516 | valid_accuracy: 0.71452 |  0:01:45s\n",
    "epoch 19 | loss: 0.541   | train_accuracy: 0.72662 | valid_accuracy: 0.7252  |  0:01:51s\n",
    "epoch 20 | loss: 0.5372  | train_accuracy: 0.74042 | valid_accuracy: 0.73939 |  0:01:56s\n",
    "epoch 21 | loss: 0.52811 | train_accuracy: 0.74999 | valid_accuracy: 0.74764 |  0:02:02s\n",
    "epoch 22 | loss: 0.5228  | train_accuracy: 0.75533 | valid_accuracy: 0.75354 |  0:02:07s\n",
    "epoch 23 | loss: 0.51944 | train_accuracy: 0.76728 | valid_accuracy: 0.76503 |  0:02:13s\n",
    "epoch 24 | loss: 0.51691 | train_accuracy: 0.76939 | valid_accuracy: 0.76745 |  0:02:18s\n",
    "epoch 25 | loss: 0.51027 | train_accuracy: 0.77586 | valid_accuracy: 0.7734  |  0:02:24s\n",
    "epoch 26 | loss: 0.50655 | train_accuracy: 0.77766 | valid_accuracy: 0.77435 |  0:02:29s\n",
    "epoch 27 | loss: 0.50238 | train_accuracy: 0.78135 | valid_accuracy: 0.77854 |  0:02:35s\n",
    "epoch 28 | loss: 0.49799 | train_accuracy: 0.78715 | valid_accuracy: 0.78467 |  0:02:40s\n",
    "epoch 29 | loss: 0.49501 | train_accuracy: 0.78662 | valid_accuracy: 0.78479 |  0:02:46s\n",
    "epoch 30 | loss: 0.49317 | train_accuracy: 0.78916 | valid_accuracy: 0.78605 |  0:02:52s\n",
    "epoch 31 | loss: 0.49016 | train_accuracy: 0.79215 | valid_accuracy: 0.78833 |  0:02:57s\n",
    "epoch 32 | loss: 0.4871  | train_accuracy: 0.79384 | valid_accuracy: 0.78982 |  0:03:03s\n",
    "epoch 33 | loss: 0.48153 | train_accuracy: 0.79845 | valid_accuracy: 0.7948  |  0:03:08s\n",
    "epoch 34 | loss: 0.47868 | train_accuracy: 0.79749 | valid_accuracy: 0.79417 |  0:03:14s\n",
    "epoch 35 | loss: 0.47837 | train_accuracy: 0.79813 | valid_accuracy: 0.79485 |  0:03:20s\n",
    "epoch 36 | loss: 0.48494 | train_accuracy: 0.79583 | valid_accuracy: 0.79246 |  0:03:25s\n",
    "epoch 37 | loss: 0.47763 | train_accuracy: 0.80158 | valid_accuracy: 0.79738 |  0:03:31s\n",
    "epoch 38 | loss: 0.46918 | train_accuracy: 0.80414 | valid_accuracy: 0.79956 |  0:03:36s\n",
    "epoch 39 | loss: 0.46376 | train_accuracy: 0.80906 | valid_accuracy: 0.80508 |  0:03:42s\n",
    "epoch 40 | loss: 0.45897 | train_accuracy: 0.81105 | valid_accuracy: 0.80619 |  0:03:48s\n",
    "epoch 41 | loss: 0.45522 | train_accuracy: 0.81318 | valid_accuracy: 0.80877 |  0:03:53s\n",
    "epoch 42 | loss: 0.45178 | train_accuracy: 0.81499 | valid_accuracy: 0.81054 |  0:03:59s\n",
    "epoch 43 | loss: 0.44998 | train_accuracy: 0.817   | valid_accuracy: 0.81201 |  0:04:04s\n",
    "epoch 44 | loss: 0.44837 | train_accuracy: 0.81578 | valid_accuracy: 0.81031 |  0:04:10s\n",
    "epoch 45 | loss: 0.44559 | train_accuracy: 0.81898 | valid_accuracy: 0.81469 |  0:04:16s\n",
    "epoch 46 | loss: 0.44294 | train_accuracy: 0.82016 | valid_accuracy: 0.81516 |  0:04:21s\n",
    "epoch 47 | loss: 0.44021 | train_accuracy: 0.82089 | valid_accuracy: 0.81531 |  0:04:27s\n",
    "epoch 48 | loss: 0.4374  | train_accuracy: 0.82238 | valid_accuracy: 0.81725 |  0:04:32s\n",
    "epoch 49 | loss: 0.43614 | train_accuracy: 0.82236 | valid_accuracy: 0.81749 |  0:04:38s\n",
    "epoch 50 | loss: 0.43641 | train_accuracy: 0.82131 | valid_accuracy: 0.81633 |  0:04:43s\n",
    "epoch 51 | loss: 0.43356 | train_accuracy: 0.8231  | valid_accuracy: 0.81807 |  0:04:49s\n",
    "epoch 52 | loss: 0.43491 | train_accuracy: 0.82482 | valid_accuracy: 0.81918 |  0:04:54s\n",
    "epoch 53 | loss: 0.43073 | train_accuracy: 0.82402 | valid_accuracy: 0.81975 |  0:05:00s\n",
    "epoch 54 | loss: 0.4311  | train_accuracy: 0.82558 | valid_accuracy: 0.82035 |  0:05:06s\n",
    "epoch 55 | loss: 0.42898 | train_accuracy: 0.82576 | valid_accuracy: 0.82084 |  0:05:11s\n",
    "epoch 56 | loss: 0.42605 | train_accuracy: 0.82747 | valid_accuracy: 0.82216 |  0:05:17s\n",
    "epoch 57 | loss: 0.42523 | train_accuracy: 0.82792 | valid_accuracy: 0.82297 |  0:05:22s\n",
    "epoch 58 | loss: 0.42374 | train_accuracy: 0.82854 | valid_accuracy: 0.82361 |  0:05:28s\n",
    "epoch 59 | loss: 0.42286 | train_accuracy: 0.83027 | valid_accuracy: 0.8245  |  0:05:33s\n",
    "epoch 60 | loss: 0.42026 | train_accuracy: 0.82984 | valid_accuracy: 0.82491 |  0:05:39s\n",
    "epoch 61 | loss: 0.4193  | train_accuracy: 0.82945 | valid_accuracy: 0.82457 |  0:05:44s\n",
    "epoch 62 | loss: 0.41782 | train_accuracy: 0.83085 | valid_accuracy: 0.82583 |  0:05:50s\n",
    "epoch 63 | loss: 0.41707 | train_accuracy: 0.83164 | valid_accuracy: 0.82637 |  0:05:55s\n",
    "epoch 64 | loss: 0.41711 | train_accuracy: 0.83287 | valid_accuracy: 0.82795 |  0:06:01s\n",
    "epoch 65 | loss: 0.41542 | train_accuracy: 0.83276 | valid_accuracy: 0.82764 |  0:06:06s\n",
    "epoch 66 | loss: 0.41468 | train_accuracy: 0.83267 | valid_accuracy: 0.82752 |  0:06:12s\n",
    "epoch 67 | loss: 0.41376 | train_accuracy: 0.8329  | valid_accuracy: 0.82774 |  0:06:18s\n",
    "epoch 68 | loss: 0.41365 | train_accuracy: 0.83185 | valid_accuracy: 0.82677 |  0:06:23s\n",
    "epoch 69 | loss: 0.4129  | train_accuracy: 0.83356 | valid_accuracy: 0.82779 |  0:06:29s\n",
    "epoch 70 | loss: 0.41196 | train_accuracy: 0.83321 | valid_accuracy: 0.82827 |  0:06:34s\n",
    "epoch 71 | loss: 0.41163 | train_accuracy: 0.83358 | valid_accuracy: 0.82876 |  0:06:40s\n",
    "epoch 72 | loss: 0.41223 | train_accuracy: 0.83365 | valid_accuracy: 0.82881 |  0:06:45s\n",
    "epoch 73 | loss: 0.41025 | train_accuracy: 0.83525 | valid_accuracy: 0.83012 |  0:06:51s\n",
    "epoch 74 | loss: 0.40895 | train_accuracy: 0.83477 | valid_accuracy: 0.82986 |  0:06:57s\n",
    "epoch 75 | loss: 0.40942 | train_accuracy: 0.8363  | valid_accuracy: 0.83077 |  0:07:02s\n",
    "epoch 76 | loss: 0.40804 | train_accuracy: 0.83549 | valid_accuracy: 0.83113 |  0:07:08s\n",
    "epoch 77 | loss: 0.40784 | train_accuracy: 0.83659 | valid_accuracy: 0.83153 |  0:07:13s\n",
    "epoch 78 | loss: 0.40672 | train_accuracy: 0.8369  | valid_accuracy: 0.83158 |  0:07:19s\n",
    "epoch 79 | loss: 0.40761 | train_accuracy: 0.83454 | valid_accuracy: 0.82975 |  0:07:25s\n",
    "epoch 80 | loss: 0.4083  | train_accuracy: 0.83638 | valid_accuracy: 0.83141 |  0:07:30s\n",
    "epoch 81 | loss: 0.40877 | train_accuracy: 0.8334  | valid_accuracy: 0.82804 |  0:07:36s\n",
    "epoch 82 | loss: 0.40934 | train_accuracy: 0.83634 | valid_accuracy: 0.83082 |  0:07:42s\n",
    "epoch 83 | loss: 0.40639 | train_accuracy: 0.83599 | valid_accuracy: 0.83093 |  0:07:47s\n",
    "epoch 84 | loss: 0.40534 | train_accuracy: 0.83705 | valid_accuracy: 0.83203 |  0:07:53s\n",
    "epoch 85 | loss: 0.40572 | train_accuracy: 0.83578 | valid_accuracy: 0.8302  |  0:07:58s\n",
    "epoch 86 | loss: 0.40767 | train_accuracy: 0.83523 | valid_accuracy: 0.83003 |  0:08:04s\n",
    "epoch 87 | loss: 0.40642 | train_accuracy: 0.83631 | valid_accuracy: 0.83143 |  0:08:09s\n",
    "epoch 88 | loss: 0.40331 | train_accuracy: 0.83703 | valid_accuracy: 0.83179 |  0:08:15s\n",
    "epoch 89 | loss: 0.40398 | train_accuracy: 0.83662 | valid_accuracy: 0.83138 |  0:08:21s\n",
    "epoch 90 | loss: 0.40426 | train_accuracy: 0.83821 | valid_accuracy: 0.83324 |  0:08:26s\n",
    "epoch 91 | loss: 0.40181 | train_accuracy: 0.83872 | valid_accuracy: 0.83323 |  0:08:32s\n",
    "epoch 92 | loss: 0.40314 | train_accuracy: 0.8388  | valid_accuracy: 0.83278 |  0:08:38s\n",
    "\n",
    "epoch 93 | loss: 0.40221 | train_accuracy: 0.83754 | valid_accuracy: 0.83235 |  0:08:43s\n",
    "epoch 94 | loss: 0.40202 | train_accuracy: 0.83791 | valid_accuracy: 0.8324  |  0:08:49s\n",
    "epoch 95 | loss: 0.40125 | train_accuracy: 0.83873 | valid_accuracy: 0.83332 |  0:08:54s\n",
    "epoch 96 | loss: 0.40122 | train_accuracy: 0.83866 | valid_accuracy: 0.83323 |  0:09:00s\n",
    "epoch 97 | loss: 0.4009  | train_accuracy: 0.83901 | valid_accuracy: 0.83336 |  0:09:06s\n",
    "epoch 98 | loss: 0.40075 | train_accuracy: 0.83903 | valid_accuracy: 0.83343 |  0:09:11s\n",
    "epoch 99 | loss: 0.40264 | train_accuracy: 0.83874 | valid_accuracy: 0.833   |  0:09:17s\n",
    "Stop training because you reached max_epochs = 100 with best_epoch = 98 and best_valid_accuracy = 0.83343\n"
   ]
  },
  {
   "cell_type": "code",
   "execution_count": null,
   "metadata": {},
   "outputs": [],
   "source": [
    "# plot losses\n",
    "plt.plot(clf.history['loss'])"
   ]
  },
  {
   "cell_type": "code",
   "execution_count": null,
   "metadata": {},
   "outputs": [],
   "source": [
    "# plot accuracy\n",
    "plt.plot(clf.history['train_accuracy'])\n",
    "plt.plot(clf.history['valid_accuracy'])"
   ]
  },
  {
   "cell_type": "markdown",
   "metadata": {},
   "source": [
    "### Predictions\n"
   ]
  },
  {
   "cell_type": "code",
   "execution_count": null,
   "metadata": {},
   "outputs": [],
   "source": [
    "# To get final results you may need to use a mapping for classes \n",
    "# as you are allowed to use targets like [\"yes\", \"no\", \"maybe\", \"I don't know\"]\n",
    "\n",
    "preds_mapper = { idx : class_name for idx, class_name in enumerate(clf.classes_)}\n",
    "\n",
    "preds = clf.predict_proba(X_test)\n",
    "\n",
    "y_pred = np.vectorize(preds_mapper.get)(np.argmax(preds, axis=1))\n",
    "\n",
    "test_acc = accuracy_score(y_pred=y_pred, y_true=y_test)\n",
    "\n",
    "print(f\"BEST VALID SCORE FOR {dataset_name} : {clf.best_cost}\")\n",
    "print(f\"FINAL TEST SCORE FOR {dataset_name} : {test_acc}\")"
   ]
  },
  {
   "cell_type": "code",
   "execution_count": null,
   "metadata": {},
   "outputs": [],
   "source": [
    "# or you can simply use the predict method\n",
    "\n",
    "y_pred = clf.predict(X_test)\n",
    "test_acc = accuracy_score(y_pred=y_pred, y_true=y_test)\n",
    "print(f\"FINAL TEST SCORE FOR {dataset_name} : {test_acc}\")"
   ]
  },
  {
   "cell_type": "markdown",
   "metadata": {},
   "source": [
    "# Save and load Model"
   ]
  },
  {
   "cell_type": "code",
   "execution_count": null,
   "metadata": {},
   "outputs": [],
   "source": [
    "# save state dict\n",
    "saved_filename = clf.save_model('test_model')"
   ]
  },
  {
   "cell_type": "code",
   "execution_count": null,
   "metadata": {},
   "outputs": [],
   "source": [
    "# define new model and load save parameters\n",
    "loaded_clf = TabNetClassifier()\n",
    "loaded_clf.load_model(saved_filename)"
   ]
  },
  {
   "cell_type": "code",
   "execution_count": null,
   "metadata": {},
   "outputs": [],
   "source": [
    "loaded_preds = loaded_clf.predict_proba(X_test)\n",
    "loaded_y_pred = np.vectorize(preds_mapper.get)(np.argmax(loaded_preds, axis=1))\n",
    "\n",
    "loaded_test_acc = accuracy_score(y_pred=loaded_y_pred, y_true=y_test)\n",
    "\n",
    "print(f\"FINAL TEST SCORE FOR {dataset_name} : {loaded_test_acc}\")"
   ]
  },
  {
   "cell_type": "code",
   "execution_count": null,
   "metadata": {},
   "outputs": [],
   "source": [
    "assert(test_acc == loaded_test_acc)"
   ]
  },
  {
   "cell_type": "markdown",
   "metadata": {},
   "source": [
    "# Global explainability : feat importance summing to 1"
   ]
  },
  {
   "cell_type": "code",
   "execution_count": null,
   "metadata": {},
   "outputs": [],
   "source": [
    "clf.feature_importances_"
   ]
  },
  {
   "cell_type": "markdown",
   "metadata": {},
   "source": [
    "# Local explainability and masks"
   ]
  },
  {
   "cell_type": "code",
   "execution_count": null,
   "metadata": {},
   "outputs": [],
   "source": [
    "explain_matrix, masks = clf.explain(X_test)"
   ]
  },
  {
   "cell_type": "code",
   "execution_count": null,
   "metadata": {},
   "outputs": [],
   "source": [
    "fig, axs = plt.subplots(1, 5, figsize=(20,20))\n",
    "\n",
    "for i in range(5):\n",
    "    axs[i].imshow(masks[i][:50])\n",
    "    axs[i].set_title(f\"mask {i}\")"
   ]
  },
  {
   "cell_type": "markdown",
   "metadata": {},
   "source": [
    "# XGB"
   ]
  },
  {
   "cell_type": "code",
   "execution_count": null,
   "metadata": {},
   "outputs": [],
   "source": [
    "n_estimators = 1000 if not os.getenv(\"CI\", False) else 20"
   ]
  },
  {
   "cell_type": "code",
   "execution_count": null,
   "metadata": {
    "scrolled": true
   },
   "outputs": [],
   "source": [
    "from xgboost import XGBClassifier\n",
    "\n",
    "clf_xgb = XGBClassifier(max_depth=8,\n",
    "    learning_rate=0.1,\n",
    "    n_estimators=n_estimators,\n",
    "    verbosity=0,\n",
    "    silent=None,\n",
    "    objective=\"multi:softmax\",\n",
    "    booster='gbtree',\n",
    "    n_jobs=-1,\n",
    "    nthread=None,\n",
    "    gamma=0,\n",
    "    min_child_weight=1,\n",
    "    max_delta_step=0,\n",
    "    subsample=0.7,\n",
    "    colsample_bytree=1,\n",
    "    colsample_bylevel=1,\n",
    "    colsample_bynode=1,\n",
    "    reg_alpha=0,\n",
    "    reg_lambda=1,\n",
    "    scale_pos_weight=1,\n",
    "    base_score=0.5,\n",
    "    random_state=0,\n",
    "    seed=None,)\n",
    "\n",
    "clf_xgb.fit(X_train, y_train,\n",
    "            eval_set=[(X_valid, y_valid)],\n",
    "            early_stopping_rounds=40,\n",
    "            verbose=10)"
   ]
  },
  {
   "cell_type": "code",
   "execution_count": null,
   "metadata": {},
   "outputs": [],
   "source": [
    "preds_valid = np.array(clf_xgb.predict_proba(X_valid, ))\n",
    "valid_acc = accuracy_score(y_pred=np.argmax(preds_valid, axis=1) + 1, y_true=y_valid)\n",
    "print(valid_acc)\n",
    "\n",
    "preds_test = np.array(clf_xgb.predict_proba(X_test))\n",
    "test_acc = accuracy_score(y_pred=np.argmax(preds_test, axis=1) + 1, y_true=y_test)\n",
    "print(test_acc)"
   ]
  },
  {
   "cell_type": "code",
   "execution_count": null,
   "metadata": {},
   "outputs": [],
   "source": []
  }
 ],
 "metadata": {
  "kernelspec": {
   "display_name": "Python 3",
   "language": "python",
   "name": "python3"
  },
  "language_info": {
   "codemirror_mode": {
    "name": "ipython",
    "version": 3
   },
   "file_extension": ".py",
   "mimetype": "text/x-python",
   "name": "python",
   "nbconvert_exporter": "python",
   "pygments_lexer": "ipython3",
   "version": "3.7.5"
  },
  "toc": {
   "base_numbering": 1,
   "nav_menu": {},
   "number_sections": true,
   "sideBar": true,
   "skip_h1_title": false,
   "title_cell": "Table of Contents",
   "title_sidebar": "Contents",
   "toc_cell": false,
   "toc_position": {},
   "toc_section_display": true,
   "toc_window_display": false
  }
 },
 "nbformat": 4,
 "nbformat_minor": 2
}
