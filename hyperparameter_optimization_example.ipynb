{
 "cells": [
  {
   "cell_type": "code",
   "execution_count": 1,
   "metadata": {},
   "outputs": [],
   "source": [
    "from pytorch_tabnet.tab_model import TabNetClassifier\n",
    "\n",
    "import torch\n",
    "from sklearn.preprocessing import LabelEncoder\n",
    "from sklearn.metrics import roc_auc_score\n",
    "from sklearn.model_selection import RandomizedSearchCV, train_test_split\n",
    "import pandas as pd\n",
    "import numpy as np\n",
    "np.random.seed(0)\n",
    "\n",
    "\n",
    "import os\n",
    "import wget\n",
    "from pathlib import Path"
   ]
  },
  {
   "cell_type": "markdown",
   "metadata": {},
   "source": [
    "# Download census-income dataset"
   ]
  },
  {
   "cell_type": "code",
   "execution_count": 2,
   "metadata": {},
   "outputs": [],
   "source": [
    "url = \"https://archive.ics.uci.edu/ml/machine-learning-databases/adult/adult.data\"\n",
    "dataset_name = 'census-income'\n",
    "out = Path(os.getcwd()+'/data/'+dataset_name+'.csv')"
   ]
  },
  {
   "cell_type": "code",
   "execution_count": 3,
   "metadata": {},
   "outputs": [
    {
     "name": "stdout",
     "output_type": "stream",
     "text": [
      "File already exists.\n"
     ]
    }
   ],
   "source": [
    "out.parent.mkdir(parents=True, exist_ok=True)\n",
    "if out.exists():\n",
    "    print(\"File already exists.\")\n",
    "else:\n",
    "    print(\"Downloading file...\")\n",
    "    wget.download(url, out.as_posix())"
   ]
  },
  {
   "cell_type": "markdown",
   "metadata": {},
   "source": [
    "# Load data and split"
   ]
  },
  {
   "cell_type": "code",
   "execution_count": 4,
   "metadata": {},
   "outputs": [],
   "source": [
    "train = pd.read_csv(out)\n",
    "target = ' <=50K'\n",
    "if \"Set\" not in train.columns:\n",
    "    train[\"Set\"] = np.random.choice([\"train\", \"valid\", \"test\"], p =[.8, .1, .1], size=(train.shape[0],))\n",
    "\n",
    "train_indices = train[train.Set==\"train\"].index\n",
    "valid_indices = train[train.Set==\"valid\"].index\n",
    "test_indices = train[train.Set==\"test\"].index"
   ]
  },
  {
   "cell_type": "markdown",
   "metadata": {},
   "source": [
    "# Simple preprocessing\n",
    "\n",
    "Label encode categorical features and fill empty cells."
   ]
  },
  {
   "cell_type": "code",
   "execution_count": 5,
   "metadata": {},
   "outputs": [
    {
     "name": "stdout",
     "output_type": "stream",
     "text": [
      " State-gov 9\n",
      " Bachelors 16\n",
      " Never-married 7\n",
      " Adm-clerical 15\n",
      " Not-in-family 6\n",
      " White 5\n",
      " Male 2\n",
      " United-States 42\n",
      " <=50K 2\n",
      "Set 3\n"
     ]
    }
   ],
   "source": [
    "categorical_columns = []\n",
    "categorical_dims =  {}\n",
    "for col in train.columns[train.dtypes == object]:\n",
    "    print(col, train[col].nunique())\n",
    "    l_enc = LabelEncoder()\n",
    "    train[col] = train[col].fillna(\"VV_likely\")\n",
    "    train[col] = l_enc.fit_transform(train[col].values)\n",
    "    categorical_columns.append(col)\n",
    "    categorical_dims[col] = len(l_enc.classes_)\n",
    "\n",
    "for col in train.columns[train.dtypes == 'float64']:\n",
    "    train.fillna(train.loc[train_indices, col].mean(), inplace=True)"
   ]
  },
  {
   "cell_type": "markdown",
   "metadata": {},
   "source": [
    "# Define categorical features for categorical embeddings"
   ]
  },
  {
   "cell_type": "code",
   "execution_count": 6,
   "metadata": {},
   "outputs": [],
   "source": [
    "unused_feat = ['Set']\n",
    "\n",
    "features = [ col for col in train.columns if col not in unused_feat+[target]] \n",
    "\n",
    "cat_idxs = [ i for i, f in enumerate(features) if f in categorical_columns]\n",
    "\n",
    "cat_dims = [ categorical_dims[f] for i, f in enumerate(features) if f in categorical_columns]\n",
    "\n",
    "# define your embedding sizes : here just a random choice\n",
    "cat_emb_dim = [5, 4, 3, 6, 2, 2, 1, 10]"
   ]
  },
  {
   "cell_type": "markdown",
   "metadata": {},
   "source": [
    "# Hyperparameter optimization\n",
    "\n",
    "In this section, we will build a wrapper around the TabNetClassifier which supports early stopping."
   ]
  },
  {
   "cell_type": "code",
   "execution_count": 7,
   "metadata": {},
   "outputs": [],
   "source": [
    "X = train[features].values\n",
    "y = train[target].values"
   ]
  },
  {
   "cell_type": "code",
   "execution_count": 8,
   "metadata": {},
   "outputs": [],
   "source": [
    "num_workers = os.cpu_count() if torch.cuda.is_available() else 0"
   ]
  },
  {
   "cell_type": "code",
   "execution_count": 9,
   "metadata": {},
   "outputs": [],
   "source": [
    "class TabNetTuner(TabNetClassifier):\n",
    "    def fit(self, X, y, *args, **kwargs):\n",
    "        # Dirty trick => would be better to add n_d in grid, or fix it in __init__ of tuner\n",
    "        self.n_d = self.n_a\n",
    "        X_train, X_valid, y_train, y_valid = train_test_split(\n",
    "            X, y, test_size=0.2, random_state=0, shuffle=True, stratify=y\n",
    "        )\n",
    "        \n",
    "        return super().fit(\n",
    "            X_train,\n",
    "            y_train,\n",
    "            patience=20,\n",
    "            eval_set=[(X_valid, y_valid)],\n",
    "            num_workers=num_workers,\n",
    "            max_epochs=1000,\n",
    "            batch_size=1024,\n",
    "            virtual_batch_size=128\n",
    "        )"
   ]
  },
  {
   "cell_type": "code",
   "execution_count": 10,
   "metadata": {},
   "outputs": [
    {
     "name": "stdout",
     "output_type": "stream",
     "text": [
      "Device used : cpu\n"
     ]
    }
   ],
   "source": [
    "clf = TabNetTuner(cat_dims=cat_dims, cat_emb_dim=cat_emb_dim, cat_idxs=cat_idxs)"
   ]
  },
  {
   "cell_type": "code",
   "execution_count": 11,
   "metadata": {},
   "outputs": [
    {
     "data": {
      "text/plain": [
       "[[1, 1, 1, 1, 1, 1, 1, 1],\n",
       " [4, 5, 3, 5, 3, 2, 1, 5],\n",
       " [4, 8, 3, 7, 3, 2, 1, 10],\n",
       " [4, 8, 3, 7, 3, 2, 1, 20],\n",
       " [4, 8, 3, 7, 3, 2, 1, 21]]"
      ]
     },
     "execution_count": 11,
     "metadata": {},
     "output_type": "execute_result"
    }
   ],
   "source": [
    "# Let's generate embedding size based on cat dims\n",
    "cat_emb_dim_list = []\n",
    "for max_dim in [1, 5, 10, 20, 50]:\n",
    "    cat_emb_dim_list.append([min(nb // 2, max_dim) for nb in cat_dims])\n",
    "cat_emb_dim_list"
   ]
  },
  {
   "cell_type": "code",
   "execution_count": 12,
   "metadata": {},
   "outputs": [],
   "source": [
    "grid = {\n",
    "    \"n_a\": [3, 5, 8, 13, 21],\n",
    "    \"cat_emb_dim\": cat_emb_dim_list,\n",
    "    \"n_independent\": [0, 1, 2, 5],\n",
    "    \"n_shared\": [0, 1, 2],\n",
    "    \"n_steps\": [1, 3, 5, 8],\n",
    "    \"clip_value\": [1],\n",
    "    \"gamma\": [0.5, 1.3, 3],\n",
    "    \"momentum\": [0.1, 0.05, 0.02, 0.005],\n",
    "    \"lambda_sparse\": [0.1, 0.01, 0.001],\n",
    "    \"optimizer_params\": [\n",
    "        {'lr': 0.01}, \n",
    "        {'lr': 0.02}, \n",
    "        {'lr': 0.001}],\n",
    "    \"verbose\": [0]\n",
    "}"
   ]
  },
  {
   "cell_type": "code",
   "execution_count": 13,
   "metadata": {},
   "outputs": [],
   "source": [
    "search = RandomizedSearchCV(\n",
    "    clf,\n",
    "    grid,\n",
    "    n_iter=5,\n",
    "    scoring=\"roc_auc\",\n",
    "    n_jobs=1,\n",
    "    refit=False,\n",
    "    cv=3,\n",
    "    verbose=1,\n",
    "    pre_dispatch=0,\n",
    "    random_state=0,\n",
    "    return_train_score=False,\n",
    ")"
   ]
  },
  {
   "cell_type": "code",
   "execution_count": 14,
   "metadata": {},
   "outputs": [
    {
     "name": "stdout",
     "output_type": "stream",
     "text": [
      "Device used : cpu\n",
      "Fitting 3 folds for each of 5 candidates, totalling 15 fits\n",
      "Device used : cpu\n",
      "\n",
      "Early stopping occurred at epoch 39 with best_epoch = 19 and best_val_0_auc = 0.89068\n",
      "Best weights from best epoch are automatically used!\n",
      "Device used : cpu\n",
      "\n",
      "Early stopping occurred at epoch 48 with best_epoch = 28 and best_val_0_auc = 0.89069\n",
      "Best weights from best epoch are automatically used!\n",
      "Device used : cpu\n",
      "\n",
      "Early stopping occurred at epoch 37 with best_epoch = 17 and best_val_0_auc = 0.89179\n",
      "Best weights from best epoch are automatically used!\n",
      "Device used : cpu\n",
      "\n",
      "Early stopping occurred at epoch 123 with best_epoch = 103 and best_val_0_auc = 0.89602\n",
      "Best weights from best epoch are automatically used!\n",
      "Device used : cpu\n",
      "\n",
      "Early stopping occurred at epoch 132 with best_epoch = 112 and best_val_0_auc = 0.90382\n",
      "Best weights from best epoch are automatically used!\n",
      "Device used : cpu\n",
      "\n",
      "Early stopping occurred at epoch 73 with best_epoch = 53 and best_val_0_auc = 0.89494\n",
      "Best weights from best epoch are automatically used!\n",
      "Device used : cpu\n",
      "\n",
      "Early stopping occurred at epoch 57 with best_epoch = 37 and best_val_0_auc = 0.90484\n",
      "Best weights from best epoch are automatically used!\n",
      "Device used : cpu\n",
      "\n",
      "Early stopping occurred at epoch 38 with best_epoch = 18 and best_val_0_auc = 0.8917\n",
      "Best weights from best epoch are automatically used!\n",
      "Device used : cpu\n",
      "\n",
      "Early stopping occurred at epoch 60 with best_epoch = 40 and best_val_0_auc = 0.90999\n",
      "Best weights from best epoch are automatically used!\n",
      "Device used : cpu\n",
      "\n",
      "Early stopping occurred at epoch 42 with best_epoch = 22 and best_val_0_auc = 0.9032\n",
      "Best weights from best epoch are automatically used!\n",
      "Device used : cpu\n",
      "\n",
      "Early stopping occurred at epoch 59 with best_epoch = 39 and best_val_0_auc = 0.8988\n",
      "Best weights from best epoch are automatically used!\n",
      "Device used : cpu\n",
      "\n",
      "Early stopping occurred at epoch 62 with best_epoch = 42 and best_val_0_auc = 0.90135\n",
      "Best weights from best epoch are automatically used!\n",
      "Device used : cpu\n",
      "\n",
      "Early stopping occurred at epoch 100 with best_epoch = 80 and best_val_0_auc = 0.89819\n",
      "Best weights from best epoch are automatically used!\n",
      "Device used : cpu\n",
      "\n",
      "Early stopping occurred at epoch 113 with best_epoch = 93 and best_val_0_auc = 0.89669\n",
      "Best weights from best epoch are automatically used!\n",
      "Device used : cpu\n",
      "\n",
      "Early stopping occurred at epoch 120 with best_epoch = 100 and best_val_0_auc = 0.89116\n",
      "Best weights from best epoch are automatically used!\n"
     ]
    },
    {
     "data": {
      "text/plain": [
       "{'verbose': 0,\n",
       " 'optimizer_params': {'lr': 0.02},\n",
       " 'n_steps': 1,\n",
       " 'n_shared': 2,\n",
       " 'n_independent': 5,\n",
       " 'n_a': 3,\n",
       " 'momentum': 0.005,\n",
       " 'lambda_sparse': 0.001,\n",
       " 'gamma': 1.3,\n",
       " 'clip_value': 1,\n",
       " 'cat_emb_dim': [4, 5, 3, 5, 3, 2, 1, 5]}"
      ]
     },
     "execution_count": 14,
     "metadata": {},
     "output_type": "execute_result"
    }
   ],
   "source": [
    "search.fit(X, y)\n",
    "search.best_params_"
   ]
  },
  {
   "cell_type": "code",
   "execution_count": 15,
   "metadata": {},
   "outputs": [],
   "source": [
    "clf = TabNetClassifier(cat_idxs=cat_idxs, cat_dims=cat_dims, **search.best_params_)"
   ]
  },
  {
   "cell_type": "code",
   "execution_count": 16,
   "metadata": {},
   "outputs": [
    {
     "name": "stdout",
     "output_type": "stream",
     "text": [
      "\n",
      "Early stopping occurred at epoch 51 with best_epoch = 31 and best_val_0_auc = 0.91778\n",
      "Best weights from best epoch are automatically used!\n"
     ]
    }
   ],
   "source": [
    "clf.fit(\n",
    "    X[train_indices],\n",
    "    y[train_indices],\n",
    "    patience=20,\n",
    "    eval_set=[(X[valid_indices], y[valid_indices])]\n",
    ")"
   ]
  },
  {
   "cell_type": "code",
   "execution_count": 17,
   "metadata": {},
   "outputs": [],
   "source": [
    "preds = clf.predict_proba(X[test_indices])[:, 1]"
   ]
  },
  {
   "cell_type": "code",
   "execution_count": 18,
   "metadata": {},
   "outputs": [
    {
     "data": {
      "text/plain": [
       "0.9132824517203846"
      ]
     },
     "execution_count": 18,
     "metadata": {},
     "output_type": "execute_result"
    }
   ],
   "source": [
    "roc_auc_score(y_score=preds, y_true=y[test_indices])"
   ]
  },
  {
   "cell_type": "code",
   "execution_count": null,
   "metadata": {},
   "outputs": [],
   "source": []
  }
 ],
 "metadata": {
  "kernelspec": {
   "display_name": "Python 3 (ipykernel)",
   "language": "python",
   "name": "python3"
  },
  "language_info": {
   "codemirror_mode": {
    "name": "ipython",
    "version": 3
   },
   "file_extension": ".py",
   "mimetype": "text/x-python",
   "name": "python",
   "nbconvert_exporter": "python",
   "pygments_lexer": "ipython3",
   "version": "3.8.12"
  },
  "toc": {
   "base_numbering": 1,
   "nav_menu": {},
   "number_sections": true,
   "sideBar": true,
   "skip_h1_title": false,
   "title_cell": "Table of Contents",
   "title_sidebar": "Contents",
   "toc_cell": false,
   "toc_position": {},
   "toc_section_display": true,
   "toc_window_display": false
  }
 },
 "nbformat": 4,
 "nbformat_minor": 2
}
